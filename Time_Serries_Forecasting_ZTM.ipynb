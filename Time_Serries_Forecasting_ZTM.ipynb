{
  "nbformat": 4,
  "nbformat_minor": 0,
  "metadata": {
    "colab": {
      "provenance": [],
      "authorship_tag": "ABX9TyNruUo5sB/rezM79T3LLadd",
      "include_colab_link": true
    },
    "kernelspec": {
      "name": "python3",
      "display_name": "Python 3"
    },
    "language_info": {
      "name": "python"
    },
    "accelerator": "TPU"
  },
  "cells": [
    {
      "cell_type": "markdown",
      "metadata": {
        "id": "view-in-github",
        "colab_type": "text"
      },
      "source": [
        "<a href=\"https://colab.research.google.com/github/Satyake/TF-ZTM/blob/main/Time_Serries_Forecasting_ZTM.ipynb\" target=\"_parent\"><img src=\"https://colab.research.google.com/assets/colab-badge.svg\" alt=\"Open In Colab\"/></a>"
      ]
    },
    {
      "cell_type": "code",
      "execution_count": null,
      "metadata": {
        "id": "29gnsHgA56EF"
      },
      "outputs": [],
      "source": [
        "#time serries forecasting\n"
      ]
    },
    {
      "cell_type": "code",
      "source": [
        "!wget https://raw.githubusercontent.com/mrdbourke/tensorflow-deep-learning/main/extras/BTC_USD_2013-10-01_2021-05-18-CoinDesk.csv"
      ],
      "metadata": {
        "colab": {
          "base_uri": "https://localhost:8080/"
        },
        "id": "mjVTxgqP6DE-",
        "outputId": "5a9fa9a7-3713-4634-c80a-52347ff92993"
      },
      "execution_count": null,
      "outputs": [
        {
          "output_type": "stream",
          "name": "stdout",
          "text": [
            "--2023-09-21 04:35:07--  https://raw.githubusercontent.com/mrdbourke/tensorflow-deep-learning/main/extras/BTC_USD_2013-10-01_2021-05-18-CoinDesk.csv\n",
            "Resolving raw.githubusercontent.com (raw.githubusercontent.com)... 185.199.110.133, 185.199.109.133, 185.199.108.133, ...\n",
            "Connecting to raw.githubusercontent.com (raw.githubusercontent.com)|185.199.110.133|:443... connected.\n",
            "HTTP request sent, awaiting response... 200 OK\n",
            "Length: 178509 (174K) [text/plain]\n",
            "Saving to: ‘BTC_USD_2013-10-01_2021-05-18-CoinDesk.csv’\n",
            "\n",
            "BTC_USD_2013-10-01_ 100%[===================>] 174.33K  --.-KB/s    in 0.03s   \n",
            "\n",
            "2023-09-21 04:35:07 (5.23 MB/s) - ‘BTC_USD_2013-10-01_2021-05-18-CoinDesk.csv’ saved [178509/178509]\n",
            "\n"
          ]
        }
      ]
    },
    {
      "cell_type": "code",
      "source": [
        "import pandas as pd\n",
        "\n",
        "df=pd.read_csv('/content/BTC_USD_2013-10-01_2021-05-18-CoinDesk.csv', parse_dates=['Date'])\n"
      ],
      "metadata": {
        "id": "HO2jsm-e64rj"
      },
      "execution_count": null,
      "outputs": []
    },
    {
      "cell_type": "code",
      "source": [
        "df.head()"
      ],
      "metadata": {
        "colab": {
          "base_uri": "https://localhost:8080/",
          "height": 206
        },
        "id": "hJACcSKv7sMe",
        "outputId": "c083cb72-1cff-4000-be2f-d9fa19feaedd"
      },
      "execution_count": null,
      "outputs": [
        {
          "output_type": "execute_result",
          "data": {
            "text/plain": [
              "  Currency       Date  Closing Price (USD)  24h Open (USD)  24h High (USD)  \\\n",
              "0      BTC 2013-10-01            123.65499       124.30466       124.75166   \n",
              "1      BTC 2013-10-02            125.45500       123.65499       125.75850   \n",
              "2      BTC 2013-10-03            108.58483       125.45500       125.66566   \n",
              "3      BTC 2013-10-04            118.67466       108.58483       118.67500   \n",
              "4      BTC 2013-10-05            121.33866       118.67466       121.93633   \n",
              "\n",
              "   24h Low (USD)  \n",
              "0      122.56349  \n",
              "1      123.63383  \n",
              "2       83.32833  \n",
              "3      107.05816  \n",
              "4      118.00566  "
            ],
            "text/html": [
              "\n",
              "  <div id=\"df-bf889d23-ac41-460c-ada2-d58b7c0a9da6\" class=\"colab-df-container\">\n",
              "    <div>\n",
              "<style scoped>\n",
              "    .dataframe tbody tr th:only-of-type {\n",
              "        vertical-align: middle;\n",
              "    }\n",
              "\n",
              "    .dataframe tbody tr th {\n",
              "        vertical-align: top;\n",
              "    }\n",
              "\n",
              "    .dataframe thead th {\n",
              "        text-align: right;\n",
              "    }\n",
              "</style>\n",
              "<table border=\"1\" class=\"dataframe\">\n",
              "  <thead>\n",
              "    <tr style=\"text-align: right;\">\n",
              "      <th></th>\n",
              "      <th>Currency</th>\n",
              "      <th>Date</th>\n",
              "      <th>Closing Price (USD)</th>\n",
              "      <th>24h Open (USD)</th>\n",
              "      <th>24h High (USD)</th>\n",
              "      <th>24h Low (USD)</th>\n",
              "    </tr>\n",
              "  </thead>\n",
              "  <tbody>\n",
              "    <tr>\n",
              "      <th>0</th>\n",
              "      <td>BTC</td>\n",
              "      <td>2013-10-01</td>\n",
              "      <td>123.65499</td>\n",
              "      <td>124.30466</td>\n",
              "      <td>124.75166</td>\n",
              "      <td>122.56349</td>\n",
              "    </tr>\n",
              "    <tr>\n",
              "      <th>1</th>\n",
              "      <td>BTC</td>\n",
              "      <td>2013-10-02</td>\n",
              "      <td>125.45500</td>\n",
              "      <td>123.65499</td>\n",
              "      <td>125.75850</td>\n",
              "      <td>123.63383</td>\n",
              "    </tr>\n",
              "    <tr>\n",
              "      <th>2</th>\n",
              "      <td>BTC</td>\n",
              "      <td>2013-10-03</td>\n",
              "      <td>108.58483</td>\n",
              "      <td>125.45500</td>\n",
              "      <td>125.66566</td>\n",
              "      <td>83.32833</td>\n",
              "    </tr>\n",
              "    <tr>\n",
              "      <th>3</th>\n",
              "      <td>BTC</td>\n",
              "      <td>2013-10-04</td>\n",
              "      <td>118.67466</td>\n",
              "      <td>108.58483</td>\n",
              "      <td>118.67500</td>\n",
              "      <td>107.05816</td>\n",
              "    </tr>\n",
              "    <tr>\n",
              "      <th>4</th>\n",
              "      <td>BTC</td>\n",
              "      <td>2013-10-05</td>\n",
              "      <td>121.33866</td>\n",
              "      <td>118.67466</td>\n",
              "      <td>121.93633</td>\n",
              "      <td>118.00566</td>\n",
              "    </tr>\n",
              "  </tbody>\n",
              "</table>\n",
              "</div>\n",
              "    <div class=\"colab-df-buttons\">\n",
              "\n",
              "  <div class=\"colab-df-container\">\n",
              "    <button class=\"colab-df-convert\" onclick=\"convertToInteractive('df-bf889d23-ac41-460c-ada2-d58b7c0a9da6')\"\n",
              "            title=\"Convert this dataframe to an interactive table.\"\n",
              "            style=\"display:none;\">\n",
              "\n",
              "  <svg xmlns=\"http://www.w3.org/2000/svg\" height=\"24px\" viewBox=\"0 -960 960 960\">\n",
              "    <path d=\"M120-120v-720h720v720H120Zm60-500h600v-160H180v160Zm220 220h160v-160H400v160Zm0 220h160v-160H400v160ZM180-400h160v-160H180v160Zm440 0h160v-160H620v160ZM180-180h160v-160H180v160Zm440 0h160v-160H620v160Z\"/>\n",
              "  </svg>\n",
              "    </button>\n",
              "\n",
              "  <style>\n",
              "    .colab-df-container {\n",
              "      display:flex;\n",
              "      gap: 12px;\n",
              "    }\n",
              "\n",
              "    .colab-df-convert {\n",
              "      background-color: #E8F0FE;\n",
              "      border: none;\n",
              "      border-radius: 50%;\n",
              "      cursor: pointer;\n",
              "      display: none;\n",
              "      fill: #1967D2;\n",
              "      height: 32px;\n",
              "      padding: 0 0 0 0;\n",
              "      width: 32px;\n",
              "    }\n",
              "\n",
              "    .colab-df-convert:hover {\n",
              "      background-color: #E2EBFA;\n",
              "      box-shadow: 0px 1px 2px rgba(60, 64, 67, 0.3), 0px 1px 3px 1px rgba(60, 64, 67, 0.15);\n",
              "      fill: #174EA6;\n",
              "    }\n",
              "\n",
              "    .colab-df-buttons div {\n",
              "      margin-bottom: 4px;\n",
              "    }\n",
              "\n",
              "    [theme=dark] .colab-df-convert {\n",
              "      background-color: #3B4455;\n",
              "      fill: #D2E3FC;\n",
              "    }\n",
              "\n",
              "    [theme=dark] .colab-df-convert:hover {\n",
              "      background-color: #434B5C;\n",
              "      box-shadow: 0px 1px 3px 1px rgba(0, 0, 0, 0.15);\n",
              "      filter: drop-shadow(0px 1px 2px rgba(0, 0, 0, 0.3));\n",
              "      fill: #FFFFFF;\n",
              "    }\n",
              "  </style>\n",
              "\n",
              "    <script>\n",
              "      const buttonEl =\n",
              "        document.querySelector('#df-bf889d23-ac41-460c-ada2-d58b7c0a9da6 button.colab-df-convert');\n",
              "      buttonEl.style.display =\n",
              "        google.colab.kernel.accessAllowed ? 'block' : 'none';\n",
              "\n",
              "      async function convertToInteractive(key) {\n",
              "        const element = document.querySelector('#df-bf889d23-ac41-460c-ada2-d58b7c0a9da6');\n",
              "        const dataTable =\n",
              "          await google.colab.kernel.invokeFunction('convertToInteractive',\n",
              "                                                    [key], {});\n",
              "        if (!dataTable) return;\n",
              "\n",
              "        const docLinkHtml = 'Like what you see? Visit the ' +\n",
              "          '<a target=\"_blank\" href=https://colab.research.google.com/notebooks/data_table.ipynb>data table notebook</a>'\n",
              "          + ' to learn more about interactive tables.';\n",
              "        element.innerHTML = '';\n",
              "        dataTable['output_type'] = 'display_data';\n",
              "        await google.colab.output.renderOutput(dataTable, element);\n",
              "        const docLink = document.createElement('div');\n",
              "        docLink.innerHTML = docLinkHtml;\n",
              "        element.appendChild(docLink);\n",
              "      }\n",
              "    </script>\n",
              "  </div>\n",
              "\n",
              "\n",
              "<div id=\"df-e050dbd3-9515-44d5-a445-e3ac6f543371\">\n",
              "  <button class=\"colab-df-quickchart\" onclick=\"quickchart('df-e050dbd3-9515-44d5-a445-e3ac6f543371')\"\n",
              "            title=\"Suggest charts.\"\n",
              "            style=\"display:none;\">\n",
              "\n",
              "<svg xmlns=\"http://www.w3.org/2000/svg\" height=\"24px\"viewBox=\"0 0 24 24\"\n",
              "     width=\"24px\">\n",
              "    <g>\n",
              "        <path d=\"M19 3H5c-1.1 0-2 .9-2 2v14c0 1.1.9 2 2 2h14c1.1 0 2-.9 2-2V5c0-1.1-.9-2-2-2zM9 17H7v-7h2v7zm4 0h-2V7h2v10zm4 0h-2v-4h2v4z\"/>\n",
              "    </g>\n",
              "</svg>\n",
              "  </button>\n",
              "\n",
              "<style>\n",
              "  .colab-df-quickchart {\n",
              "      --bg-color: #E8F0FE;\n",
              "      --fill-color: #1967D2;\n",
              "      --hover-bg-color: #E2EBFA;\n",
              "      --hover-fill-color: #174EA6;\n",
              "      --disabled-fill-color: #AAA;\n",
              "      --disabled-bg-color: #DDD;\n",
              "  }\n",
              "\n",
              "  [theme=dark] .colab-df-quickchart {\n",
              "      --bg-color: #3B4455;\n",
              "      --fill-color: #D2E3FC;\n",
              "      --hover-bg-color: #434B5C;\n",
              "      --hover-fill-color: #FFFFFF;\n",
              "      --disabled-bg-color: #3B4455;\n",
              "      --disabled-fill-color: #666;\n",
              "  }\n",
              "\n",
              "  .colab-df-quickchart {\n",
              "    background-color: var(--bg-color);\n",
              "    border: none;\n",
              "    border-radius: 50%;\n",
              "    cursor: pointer;\n",
              "    display: none;\n",
              "    fill: var(--fill-color);\n",
              "    height: 32px;\n",
              "    padding: 0;\n",
              "    width: 32px;\n",
              "  }\n",
              "\n",
              "  .colab-df-quickchart:hover {\n",
              "    background-color: var(--hover-bg-color);\n",
              "    box-shadow: 0 1px 2px rgba(60, 64, 67, 0.3), 0 1px 3px 1px rgba(60, 64, 67, 0.15);\n",
              "    fill: var(--button-hover-fill-color);\n",
              "  }\n",
              "\n",
              "  .colab-df-quickchart-complete:disabled,\n",
              "  .colab-df-quickchart-complete:disabled:hover {\n",
              "    background-color: var(--disabled-bg-color);\n",
              "    fill: var(--disabled-fill-color);\n",
              "    box-shadow: none;\n",
              "  }\n",
              "\n",
              "  .colab-df-spinner {\n",
              "    border: 2px solid var(--fill-color);\n",
              "    border-color: transparent;\n",
              "    border-bottom-color: var(--fill-color);\n",
              "    animation:\n",
              "      spin 1s steps(1) infinite;\n",
              "  }\n",
              "\n",
              "  @keyframes spin {\n",
              "    0% {\n",
              "      border-color: transparent;\n",
              "      border-bottom-color: var(--fill-color);\n",
              "      border-left-color: var(--fill-color);\n",
              "    }\n",
              "    20% {\n",
              "      border-color: transparent;\n",
              "      border-left-color: var(--fill-color);\n",
              "      border-top-color: var(--fill-color);\n",
              "    }\n",
              "    30% {\n",
              "      border-color: transparent;\n",
              "      border-left-color: var(--fill-color);\n",
              "      border-top-color: var(--fill-color);\n",
              "      border-right-color: var(--fill-color);\n",
              "    }\n",
              "    40% {\n",
              "      border-color: transparent;\n",
              "      border-right-color: var(--fill-color);\n",
              "      border-top-color: var(--fill-color);\n",
              "    }\n",
              "    60% {\n",
              "      border-color: transparent;\n",
              "      border-right-color: var(--fill-color);\n",
              "    }\n",
              "    80% {\n",
              "      border-color: transparent;\n",
              "      border-right-color: var(--fill-color);\n",
              "      border-bottom-color: var(--fill-color);\n",
              "    }\n",
              "    90% {\n",
              "      border-color: transparent;\n",
              "      border-bottom-color: var(--fill-color);\n",
              "    }\n",
              "  }\n",
              "</style>\n",
              "\n",
              "  <script>\n",
              "    async function quickchart(key) {\n",
              "      const quickchartButtonEl =\n",
              "        document.querySelector('#' + key + ' button');\n",
              "      quickchartButtonEl.disabled = true;  // To prevent multiple clicks.\n",
              "      quickchartButtonEl.classList.add('colab-df-spinner');\n",
              "      try {\n",
              "        const charts = await google.colab.kernel.invokeFunction(\n",
              "            'suggestCharts', [key], {});\n",
              "      } catch (error) {\n",
              "        console.error('Error during call to suggestCharts:', error);\n",
              "      }\n",
              "      quickchartButtonEl.classList.remove('colab-df-spinner');\n",
              "      quickchartButtonEl.classList.add('colab-df-quickchart-complete');\n",
              "    }\n",
              "    (() => {\n",
              "      let quickchartButtonEl =\n",
              "        document.querySelector('#df-e050dbd3-9515-44d5-a445-e3ac6f543371 button');\n",
              "      quickchartButtonEl.style.display =\n",
              "        google.colab.kernel.accessAllowed ? 'block' : 'none';\n",
              "    })();\n",
              "  </script>\n",
              "</div>\n",
              "    </div>\n",
              "  </div>\n"
            ]
          },
          "metadata": {},
          "execution_count": 7
        }
      ]
    },
    {
      "cell_type": "code",
      "source": [
        "df.dtypes"
      ],
      "metadata": {
        "colab": {
          "base_uri": "https://localhost:8080/"
        },
        "id": "i7V5Jf577tO0",
        "outputId": "54d47bf5-6be7-412b-f522-79a587a8fe55"
      },
      "execution_count": null,
      "outputs": [
        {
          "output_type": "execute_result",
          "data": {
            "text/plain": [
              "Currency                       object\n",
              "Date                   datetime64[ns]\n",
              "Closing Price (USD)           float64\n",
              "24h Open (USD)                float64\n",
              "24h High (USD)                float64\n",
              "24h Low (USD)                 float64\n",
              "dtype: object"
            ]
          },
          "metadata": {},
          "execution_count": 8
        }
      ]
    },
    {
      "cell_type": "code",
      "source": [
        "df.set_index(['Date'],inplace=True)"
      ],
      "metadata": {
        "id": "RnHtMW1B7vC8"
      },
      "execution_count": null,
      "outputs": []
    },
    {
      "cell_type": "code",
      "source": [
        "bitcoin_prices=df[['Closing Price (USD)']]"
      ],
      "metadata": {
        "id": "XxQuZZ4b8ttA"
      },
      "execution_count": null,
      "outputs": []
    },
    {
      "cell_type": "code",
      "source": [
        "bitcoin_prices=bitcoin_prices.rename(columns={'Closing Price (USD)': 'Price'})"
      ],
      "metadata": {
        "id": "F3P7hvVKCEFZ"
      },
      "execution_count": null,
      "outputs": []
    },
    {
      "cell_type": "code",
      "source": [
        "import matplotlib.pyplot as plt\n",
        "plt.figure(figsize=(5,2))\n",
        "bitcoin_prices.plot()\n",
        "plt.ylabel('Price')"
      ],
      "metadata": {
        "colab": {
          "base_uri": "https://localhost:8080/",
          "height": 485
        },
        "id": "BcZIFDAhCFyq",
        "outputId": "aa49a9c6-63c5-4350-829e-368067c35b89"
      },
      "execution_count": null,
      "outputs": [
        {
          "output_type": "execute_result",
          "data": {
            "text/plain": [
              "Text(0, 0.5, 'Price')"
            ]
          },
          "metadata": {},
          "execution_count": 14
        },
        {
          "output_type": "display_data",
          "data": {
            "text/plain": [
              "<Figure size 500x200 with 0 Axes>"
            ]
          },
          "metadata": {}
        },
        {
          "output_type": "display_data",
          "data": {
            "text/plain": [
              "<Figure size 640x480 with 1 Axes>"
            ],
            "image/png": "[encoded data removed]"
          },
          "metadata": {}
        }
      ]
    },
    {
      "cell_type": "code",
      "source": [
        "import csv\n",
        "from datetime import datetime"
      ],
      "metadata": {
        "id": "L1HDIxmbCQzp"
      },
      "execution_count": null,
      "outputs": []
    },
    {
      "cell_type": "code",
      "source": [
        "timesteps=[]\n",
        "btc_price=[]\n",
        "with open('/content/BTC_USD_2013-10-01_2021-05-18-CoinDesk.csv',\"r\") as f:\n",
        "  csv_reader=csv.reader(f,delimiter=',')\n",
        "  next(csv_reader)#iterates though all the rows it will skip the header\n",
        "  for line in csv_reader:\n",
        "    timesteps.append(datetime.strptime(line[1],\"%Y-%m-%d\"))\n",
        "    btc_price.append(float(line[2]))\n",
        "\n",
        "timesteps[:10], btc_price[:10]\n",
        "\n",
        "\n"
      ],
      "metadata": {
        "colab": {
          "base_uri": "https://localhost:8080/"
        },
        "id": "Q-AhkX9hDcww",
        "outputId": "d8ece010-07cc-4ebc-e7e9-a444193363fe"
      },
      "execution_count": null,
      "outputs": [
        {
          "output_type": "execute_result",
          "data": {
            "text/plain": [
              "([datetime.datetime(2013, 10, 1, 0, 0),\n",
              "  datetime.datetime(2013, 10, 2, 0, 0),\n",
              "  datetime.datetime(2013, 10, 3, 0, 0),\n",
              "  datetime.datetime(2013, 10, 4, 0, 0),\n",
              "  datetime.datetime(2013, 10, 5, 0, 0),\n",
              "  datetime.datetime(2013, 10, 6, 0, 0),\n",
              "  datetime.datetime(2013, 10, 7, 0, 0),\n",
              "  datetime.datetime(2013, 10, 8, 0, 0),\n",
              "  datetime.datetime(2013, 10, 9, 0, 0),\n",
              "  datetime.datetime(2013, 10, 10, 0, 0)],\n",
              " [123.65499,\n",
              "  125.455,\n",
              "  108.58483,\n",
              "  118.67466,\n",
              "  121.33866,\n",
              "  120.65533,\n",
              "  121.795,\n",
              "  123.033,\n",
              "  124.049,\n",
              "  125.96116])"
            ]
          },
          "metadata": {},
          "execution_count": 16
        }
      ]
    },
    {
      "cell_type": "code",
      "source": [
        "split_size=int(0.8*len(btc_price))\n",
        "x_train, y_train=timesteps[:split_size], btc_price[:split_size]\n",
        "x_test, y_test=timesteps[split_size:], btc_price[split_size:]"
      ],
      "metadata": {
        "id": "cAus8ZX0ErLN"
      },
      "execution_count": null,
      "outputs": []
    },
    {
      "cell_type": "code",
      "source": [
        "plt.figure(figsize=(5,3))\n",
        "plt.scatter(x_train,y_train)\n",
        "plt.scatter(x_test, y_test)"
      ],
      "metadata": {
        "colab": {
          "base_uri": "https://localhost:8080/",
          "height": 309
        },
        "id": "nc_Yr7AOUOsT",
        "outputId": "406b1a0b-4f1f-404b-fa32-69ceda12a52a"
      },
      "execution_count": null,
      "outputs": [
        {
          "output_type": "execute_result",
          "data": {
            "text/plain": [
              "<matplotlib.collections.PathCollection at 0x7df603cf70a0>"
            ]
          },
          "metadata": {},
          "execution_count": 18
        },
        {
          "output_type": "display_data",
          "data": {
            "text/plain": [
              "<Figure size 500x300 with 1 Axes>"
            ],
            "image/png": "[encoded data removed]"
          },
          "metadata": {}
        }
      ]
    },
    {
      "cell_type": "code",
      "source": [
        "##naive forecast\n",
        "#y(t)=y(t-1)"
      ],
      "metadata": {
        "id": "Bv7YA4C0Uyp5"
      },
      "execution_count": null,
      "outputs": []
    },
    {
      "cell_type": "code",
      "source": [
        "naive_forecast=y_test[:-1]"
      ],
      "metadata": {
        "id": "5m5NZ8XyU750"
      },
      "execution_count": null,
      "outputs": []
    },
    {
      "cell_type": "code",
      "source": [
        "naive_forecast[:10], naive_forecast[-10:]"
      ],
      "metadata": {
        "colab": {
          "base_uri": "https://localhost:8080/"
        },
        "id": "4Ubp3WihYfFN",
        "outputId": "3d372f1e-e560-485c-d720-f0b389bec29f"
      },
      "execution_count": null,
      "outputs": [
        {
          "output_type": "execute_result",
          "data": {
            "text/plain": [
              "([9226.4858208826,\n",
              "  8794.3586445233,\n",
              "  8798.0420546256,\n",
              "  9081.1868784913,\n",
              "  8711.5343391679,\n",
              "  8760.8927181435,\n",
              "  8749.520591019,\n",
              "  8656.970922354,\n",
              "  8500.6435581622,\n",
              "  8469.2608988992],\n",
              " [57107.1206718864,\n",
              "  58788.2096789273,\n",
              "  58102.1914262342,\n",
              "  55715.5466512869,\n",
              "  56573.5554719043,\n",
              "  52147.8211869823,\n",
              "  49764.1320815975,\n",
              "  50032.6931367648,\n",
              "  47885.6252547166,\n",
              "  45604.6157536131])"
            ]
          },
          "metadata": {},
          "execution_count": 14
        }
      ]
    },
    {
      "cell_type": "code",
      "source": [
        "plt.figure(figsize=(10,7))\n",
        "plt.scatter(x_test[1:],naive_forecast,marker='_', color='r',label='Forecasted')\n",
        "plt.scatter(x_test, y_test,marker='_', color='b', label='Test-Data')\n",
        "plt.legend()"
      ],
      "metadata": {
        "colab": {
          "base_uri": "https://localhost:8080/",
          "height": 617
        },
        "id": "rHiRChNOYlPJ",
        "outputId": "205fc1e6-db3b-4c8b-a977-45b2355d1130"
      },
      "execution_count": null,
      "outputs": [
        {
          "output_type": "execute_result",
          "data": {
            "text/plain": [
              "<matplotlib.legend.Legend at 0x7d1e70f52770>"
            ]
          },
          "metadata": {},
          "execution_count": 15
        },
        {
          "output_type": "display_data",
          "data": {
            "text/plain": [
              "<Figure size 1000x700 with 1 Axes>"
            ],
            "image/png": "[encoded data removed]"
          },
          "metadata": {}
        }
      ]
    },
    {
      "cell_type": "code",
      "source": [
        "from sklearn.metrics import mean_absolute_error"
      ],
      "metadata": {
        "id": "nu0cYqOSYpZY"
      },
      "execution_count": null,
      "outputs": []
    },
    {
      "cell_type": "code",
      "source": [
        "mean_absolute_error(y_test[1:],naive_forecast)"
      ],
      "metadata": {
        "colab": {
          "base_uri": "https://localhost:8080/"
        },
        "id": "xEX8FBaWZNCP",
        "outputId": "14ab23cd-aed6-48e9-8e77-b00faadf7f6c"
      },
      "execution_count": null,
      "outputs": [
        {
          "output_type": "execute_result",
          "data": {
            "text/plain": [
              "567.9802273457542"
            ]
          },
          "metadata": {},
          "execution_count": 17
        }
      ]
    },
    {
      "cell_type": "code",
      "source": [
        "import tensorflow as tf\n",
        "#MASE\n",
        "def mean_absolute_scaled_error(y_true, y_pred):\n",
        "  \"\"\" Implement MASE \"\"\"\n",
        "  mae=tf.reduce_mean(tf.abs(y_true-y_pred))\n",
        "  #find mae of naive forecast\n",
        "  mae_naive_no_season=tf.reduce_mean(tf.abs(y_true[1:]-y_true[:-1]))\n",
        "  return mae / mae_naive_no_season"
      ],
      "metadata": {
        "id": "0cKSbK3ebhhn"
      },
      "execution_count": null,
      "outputs": []
    },
    {
      "cell_type": "code",
      "source": [
        "#mean_absolute_scaled_error(y_true=y_test[1:],y_pred=naive_forecast).numpy()"
      ],
      "metadata": {
        "id": "4WUhAMgLgRAd"
      },
      "execution_count": null,
      "outputs": []
    },
    {
      "cell_type": "code",
      "source": [
        "def evaluate_preds(y_true, y_pred):\n",
        "  #make sure float 32 data type\n",
        "  y_true=tf.cast(y_true, dtype=tf.float32)\n",
        "  y_pred=tf.cast(y_pred, dtype=tf.float32)\n",
        "\n",
        "  mae=tf.keras.metrics.mean_absolute_error(y_true, y_pred)\n",
        "  mse=tf.keras.metrics.mean_squared_error(y_true, y_pred)\n",
        "  rmse=tf.sqrt(mse)\n",
        "  mape=tf.keras.metrics.mean_absolute_percentage_error(y_true, y_pred)\n",
        "\n",
        "  return {\"mae\": mae.numpy(), \"mse\": mse.numpy(), 'rmse': rmse.numpy(), \"mape\": mape.numpy()}"
      ],
      "metadata": {
        "id": "Wqh8g18WhPMo"
      },
      "execution_count": null,
      "outputs": []
    },
    {
      "cell_type": "code",
      "source": [
        "naive_results= evaluate_preds(y_true=y_test[1:],\n",
        "                              y_pred=naive_forecast)"
      ],
      "metadata": {
        "id": "KaoFbKKAhYk_"
      },
      "execution_count": null,
      "outputs": []
    },
    {
      "cell_type": "code",
      "source": [
        "naive_results"
      ],
      "metadata": {
        "colab": {
          "base_uri": "https://localhost:8080/"
        },
        "id": "Mc0HfXVWjyMc",
        "outputId": "fa787401-f706-4664-b660-c3ca089736be"
      },
      "execution_count": null,
      "outputs": [
        {
          "output_type": "execute_result",
          "data": {
            "text/plain": [
              "{'mae': 567.9802, 'mse': 1147547.0, 'rmse': 1071.2362, 'mape': 2.5165248}"
            ]
          },
          "metadata": {},
          "execution_count": 22
        }
      ]
    },
    {
      "cell_type": "code",
      "source": [
        "len(y_test), len(naive_forecast)"
      ],
      "metadata": {
        "colab": {
          "base_uri": "https://localhost:8080/"
        },
        "id": "cF3ZYXynj3Zr",
        "outputId": "1e66396a-3c5d-42d1-dca7-9621d57f0757"
      },
      "execution_count": null,
      "outputs": [
        {
          "output_type": "execute_result",
          "data": {
            "text/plain": [
              "(558, 557)"
            ]
          },
          "metadata": {},
          "execution_count": 23
        }
      ]
    },
    {
      "cell_type": "code",
      "source": [
        "#global variables\n",
        "HORIZON=1 #predict_next_day\n",
        "window_size=7 #use past week of bitcoin data to make predictions\n"
      ],
      "metadata": {
        "id": "zCY99qRxlLHc"
      },
      "execution_count": null,
      "outputs": []
    },
    {
      "cell_type": "code",
      "source": [],
      "metadata": {
        "id": "0nCFtfhSW5Dy"
      },
      "execution_count": null,
      "outputs": []
    },
    {
      "cell_type": "markdown",
      "source": [
        "[[window_1],\n",
        " [window_2],\n",
        " [window_3],]"
      ],
      "metadata": {
        "id": "YecS_ClrW-Us"
      }
    },
    {
      "cell_type": "markdown",
      "source": [],
      "metadata": {
        "id": "yUh13yBtW9pw"
      }
    },
    {
      "cell_type": "code",
      "source": [
        "def get_labelled_window(x, horizon=HORIZON):\n",
        "  \"\"\" creates labels for windowed dataset\n",
        "\n",
        "  Input: [0,1, 2, 3,4, 5, 6]\n",
        "  Output=[8]\n",
        "\n",
        "  \"\"\"\n",
        "  return x[:,:-horizon],x[:,-horizon:]"
      ],
      "metadata": {
        "id": "8vmChX7ETxn3"
      },
      "execution_count": null,
      "outputs": []
    },
    {
      "cell_type": "code",
      "source": [
        "test_window, test_label=get_labelled_window(tf.expand_dims(tf.range(8)+1, axis=0))\n",
        "test_window, test_label\n"
      ],
      "metadata": {
        "colab": {
          "base_uri": "https://localhost:8080/"
        },
        "id": "p0UKDxUxV9of",
        "outputId": "131d2fac-2254-4880-e8ca-f403bbfde43b"
      },
      "execution_count": null,
      "outputs": [
        {
          "output_type": "execute_result",
          "data": {
            "text/plain": [
              "(<tf.Tensor: shape=(1, 7), dtype=int32, numpy=array([[1, 2, 3, 4, 5, 6, 7]], dtype=int32)>,\n",
              " <tf.Tensor: shape=(1, 1), dtype=int32, numpy=array([[8]], dtype=int32)>)"
            ]
          },
          "metadata": {},
          "execution_count": 26
        }
      ]
    },
    {
      "cell_type": "code",
      "source": [
        "tf.expand_dims(tf.range(8)+1, axis=0)"
      ],
      "metadata": {
        "colab": {
          "base_uri": "https://localhost:8080/"
        },
        "id": "tt-ELhiXWXd5",
        "outputId": "d3f9739f-f55a-4ba9-e320-5fa591a3d00a"
      },
      "execution_count": null,
      "outputs": [
        {
          "output_type": "execute_result",
          "data": {
            "text/plain": [
              "<tf.Tensor: shape=(1, 8), dtype=int32, numpy=array([[1, 2, 3, 4, 5, 6, 7, 8]], dtype=int32)>"
            ]
          },
          "metadata": {},
          "execution_count": 27
        }
      ]
    },
    {
      "cell_type": "code",
      "source": [
        "a=tf.expand_dims(tf.range(8)+1,axis=0)\n",
        "a[:,:-1], a[:,-1:]"
      ],
      "metadata": {
        "colab": {
          "base_uri": "https://localhost:8080/"
        },
        "id": "jMJky8WNXVgN",
        "outputId": "1f30a460-e30a-49fd-de58-80d27cb135f1"
      },
      "execution_count": null,
      "outputs": [
        {
          "output_type": "execute_result",
          "data": {
            "text/plain": [
              "(<tf.Tensor: shape=(1, 7), dtype=int32, numpy=array([[1, 2, 3, 4, 5, 6, 7]], dtype=int32)>,\n",
              " <tf.Tensor: shape=(1, 1), dtype=int32, numpy=array([[8]], dtype=int32)>)"
            ]
          },
          "metadata": {},
          "execution_count": 28
        }
      ]
    },
    {
      "cell_type": "code",
      "source": [
        "import numpy as np\n",
        "btc_price=np.array(btc_price)\n",
        "btc_price.shape"
      ],
      "metadata": {
        "colab": {
          "base_uri": "https://localhost:8080/"
        },
        "id": "zibsHb1JXkM9",
        "outputId": "228b22eb-9faf-408f-e49d-ea6d04807733"
      },
      "execution_count": null,
      "outputs": [
        {
          "output_type": "execute_result",
          "data": {
            "text/plain": [
              "(2787,)"
            ]
          },
          "metadata": {},
          "execution_count": 23
        }
      ]
    },
    {
      "cell_type": "code",
      "source": [
        "x_train=[]\n",
        "y_train=[]\n",
        "for i in range(7, len(btc_price)):\n",
        "  x_train.append(btc_price[i-7:i])\n",
        "  y_train.append(btc_price[i])\n",
        "x_train=np.array(x_train)\n",
        "y_train=np.array(y_train)"
      ],
      "metadata": {
        "id": "yrKWliM8ab-M"
      },
      "execution_count": null,
      "outputs": []
    },
    {
      "cell_type": "code",
      "source": [
        "def train_test_splits(data,split_size):\n",
        "  \"\"\" Train Test Splits\"\"\"\n",
        "  x=[]\n",
        "  y=[]\n",
        "  for i in range(7, len(data)):\n",
        "    x.append(data[i-7:i])\n",
        "    y.append(data[i])\n",
        "  x=np.array(x)\n",
        "  y=np.array(y)\n",
        "  split_size=int(0.8*len(data))\n",
        "  x_train=x[:split_size]\n",
        "  y_train=y[:split_size]\n",
        "\n",
        "  x_test=x[split_size:]\n",
        "  y_test=y[split_size:]\n",
        "  return x_train, y_train, x_test, y_test"
      ],
      "metadata": {
        "id": "zGjKOFgJ3eKC"
      },
      "execution_count": null,
      "outputs": []
    },
    {
      "cell_type": "code",
      "source": [
        "x_train,y_train, x_test, y_test=train_test_splits(btc_price,0.8)"
      ],
      "metadata": {
        "id": "naAWO3yq39Ed"
      },
      "execution_count": null,
      "outputs": []
    },
    {
      "cell_type": "code",
      "source": [
        "x_train[:2],y_train[:2] , x_test[:2], y_test[:2]"
      ],
      "metadata": {
        "colab": {
          "base_uri": "https://localhost:8080/"
        },
        "id": "Jkl_qOGw4S5M",
        "outputId": "442ab6c6-b615-44fe-99f2-93ca0613567f"
      },
      "execution_count": null,
      "outputs": [
        {
          "output_type": "execute_result",
          "data": {
            "text/plain": [
              "(array([[123.65499, 125.455  , 108.58483, 118.67466, 121.33866, 120.65533,\n",
              "         121.795  ],\n",
              "        [125.455  , 108.58483, 118.67466, 121.33866, 120.65533, 121.795  ,\n",
              "         123.033  ]]),\n",
              " array([123.033, 124.049]),\n",
              " array([[9226.48582088, 8794.35864452, 8798.04205463, 9081.18687849,\n",
              "         8711.53433917, 8760.89271814, 8749.52059102],\n",
              "        [8794.35864452, 8798.04205463, 9081.18687849, 8711.53433917,\n",
              "         8760.89271814, 8749.52059102, 8656.97092235]]),\n",
              " array([8656.97092235, 8500.64355816]))"
            ]
          },
          "metadata": {},
          "execution_count": 27
        }
      ]
    },
    {
      "cell_type": "code",
      "source": [
        "x_train.shape , y_train.shape, x_test.shape, y_test.shape"
      ],
      "metadata": {
        "colab": {
          "base_uri": "https://localhost:8080/"
        },
        "id": "o9YANH89bF83",
        "outputId": "a1b251a8-f247-45c7-f32e-9032ad21a79d"
      },
      "execution_count": null,
      "outputs": [
        {
          "output_type": "execute_result",
          "data": {
            "text/plain": [
              "((2229, 7), (2229,), (551, 7), (551,))"
            ]
          },
          "metadata": {},
          "execution_count": 33
        }
      ]
    },
    {
      "cell_type": "code",
      "source": [],
      "metadata": {
        "id": "sSTFXpXG5oEK"
      },
      "execution_count": null,
      "outputs": []
    },
    {
      "cell_type": "code",
      "source": [
        "btc_price[:15]"
      ],
      "metadata": {
        "colab": {
          "base_uri": "https://localhost:8080/"
        },
        "id": "ih8Fjtrqbz7S",
        "outputId": "98fae3a4-57b9-4852-f9e5-92137e09993b"
      },
      "execution_count": null,
      "outputs": [
        {
          "output_type": "execute_result",
          "data": {
            "text/plain": [
              "array([123.65499, 125.455  , 108.58483, 118.67466, 121.33866, 120.65533,\n",
              "       121.795  , 123.033  , 124.049  , 125.96116, 125.27966, 125.9275 ,\n",
              "       126.38333, 135.24199, 133.20333])"
            ]
          },
          "metadata": {},
          "execution_count": 29
        }
      ]
    },
    {
      "cell_type": "code",
      "source": [
        "WINDOW_SIZE=7"
      ],
      "metadata": {
        "id": "3Gjzp2nKjxzg"
      },
      "execution_count": null,
      "outputs": []
    },
    {
      "cell_type": "code",
      "source": [
        "def make_window(x, window_size=WINDOW_SIZE, horizon=HORIZON):\n",
        "  window_step=np.expand_dims(np.arange(window_size+horizon),axis=0)\n",
        "\n",
        "  window_indexes=window_step+np.expand_dims(np.arange(len(x)-(window_size+horizon-1)),axis=0).T #create 2d arracy of windows\n",
        "\n",
        "  #print(f\"Window Indexes : \\n {window_indexes, window_indexes.shape}\")\n",
        "\n",
        "  #index on the target array with 2D array of multiple window steps\n",
        "\n",
        "  windowed_array=x[window_indexes]\n",
        "  #print(windowed_array)\n",
        "  windows, labels=get_labelled_window(windowed_array, horizon=horizon)\n",
        "  return windows, labels"
      ],
      "metadata": {
        "id": "KWsPp2avcClL"
      },
      "execution_count": null,
      "outputs": []
    },
    {
      "cell_type": "code",
      "source": [
        "full_windows, full_labels=make_window(btc_price, window_size=WINDOW_SIZE, horizon=HORIZON)"
      ],
      "metadata": {
        "id": "YKWS5LkpkYDV"
      },
      "execution_count": null,
      "outputs": []
    },
    {
      "cell_type": "code",
      "source": [
        "full_windows.shape"
      ],
      "metadata": {
        "colab": {
          "base_uri": "https://localhost:8080/"
        },
        "id": "AoVhT6KJkhbL",
        "outputId": "576aabe6-17c4-4482-b56b-7232b428dc3e"
      },
      "execution_count": null,
      "outputs": [
        {
          "output_type": "execute_result",
          "data": {
            "text/plain": [
              "(2780, 7)"
            ]
          },
          "metadata": {},
          "execution_count": 41
        }
      ]
    },
    {
      "cell_type": "code",
      "source": [
        "full_labels.shape"
      ],
      "metadata": {
        "colab": {
          "base_uri": "https://localhost:8080/"
        },
        "id": "PjwRMUs0l8sD",
        "outputId": "3294c906-9ab3-4a68-b59a-e85f4e912d55"
      },
      "execution_count": null,
      "outputs": [
        {
          "output_type": "execute_result",
          "data": {
            "text/plain": [
              "(2780, 1)"
            ]
          },
          "metadata": {},
          "execution_count": 42
        }
      ]
    },
    {
      "cell_type": "code",
      "source": [
        "import os\n",
        "save_path='model_experiment'\n",
        "filepath=os.path.join(save_path)\n",
        "\n",
        "callback=tf.keras.callbacks.ModelCheckpoint(filepath, monitor='val_loss',save_best_only=True, save_weights_only=False)"
      ],
      "metadata": {
        "id": "F9u4uZPDmBpO"
      },
      "execution_count": null,
      "outputs": []
    },
    {
      "cell_type": "code",
      "source": [
        "import tensorflow as tf\n",
        "tf.random.set_seed(42)\n",
        "model_1=tf.keras.Sequential([\n",
        "    tf.keras.layers.Dense(128, activation='relu'),\n",
        "    tf.keras.layers.Dense(1, activation='linear'),\n",
        "\n",
        "],name='model_1_dense')"
      ],
      "metadata": {
        "id": "i_OOCCBbRm0S",
        "colab": {
          "base_uri": "https://localhost:8080/",
          "height": 385
        },
        "outputId": "bcb4087b-5d91-437f-ecfd-ba3972028430"
      },
      "execution_count": null,
      "outputs": [
        {
          "output_type": "error",
          "ename": "KeyboardInterrupt",
          "evalue": "ignored",
          "traceback": [
            "\u001b[0;31m---------------------------------------------------------------------------\u001b[0m",
            "\u001b[0;31mKeyboardInterrupt\u001b[0m                         Traceback (most recent call last)",
            "\u001b[0;32m<ipython-input-32-232a98722b0c>\u001b[0m in \u001b[0;36m<cell line: 1>\u001b[0;34m()\u001b[0m\n\u001b[0;32m----> 1\u001b[0;31m \u001b[0;32mimport\u001b[0m \u001b[0mtensorflow\u001b[0m \u001b[0;32mas\u001b[0m \u001b[0mtf\u001b[0m\u001b[0;34m\u001b[0m\u001b[0;34m\u001b[0m\u001b[0m\n\u001b[0m\u001b[1;32m      2\u001b[0m \u001b[0mtf\u001b[0m\u001b[0;34m.\u001b[0m\u001b[0mrandom\u001b[0m\u001b[0;34m.\u001b[0m\u001b[0mset_seed\u001b[0m\u001b[0;34m(\u001b[0m\u001b[0;36m42\u001b[0m\u001b[0;34m)\u001b[0m\u001b[0;34m\u001b[0m\u001b[0;34m\u001b[0m\u001b[0m\n\u001b[1;32m      3\u001b[0m model_1=tf.keras.Sequential([\n\u001b[1;32m      4\u001b[0m     \u001b[0mtf\u001b[0m\u001b[0;34m.\u001b[0m\u001b[0mkeras\u001b[0m\u001b[0;34m.\u001b[0m\u001b[0mlayers\u001b[0m\u001b[0;34m.\u001b[0m\u001b[0mDense\u001b[0m\u001b[0;34m(\u001b[0m\u001b[0;36m128\u001b[0m\u001b[0;34m,\u001b[0m \u001b[0mactivation\u001b[0m\u001b[0;34m=\u001b[0m\u001b[0;34m'relu'\u001b[0m\u001b[0;34m)\u001b[0m\u001b[0;34m,\u001b[0m\u001b[0;34m\u001b[0m\u001b[0;34m\u001b[0m\u001b[0m\n\u001b[1;32m      5\u001b[0m     \u001b[0mtf\u001b[0m\u001b[0;34m.\u001b[0m\u001b[0mkeras\u001b[0m\u001b[0;34m.\u001b[0m\u001b[0mlayers\u001b[0m\u001b[0;34m.\u001b[0m\u001b[0mDense\u001b[0m\u001b[0;34m(\u001b[0m\u001b[0;36m1\u001b[0m\u001b[0;34m,\u001b[0m \u001b[0mactivation\u001b[0m\u001b[0;34m=\u001b[0m\u001b[0;34m'linear'\u001b[0m\u001b[0;34m)\u001b[0m\u001b[0;34m,\u001b[0m\u001b[0;34m\u001b[0m\u001b[0;34m\u001b[0m\u001b[0m\n",
            "\u001b[0;32m/usr/local/lib/python3.10/dist-packages/tensorflow/__init__.py\u001b[0m in \u001b[0;36m<module>\u001b[0;34m\u001b[0m\n\u001b[1;32m     35\u001b[0m \u001b[0;32mimport\u001b[0m \u001b[0mtyping\u001b[0m \u001b[0;32mas\u001b[0m \u001b[0m_typing\u001b[0m\u001b[0;34m\u001b[0m\u001b[0;34m\u001b[0m\u001b[0m\n\u001b[1;32m     36\u001b[0m \u001b[0;34m\u001b[0m\u001b[0m\n\u001b[0;32m---> 37\u001b[0;31m \u001b[0;32mfrom\u001b[0m \u001b[0mtensorflow\u001b[0m\u001b[0;34m.\u001b[0m\u001b[0mpython\u001b[0m\u001b[0;34m.\u001b[0m\u001b[0mtools\u001b[0m \u001b[0;32mimport\u001b[0m \u001b[0mmodule_util\u001b[0m \u001b[0;32mas\u001b[0m \u001b[0m_module_util\u001b[0m\u001b[0;34m\u001b[0m\u001b[0;34m\u001b[0m\u001b[0m\n\u001b[0m\u001b[1;32m     38\u001b[0m \u001b[0;32mfrom\u001b[0m \u001b[0mtensorflow\u001b[0m\u001b[0;34m.\u001b[0m\u001b[0mpython\u001b[0m\u001b[0;34m.\u001b[0m\u001b[0mutil\u001b[0m\u001b[0;34m.\u001b[0m\u001b[0mlazy_loader\u001b[0m \u001b[0;32mimport\u001b[0m \u001b[0mLazyLoader\u001b[0m \u001b[0;32mas\u001b[0m \u001b[0m_LazyLoader\u001b[0m\u001b[0;34m\u001b[0m\u001b[0;34m\u001b[0m\u001b[0m\n\u001b[1;32m     39\u001b[0m \u001b[0;34m\u001b[0m\u001b[0m\n",
            "\u001b[0;32m/usr/local/lib/python3.10/dist-packages/tensorflow/python/__init__.py\u001b[0m in \u001b[0;36m<module>\u001b[0;34m\u001b[0m\n\u001b[1;32m     34\u001b[0m \u001b[0;31m# pylint: disable=wildcard-import,g-bad-import-order,g-import-not-at-top\u001b[0m\u001b[0;34m\u001b[0m\u001b[0;34m\u001b[0m\u001b[0m\n\u001b[1;32m     35\u001b[0m \u001b[0;34m\u001b[0m\u001b[0m\n\u001b[0;32m---> 36\u001b[0;31m \u001b[0;32mfrom\u001b[0m \u001b[0mtensorflow\u001b[0m\u001b[0;34m.\u001b[0m\u001b[0mpython\u001b[0m \u001b[0;32mimport\u001b[0m \u001b[0mpywrap_tensorflow\u001b[0m \u001b[0;32mas\u001b[0m \u001b[0m_pywrap_tensorflow\u001b[0m\u001b[0;34m\u001b[0m\u001b[0;34m\u001b[0m\u001b[0m\n\u001b[0m\u001b[1;32m     37\u001b[0m \u001b[0;32mfrom\u001b[0m \u001b[0mtensorflow\u001b[0m\u001b[0;34m.\u001b[0m\u001b[0mpython\u001b[0m\u001b[0;34m.\u001b[0m\u001b[0meager\u001b[0m \u001b[0;32mimport\u001b[0m \u001b[0mcontext\u001b[0m\u001b[0;34m\u001b[0m\u001b[0;34m\u001b[0m\u001b[0m\n\u001b[1;32m     38\u001b[0m \u001b[0;34m\u001b[0m\u001b[0m\n",
            "\u001b[0;32m/usr/local/lib/python3.10/dist-packages/tensorflow/python/pywrap_tensorflow.py\u001b[0m in \u001b[0;36m<module>\u001b[0;34m\u001b[0m\n\u001b[1;32m     24\u001b[0m \u001b[0;34m\u001b[0m\u001b[0m\n\u001b[1;32m     25\u001b[0m \u001b[0;31m# Perform pre-load sanity checks in order to produce a more actionable error.\u001b[0m\u001b[0;34m\u001b[0m\u001b[0;34m\u001b[0m\u001b[0m\n\u001b[0;32m---> 26\u001b[0;31m \u001b[0mself_check\u001b[0m\u001b[0;34m.\u001b[0m\u001b[0mpreload_check\u001b[0m\u001b[0;34m(\u001b[0m\u001b[0;34m)\u001b[0m\u001b[0;34m\u001b[0m\u001b[0;34m\u001b[0m\u001b[0m\n\u001b[0m\u001b[1;32m     27\u001b[0m \u001b[0;34m\u001b[0m\u001b[0m\n\u001b[1;32m     28\u001b[0m \u001b[0;31m# pylint: disable=wildcard-import,g-import-not-at-top,unused-import,line-too-long\u001b[0m\u001b[0;34m\u001b[0m\u001b[0;34m\u001b[0m\u001b[0m\n",
            "\u001b[0;32m/usr/local/lib/python3.10/dist-packages/tensorflow/python/platform/self_check.py\u001b[0m in \u001b[0;36mpreload_check\u001b[0;34m()\u001b[0m\n\u001b[1;32m     61\u001b[0m     \u001b[0;31m# incompatibilities before we trigger them (which would typically result in\u001b[0m\u001b[0;34m\u001b[0m\u001b[0;34m\u001b[0m\u001b[0m\n\u001b[1;32m     62\u001b[0m     \u001b[0;31m# SIGILL).\u001b[0m\u001b[0;34m\u001b[0m\u001b[0;34m\u001b[0m\u001b[0m\n\u001b[0;32m---> 63\u001b[0;31m     \u001b[0;32mfrom\u001b[0m \u001b[0mtensorflow\u001b[0m\u001b[0;34m.\u001b[0m\u001b[0mpython\u001b[0m\u001b[0;34m.\u001b[0m\u001b[0mplatform\u001b[0m \u001b[0;32mimport\u001b[0m \u001b[0m_pywrap_cpu_feature_guard\u001b[0m\u001b[0;34m\u001b[0m\u001b[0;34m\u001b[0m\u001b[0m\n\u001b[0m\u001b[1;32m     64\u001b[0m     \u001b[0m_pywrap_cpu_feature_guard\u001b[0m\u001b[0;34m.\u001b[0m\u001b[0mInfoAboutUnusedCPUFeatures\u001b[0m\u001b[0;34m(\u001b[0m\u001b[0;34m)\u001b[0m\u001b[0;34m\u001b[0m\u001b[0;34m\u001b[0m\u001b[0m\n",
            "\u001b[0;31mKeyboardInterrupt\u001b[0m: "
          ]
        }
      ]
    },
    {
      "cell_type": "code",
      "source": [
        "model_1.compile(loss='mae', metrics=[\"mae\", \"mse\"], optimizer='adam')"
      ],
      "metadata": {
        "id": "GrBrQIrttiyX"
      },
      "execution_count": null,
      "outputs": []
    },
    {
      "cell_type": "code",
      "source": [
        "#model_1.summary()"
      ],
      "metadata": {
        "id": "9OxCK3q9umd3"
      },
      "execution_count": null,
      "outputs": []
    },
    {
      "cell_type": "code",
      "source": [
        "model_1.fit(x=x_train,y=y_train, epochs=100, validation_data=(x_test, y_test), callbacks=[callback])"
      ],
      "metadata": {
        "colab": {
          "base_uri": "https://localhost:8080/"
        },
        "id": "ITcHXLSuuWGW",
        "outputId": "87bc17f2-f08c-4b9f-9905-56a379edebaf"
      },
      "execution_count": null,
      "outputs": [
        {
          "output_type": "stream",
          "name": "stdout",
          "text": [
            "Epoch 1/100\n",
            "70/70 [==============================] - 4s 37ms/step - loss: 422.2661 - mae: 422.2661 - mse: 1082577.7500 - val_loss: 1048.0857 - val_mae: 1048.0857 - val_mse: 3533999.0000\n",
            "Epoch 2/100\n",
            "70/70 [==============================] - 2s 36ms/step - loss: 182.6085 - mae: 182.6085 - mse: 171722.0781 - val_loss: 931.2977 - val_mae: 931.2977 - val_mse: 2913427.5000\n",
            "Epoch 3/100\n",
            "70/70 [==============================] - 2s 29ms/step - loss: 160.0776 - mae: 160.0776 - mse: 132844.1562 - val_loss: 883.7022 - val_mae: 883.7022 - val_mse: 2566894.5000\n",
            "Epoch 4/100\n",
            "70/70 [==============================] - 1s 19ms/step - loss: 145.0917 - mae: 145.0917 - mse: 110133.2578 - val_loss: 744.2556 - val_mae: 744.2556 - val_mse: 1878410.6250\n",
            "Epoch 5/100\n",
            "70/70 [==============================] - 0s 6ms/step - loss: 136.3170 - mae: 136.3170 - mse: 100602.3438 - val_loss: 849.4691 - val_mae: 849.4691 - val_mse: 2052967.3750\n",
            "Epoch 6/100\n",
            "70/70 [==============================] - 1s 19ms/step - loss: 135.8858 - mae: 135.8858 - mse: 97806.3672 - val_loss: 673.6814 - val_mae: 673.6814 - val_mse: 1553230.6250\n",
            "Epoch 7/100\n",
            "70/70 [==============================] - 0s 5ms/step - loss: 123.2386 - mae: 123.2386 - mse: 87665.1406 - val_loss: 706.1205 - val_mae: 706.1205 - val_mse: 1646991.7500\n",
            "Epoch 8/100\n",
            "70/70 [==============================] - 1s 21ms/step - loss: 121.7383 - mae: 121.7383 - mse: 85590.4297 - val_loss: 646.2786 - val_mae: 646.2786 - val_mse: 1444601.1250\n",
            "Epoch 9/100\n",
            "70/70 [==============================] - 2s 25ms/step - loss: 119.7604 - mae: 119.7604 - mse: 83373.0781 - val_loss: 622.8523 - val_mae: 622.8523 - val_mse: 1360443.8750\n",
            "Epoch 10/100\n",
            "70/70 [==============================] - 0s 5ms/step - loss: 119.1125 - mae: 119.1125 - mse: 81426.8984 - val_loss: 633.2930 - val_mae: 633.2930 - val_mse: 1391948.3750\n",
            "Epoch 11/100\n",
            "70/70 [==============================] - 1s 17ms/step - loss: 117.6282 - mae: 117.6282 - mse: 80814.5938 - val_loss: 617.1738 - val_mae: 617.1738 - val_mse: 1321999.2500\n",
            "Epoch 12/100\n",
            "70/70 [==============================] - 1s 20ms/step - loss: 122.4682 - mae: 122.4682 - mse: 83003.7656 - val_loss: 603.1816 - val_mae: 603.1816 - val_mse: 1297788.8750\n",
            "Epoch 13/100\n",
            "70/70 [==============================] - 0s 7ms/step - loss: 121.4959 - mae: 121.4959 - mse: 80724.3438 - val_loss: 634.2897 - val_mae: 634.2897 - val_mse: 1372121.1250\n",
            "Epoch 14/100\n",
            "70/70 [==============================] - 1s 9ms/step - loss: 117.9468 - mae: 117.9468 - mse: 78166.9375 - val_loss: 610.5279 - val_mae: 610.5279 - val_mse: 1310812.7500\n",
            "Epoch 15/100\n",
            "70/70 [==============================] - 1s 8ms/step - loss: 115.5446 - mae: 115.5446 - mse: 76985.8672 - val_loss: 697.5643 - val_mae: 697.5643 - val_mse: 1475128.2500\n",
            "Epoch 16/100\n",
            "70/70 [==============================] - 1s 14ms/step - loss: 116.5377 - mae: 116.5377 - mse: 76892.0078 - val_loss: 607.1246 - val_mae: 607.1246 - val_mse: 1272668.7500\n",
            "Epoch 17/100\n",
            "70/70 [==============================] - 1s 10ms/step - loss: 114.7303 - mae: 114.7303 - mse: 73907.0625 - val_loss: 618.3760 - val_mae: 618.3760 - val_mse: 1312598.8750\n",
            "Epoch 18/100\n",
            "70/70 [==============================] - 0s 5ms/step - loss: 118.3090 - mae: 118.3090 - mse: 76690.8750 - val_loss: 633.6543 - val_mae: 633.6543 - val_mse: 1349451.3750\n",
            "Epoch 19/100\n",
            "70/70 [==============================] - 0s 7ms/step - loss: 117.5231 - mae: 117.5231 - mse: 78001.5625 - val_loss: 611.6000 - val_mae: 611.6000 - val_mse: 1294058.6250\n",
            "Epoch 20/100\n",
            "70/70 [==============================] - 1s 10ms/step - loss: 121.8453 - mae: 121.8453 - mse: 76241.4531 - val_loss: 778.9817 - val_mae: 778.9817 - val_mse: 1708575.0000\n",
            "Epoch 21/100\n",
            "70/70 [==============================] - 1s 18ms/step - loss: 118.1179 - mae: 118.1179 - mse: 77822.6094 - val_loss: 601.7897 - val_mae: 601.7897 - val_mse: 1250794.2500\n",
            "Epoch 22/100\n",
            "70/70 [==============================] - 0s 5ms/step - loss: 122.5118 - mae: 122.5118 - mse: 77076.5781 - val_loss: 603.1351 - val_mae: 603.1351 - val_mse: 1267856.0000\n",
            "Epoch 23/100\n",
            "70/70 [==============================] - 1s 19ms/step - loss: 116.1811 - mae: 116.1811 - mse: 75982.8984 - val_loss: 584.5195 - val_mae: 584.5195 - val_mse: 1229260.2500\n",
            "Epoch 24/100\n",
            "70/70 [==============================] - 0s 3ms/step - loss: 119.2656 - mae: 119.2656 - mse: 73835.8047 - val_loss: 601.6561 - val_mae: 601.6561 - val_mse: 1249139.3750\n",
            "Epoch 25/100\n",
            "70/70 [==============================] - 1s 10ms/step - loss: 112.5389 - mae: 112.5389 - mse: 73770.7422 - val_loss: 581.9189 - val_mae: 581.9189 - val_mse: 1218243.2500\n",
            "Epoch 26/100\n",
            "70/70 [==============================] - 0s 3ms/step - loss: 113.9165 - mae: 113.9165 - mse: 74502.4062 - val_loss: 637.9432 - val_mae: 637.9432 - val_mse: 1315966.5000\n",
            "Epoch 27/100\n",
            "70/70 [==============================] - 0s 3ms/step - loss: 117.0511 - mae: 117.0511 - mse: 75950.5391 - val_loss: 586.9880 - val_mae: 586.9880 - val_mse: 1230522.7500\n",
            "Epoch 28/100\n",
            "70/70 [==============================] - 0s 3ms/step - loss: 115.5307 - mae: 115.5307 - mse: 72834.6797 - val_loss: 583.3230 - val_mae: 583.3230 - val_mse: 1214128.7500\n",
            "Epoch 29/100\n",
            "70/70 [==============================] - 0s 3ms/step - loss: 116.9041 - mae: 116.9041 - mse: 76667.3594 - val_loss: 605.1974 - val_mae: 605.1974 - val_mse: 1270001.8750\n",
            "Epoch 30/100\n",
            "70/70 [==============================] - 0s 3ms/step - loss: 108.0851 - mae: 108.0851 - mse: 70269.9062 - val_loss: 606.0408 - val_mae: 606.0408 - val_mse: 1267482.8750\n",
            "Epoch 31/100\n",
            "70/70 [==============================] - 0s 3ms/step - loss: 110.2506 - mae: 110.2506 - mse: 72541.0781 - val_loss: 598.0675 - val_mae: 598.0675 - val_mse: 1230691.6250\n",
            "Epoch 32/100\n",
            "70/70 [==============================] - 0s 3ms/step - loss: 108.6151 - mae: 108.6151 - mse: 71195.2734 - val_loss: 643.2800 - val_mae: 643.2800 - val_mse: 1316748.8750\n",
            "Epoch 33/100\n",
            "70/70 [==============================] - 0s 3ms/step - loss: 111.4348 - mae: 111.4348 - mse: 72429.3281 - val_loss: 732.4051 - val_mae: 732.4051 - val_mse: 1609178.6250\n",
            "Epoch 34/100\n",
            "70/70 [==============================] - 0s 3ms/step - loss: 113.0352 - mae: 113.0352 - mse: 70699.8906 - val_loss: 589.5767 - val_mae: 589.5767 - val_mse: 1228487.2500\n",
            "Epoch 35/100\n",
            "70/70 [==============================] - 0s 3ms/step - loss: 114.7746 - mae: 114.7746 - mse: 69630.8984 - val_loss: 592.9064 - val_mae: 592.9064 - val_mse: 1244047.0000\n",
            "Epoch 36/100\n",
            "70/70 [==============================] - 0s 3ms/step - loss: 113.2628 - mae: 113.2628 - mse: 72773.8281 - val_loss: 631.9712 - val_mae: 631.9712 - val_mse: 1290367.7500\n",
            "Epoch 37/100\n",
            "70/70 [==============================] - 0s 3ms/step - loss: 107.8564 - mae: 107.8564 - mse: 68708.5078 - val_loss: 588.6550 - val_mae: 588.6550 - val_mse: 1228114.8750\n",
            "Epoch 38/100\n",
            "70/70 [==============================] - 0s 3ms/step - loss: 110.7967 - mae: 110.7967 - mse: 72419.4219 - val_loss: 596.4246 - val_mae: 596.4246 - val_mse: 1243608.5000\n",
            "Epoch 39/100\n",
            "70/70 [==============================] - 0s 3ms/step - loss: 108.6830 - mae: 108.6830 - mse: 69859.2656 - val_loss: 753.4758 - val_mae: 753.4758 - val_mse: 1599626.2500\n",
            "Epoch 40/100\n",
            "70/70 [==============================] - 0s 3ms/step - loss: 112.3378 - mae: 112.3378 - mse: 71089.8906 - val_loss: 585.2534 - val_mae: 585.2534 - val_mse: 1212589.1250\n",
            "Epoch 41/100\n",
            "70/70 [==============================] - 0s 4ms/step - loss: 109.7268 - mae: 109.7268 - mse: 69057.1094 - val_loss: 685.4448 - val_mae: 685.4448 - val_mse: 1407219.6250\n",
            "Epoch 42/100\n",
            "70/70 [==============================] - 0s 3ms/step - loss: 121.3140 - mae: 121.3140 - mse: 75267.3594 - val_loss: 674.2220 - val_mae: 674.2220 - val_mse: 1441979.8750\n",
            "Epoch 43/100\n",
            "70/70 [==============================] - 0s 3ms/step - loss: 109.2521 - mae: 109.2521 - mse: 69313.6406 - val_loss: 626.1519 - val_mae: 626.1519 - val_mse: 1279914.3750\n",
            "Epoch 44/100\n",
            "70/70 [==============================] - 0s 3ms/step - loss: 112.9637 - mae: 112.9637 - mse: 72311.4141 - val_loss: 778.3575 - val_mae: 778.3575 - val_mse: 1668535.8750\n",
            "Epoch 45/100\n",
            "70/70 [==============================] - 0s 5ms/step - loss: 113.6713 - mae: 113.6713 - mse: 75592.5234 - val_loss: 608.2573 - val_mae: 608.2573 - val_mse: 1244855.8750\n",
            "Epoch 46/100\n",
            "70/70 [==============================] - 0s 5ms/step - loss: 109.8230 - mae: 109.8230 - mse: 70733.8359 - val_loss: 603.9189 - val_mae: 603.9189 - val_mse: 1255848.8750\n",
            "Epoch 47/100\n",
            "70/70 [==============================] - 0s 5ms/step - loss: 108.8617 - mae: 108.8617 - mse: 70377.3672 - val_loss: 584.8850 - val_mae: 584.8850 - val_mse: 1194089.0000\n",
            "Epoch 48/100\n",
            "70/70 [==============================] - 0s 5ms/step - loss: 113.8388 - mae: 113.8388 - mse: 74613.7344 - val_loss: 640.5685 - val_mae: 640.5685 - val_mse: 1306368.0000\n",
            "Epoch 49/100\n",
            "70/70 [==============================] - 0s 5ms/step - loss: 113.2921 - mae: 113.2921 - mse: 73318.8359 - val_loss: 592.4945 - val_mae: 592.4946 - val_mse: 1211588.1250\n",
            "Epoch 50/100\n",
            "70/70 [==============================] - 0s 5ms/step - loss: 111.6632 - mae: 111.6632 - mse: 69628.1016 - val_loss: 767.7684 - val_mae: 767.7684 - val_mse: 1721825.6250\n",
            "Epoch 51/100\n",
            "70/70 [==============================] - 0s 5ms/step - loss: 111.1636 - mae: 111.1636 - mse: 71242.8672 - val_loss: 594.7390 - val_mae: 594.7390 - val_mse: 1232234.3750\n",
            "Epoch 52/100\n",
            "70/70 [==============================] - 0s 5ms/step - loss: 109.5970 - mae: 109.5970 - mse: 70424.7578 - val_loss: 590.2493 - val_mae: 590.2493 - val_mse: 1199279.5000\n",
            "Epoch 53/100\n",
            "70/70 [==============================] - 1s 10ms/step - loss: 113.0284 - mae: 113.0284 - mse: 74656.4609 - val_loss: 578.2415 - val_mae: 578.2415 - val_mse: 1184654.7500\n",
            "Epoch 54/100\n",
            "70/70 [==============================] - 1s 9ms/step - loss: 113.2060 - mae: 113.2060 - mse: 72916.0000 - val_loss: 578.0178 - val_mae: 578.0178 - val_mse: 1180542.7500\n",
            "Epoch 55/100\n",
            "70/70 [==============================] - 0s 4ms/step - loss: 111.5145 - mae: 111.5145 - mse: 73062.7422 - val_loss: 582.0188 - val_mae: 582.0188 - val_mse: 1205632.1250\n",
            "Epoch 56/100\n",
            "70/70 [==============================] - 0s 3ms/step - loss: 111.4490 - mae: 111.4490 - mse: 70717.4844 - val_loss: 689.7518 - val_mae: 689.7518 - val_mse: 1472422.3750\n",
            "Epoch 57/100\n",
            "70/70 [==============================] - 0s 3ms/step - loss: 111.7947 - mae: 111.7947 - mse: 73635.0000 - val_loss: 656.3990 - val_mae: 656.3990 - val_mse: 1337520.7500\n",
            "Epoch 58/100\n",
            "70/70 [==============================] - 1s 9ms/step - loss: 114.7329 - mae: 114.7329 - mse: 73129.6172 - val_loss: 576.5205 - val_mae: 576.5205 - val_mse: 1192845.7500\n",
            "Epoch 59/100\n",
            "70/70 [==============================] - 0s 3ms/step - loss: 112.8566 - mae: 112.8566 - mse: 74051.2109 - val_loss: 622.2277 - val_mae: 622.2277 - val_mse: 1263006.3750\n",
            "Epoch 60/100\n",
            "70/70 [==============================] - 0s 3ms/step - loss: 111.7946 - mae: 111.7946 - mse: 72987.1797 - val_loss: 616.9638 - val_mae: 616.9638 - val_mse: 1251443.7500\n",
            "Epoch 61/100\n",
            "70/70 [==============================] - 0s 3ms/step - loss: 114.3470 - mae: 114.3470 - mse: 71119.6016 - val_loss: 648.6743 - val_mae: 648.6743 - val_mse: 1318118.7500\n",
            "Epoch 62/100\n",
            "70/70 [==============================] - 0s 3ms/step - loss: 113.0931 - mae: 113.0931 - mse: 73092.0078 - val_loss: 578.4573 - val_mae: 578.4573 - val_mse: 1185222.1250\n",
            "Epoch 63/100\n",
            "70/70 [==============================] - 0s 3ms/step - loss: 106.0254 - mae: 106.0254 - mse: 66764.0703 - val_loss: 618.2106 - val_mae: 618.2106 - val_mse: 1251936.7500\n",
            "Epoch 64/100\n",
            "70/70 [==============================] - 0s 3ms/step - loss: 106.8169 - mae: 106.8169 - mse: 68712.5156 - val_loss: 588.7339 - val_mae: 588.7339 - val_mse: 1216830.1250\n",
            "Epoch 65/100\n",
            "70/70 [==============================] - 0s 3ms/step - loss: 111.6115 - mae: 111.6115 - mse: 70027.9609 - val_loss: 858.2146 - val_mae: 858.2146 - val_mse: 2049937.0000\n",
            "Epoch 66/100\n",
            "70/70 [==============================] - 1s 15ms/step - loss: 114.8201 - mae: 114.8201 - mse: 73746.7109 - val_loss: 570.4010 - val_mae: 570.4010 - val_mse: 1174857.6250\n",
            "Epoch 67/100\n",
            "70/70 [==============================] - 0s 3ms/step - loss: 117.1869 - mae: 117.1869 - mse: 76692.0078 - val_loss: 571.3185 - val_mae: 571.3185 - val_mse: 1178311.3750\n",
            "Epoch 68/100\n",
            "70/70 [==============================] - 0s 3ms/step - loss: 113.8824 - mae: 113.8824 - mse: 71028.7500 - val_loss: 629.8804 - val_mae: 629.8804 - val_mse: 1276659.0000\n",
            "Epoch 69/100\n",
            "70/70 [==============================] - 0s 3ms/step - loss: 117.5302 - mae: 117.5302 - mse: 74059.2578 - val_loss: 591.4573 - val_mae: 591.4573 - val_mse: 1207387.1250\n",
            "Epoch 70/100\n",
            "70/70 [==============================] - 0s 3ms/step - loss: 117.7206 - mae: 117.7206 - mse: 74355.0781 - val_loss: 665.6111 - val_mae: 665.6111 - val_mse: 1364618.8750\n",
            "Epoch 71/100\n",
            "70/70 [==============================] - 0s 3ms/step - loss: 109.8687 - mae: 109.8687 - mse: 69999.8516 - val_loss: 585.7857 - val_mae: 585.7857 - val_mse: 1188707.6250\n",
            "Epoch 72/100\n",
            "70/70 [==============================] - 0s 3ms/step - loss: 108.1906 - mae: 108.1906 - mse: 68515.8125 - val_loss: 599.0819 - val_mae: 599.0819 - val_mse: 1218549.6250\n",
            "Epoch 73/100\n",
            "70/70 [==============================] - 0s 3ms/step - loss: 117.5366 - mae: 117.5366 - mse: 79104.1797 - val_loss: 641.3568 - val_mae: 641.3568 - val_mse: 1345405.2500\n",
            "Epoch 74/100\n",
            "70/70 [==============================] - 0s 3ms/step - loss: 112.9549 - mae: 112.9549 - mse: 73588.2422 - val_loss: 600.8522 - val_mae: 600.8522 - val_mse: 1248978.1250\n",
            "Epoch 75/100\n",
            "70/70 [==============================] - 0s 3ms/step - loss: 111.3506 - mae: 111.3506 - mse: 72009.1094 - val_loss: 603.4294 - val_mae: 603.4294 - val_mse: 1254254.3750\n",
            "Epoch 76/100\n",
            "70/70 [==============================] - 0s 3ms/step - loss: 112.0454 - mae: 112.0454 - mse: 70853.6094 - val_loss: 579.2215 - val_mae: 579.2215 - val_mse: 1196287.8750\n",
            "Epoch 77/100\n",
            "70/70 [==============================] - 0s 3ms/step - loss: 109.4859 - mae: 109.4859 - mse: 69820.9297 - val_loss: 713.9298 - val_mae: 713.9298 - val_mse: 1543060.8750\n",
            "Epoch 78/100\n",
            "70/70 [==============================] - 0s 3ms/step - loss: 112.6630 - mae: 112.6630 - mse: 72460.8594 - val_loss: 584.4934 - val_mae: 584.4934 - val_mse: 1204895.2500\n",
            "Epoch 79/100\n",
            "70/70 [==============================] - 0s 3ms/step - loss: 106.7648 - mae: 106.7648 - mse: 67385.8594 - val_loss: 616.7296 - val_mae: 616.7296 - val_mse: 1246543.5000\n",
            "Epoch 80/100\n",
            "70/70 [==============================] - 0s 4ms/step - loss: 111.3876 - mae: 111.3876 - mse: 70180.4062 - val_loss: 575.7542 - val_mae: 575.7542 - val_mse: 1186634.6250\n",
            "Epoch 81/100\n",
            "70/70 [==============================] - 0s 3ms/step - loss: 117.7917 - mae: 117.7917 - mse: 70972.1484 - val_loss: 595.4671 - val_mae: 595.4671 - val_mse: 1233426.3750\n",
            "Epoch 82/100\n",
            "70/70 [==============================] - 0s 3ms/step - loss: 113.7718 - mae: 113.7718 - mse: 76379.6797 - val_loss: 573.9202 - val_mae: 573.9202 - val_mse: 1179946.0000\n",
            "Epoch 83/100\n",
            "70/70 [==============================] - 0s 3ms/step - loss: 111.4677 - mae: 111.4677 - mse: 69933.8750 - val_loss: 617.2755 - val_mae: 617.2755 - val_mse: 1285337.3750\n",
            "Epoch 84/100\n",
            "70/70 [==============================] - 0s 3ms/step - loss: 111.4686 - mae: 111.4686 - mse: 72298.2969 - val_loss: 583.5358 - val_mae: 583.5358 - val_mse: 1187614.3750\n",
            "Epoch 85/100\n",
            "70/70 [==============================] - 0s 3ms/step - loss: 109.5416 - mae: 109.5416 - mse: 71146.0859 - val_loss: 579.6080 - val_mae: 579.6080 - val_mse: 1196397.1250\n",
            "Epoch 86/100\n",
            "70/70 [==============================] - 0s 4ms/step - loss: 106.2206 - mae: 106.2206 - mse: 67593.0391 - val_loss: 662.3270 - val_mae: 662.3270 - val_mse: 1347548.3750\n",
            "Epoch 87/100\n",
            "70/70 [==============================] - 0s 3ms/step - loss: 109.5580 - mae: 109.5580 - mse: 70456.2109 - val_loss: 635.7436 - val_mae: 635.7436 - val_mse: 1286989.5000\n",
            "Epoch 88/100\n",
            "70/70 [==============================] - 0s 5ms/step - loss: 114.0236 - mae: 114.0236 - mse: 68913.1406 - val_loss: 610.8607 - val_mae: 610.8607 - val_mse: 1245972.7500\n",
            "Epoch 89/100\n",
            "70/70 [==============================] - 0s 5ms/step - loss: 109.3499 - mae: 109.3499 - mse: 69284.9375 - val_loss: 608.2918 - val_mae: 608.2918 - val_mse: 1231440.0000\n",
            "Epoch 90/100\n",
            "70/70 [==============================] - 0s 5ms/step - loss: 111.6160 - mae: 111.6160 - mse: 73411.7188 - val_loss: 611.2192 - val_mae: 611.2192 - val_mse: 1248138.0000\n",
            "Epoch 91/100\n",
            "70/70 [==============================] - 0s 4ms/step - loss: 108.3048 - mae: 108.3048 - mse: 69594.1953 - val_loss: 748.6118 - val_mae: 748.6118 - val_mse: 1642989.1250\n",
            "Epoch 92/100\n",
            "70/70 [==============================] - 0s 4ms/step - loss: 113.5946 - mae: 113.5946 - mse: 74190.3594 - val_loss: 595.6046 - val_mae: 595.6046 - val_mse: 1204909.0000\n",
            "Epoch 93/100\n",
            "70/70 [==============================] - 0s 5ms/step - loss: 107.9486 - mae: 107.9486 - mse: 70298.1875 - val_loss: 626.1644 - val_mae: 626.1644 - val_mse: 1308331.8750\n",
            "Epoch 94/100\n",
            "70/70 [==============================] - 0s 5ms/step - loss: 108.0371 - mae: 108.0371 - mse: 70298.2109 - val_loss: 596.4037 - val_mae: 596.4037 - val_mse: 1209395.7500\n",
            "Epoch 95/100\n",
            "70/70 [==============================] - 0s 5ms/step - loss: 120.5890 - mae: 120.5890 - mse: 78098.7812 - val_loss: 574.0334 - val_mae: 574.0334 - val_mse: 1188102.1250\n",
            "Epoch 96/100\n",
            "70/70 [==============================] - 0s 5ms/step - loss: 118.1648 - mae: 118.1648 - mse: 77300.7734 - val_loss: 839.4108 - val_mae: 839.4108 - val_mse: 1858428.2500\n",
            "Epoch 97/100\n",
            "70/70 [==============================] - 0s 3ms/step - loss: 115.5455 - mae: 115.5455 - mse: 69930.3906 - val_loss: 603.8745 - val_mae: 603.8745 - val_mse: 1256711.8750\n",
            "Epoch 98/100\n",
            "70/70 [==============================] - 0s 3ms/step - loss: 109.6575 - mae: 109.6575 - mse: 69694.1719 - val_loss: 743.8488 - val_mae: 743.8488 - val_mse: 1568324.1250\n",
            "Epoch 99/100\n",
            "70/70 [==============================] - 0s 3ms/step - loss: 111.4785 - mae: 111.4785 - mse: 71225.1875 - val_loss: 578.8304 - val_mae: 578.8304 - val_mse: 1177837.8750\n",
            "Epoch 100/100\n",
            "70/70 [==============================] - 0s 3ms/step - loss: 111.4851 - mae: 111.4851 - mse: 72064.1172 - val_loss: 605.5292 - val_mae: 605.5292 - val_mse: 1227732.2500\n"
          ]
        },
        {
          "output_type": "execute_result",
          "data": {
            "text/plain": [
              "<keras.src.callbacks.History at 0x7b1bbc240520>"
            ]
          },
          "metadata": {},
          "execution_count": 47
        }
      ]
    },
    {
      "cell_type": "code",
      "source": [
        "model_1.evaluate(x_test,y_test)"
      ],
      "metadata": {
        "colab": {
          "base_uri": "https://localhost:8080/"
        },
        "id": "_D65NP6evV2J",
        "outputId": "5706cc6b-8400-4575-cf72-461e065643ab"
      },
      "execution_count": null,
      "outputs": [
        {
          "output_type": "stream",
          "name": "stdout",
          "text": [
            "18/18 [==============================] - 0s 2ms/step - loss: 605.5292 - mae: 605.5292 - mse: 1227732.2500\n"
          ]
        },
        {
          "output_type": "execute_result",
          "data": {
            "text/plain": [
              "[605.5292358398438, 605.5292358398438, 1227732.25]"
            ]
          },
          "metadata": {},
          "execution_count": 48
        }
      ]
    },
    {
      "cell_type": "code",
      "source": [
        "model_1=tf.keras.models.load_model('/content/model_experiment')"
      ],
      "metadata": {
        "id": "R8MPLCIv4Ucn"
      },
      "execution_count": null,
      "outputs": []
    },
    {
      "cell_type": "code",
      "source": [
        "y_pred=model_1.predict(x_test)"
      ],
      "metadata": {
        "colab": {
          "base_uri": "https://localhost:8080/"
        },
        "id": "B_PtGNFXxJJm",
        "outputId": "1d55dd0f-2e8f-42b0-d043-88edbdcab61c"
      },
      "execution_count": null,
      "outputs": [
        {
          "output_type": "stream",
          "name": "stdout",
          "text": [
            "18/18 [==============================] - 0s 2ms/step\n"
          ]
        }
      ]
    },
    {
      "cell_type": "code",
      "source": [
        "plt.plot(y_pred, label='Forecasts')\n",
        "plt.plot(y_test, label='Actual')\n",
        "plt.legend()\n",
        "plt.show()"
      ],
      "metadata": {
        "colab": {
          "base_uri": "https://localhost:8080/",
          "height": 430
        },
        "id": "rD3TXJGsxQW4",
        "outputId": "473baf90-38a6-4680-c67c-0340c3b989cd"
      },
      "execution_count": null,
      "outputs": [
        {
          "output_type": "display_data",
          "data": {
            "text/plain": [
              "<Figure size 640x480 with 1 Axes>"
            ],
            "image/png": "[encoded data removed]"
          },
          "metadata": {}
        }
      ]
    },
    {
      "cell_type": "code",
      "source": [
        "y_pred=tf.squeeze(y_pred,axis=1)"
      ],
      "metadata": {
        "id": "RCjRI7YU47FY"
      },
      "execution_count": null,
      "outputs": []
    },
    {
      "cell_type": "code",
      "source": [
        "evaluate_preds(y_pred, y_test)"
      ],
      "metadata": {
        "colab": {
          "base_uri": "https://localhost:8080/"
        },
        "id": "TElOwc_rxRX9",
        "outputId": "4145cc71-8cf0-4e6e-dcf7-24d76da5af20"
      },
      "execution_count": null,
      "outputs": [
        {
          "output_type": "execute_result",
          "data": {
            "text/plain": [
              "{'mae': 570.4008, 'mse': 1174857.2, 'rmse': 1083.9083, 'mape': 2.540066}"
            ]
          },
          "metadata": {},
          "execution_count": 53
        }
      ]
    },
    {
      "cell_type": "code",
      "source": [
        "#30 window size\n",
        "\n",
        "def train_test_splits(data,split_size, window_size):\n",
        "  \"\"\" Train Test Splits\"\"\"\n",
        "  x=[]\n",
        "  y=[]\n",
        "  for i in range(window_size, len(data)):\n",
        "    x.append(data[i-window_size:i])\n",
        "    y.append(data[i])\n",
        "  x=np.array(x)\n",
        "  y=np.array(y)\n",
        "  split_size=int(0.8*len(data))\n",
        "  x_train=x[:split_size]\n",
        "  y_train=y[:split_size]\n",
        "\n",
        "  x_test=x[split_size:]\n",
        "  y_test=y[split_size:]\n",
        "  return x_train, y_train, x_test, y_test"
      ],
      "metadata": {
        "id": "eAEqL5iC46IH"
      },
      "execution_count": null,
      "outputs": []
    },
    {
      "cell_type": "code",
      "source": [
        "x_train, y_train, x_test, y_test=train_test_splits(btc_price, 0.8,30)"
      ],
      "metadata": {
        "id": "EtIXJNU_676F"
      },
      "execution_count": null,
      "outputs": []
    },
    {
      "cell_type": "code",
      "source": [
        "import tensorflow as tf\n",
        "model_2=tf.keras.Sequential([\n",
        "    tf.keras.layers.Dense(64, activation='relu'),\n",
        "    tf.keras.layers.Dense(1, activation='linear')\n",
        "])\n",
        "\n",
        "model_2.compile(optimizer='adam', metrics=['mae', 'mse'], loss=['mae'])"
      ],
      "metadata": {
        "id": "0ajEOT2X7Alc"
      },
      "execution_count": null,
      "outputs": []
    },
    {
      "cell_type": "code",
      "source": [
        "model_2.fit(x_train,y_train, validation_data=(x_test,y_test), epochs=100)"
      ],
      "metadata": {
        "colab": {
          "base_uri": "https://localhost:8080/",
          "height": 583
        },
        "id": "SpEQ3V_j7fLw",
        "outputId": "0afc3b1b-4634-47f9-8b8e-52e55e12a6ce"
      },
      "execution_count": null,
      "outputs": [
        {
          "output_type": "stream",
          "name": "stdout",
          "text": [
            "Epoch 1/100\n",
            "70/70 [==============================] - 1s 6ms/step - loss: 645.4865 - mae: 645.4865 - mse: 2413490.2500 - val_loss: 2110.7224 - val_mae: 2110.7224 - val_mse: 11509487.0000\n",
            "Epoch 2/100\n",
            "70/70 [==============================] - 0s 3ms/step - loss: 276.0321 - mae: 276.0321 - mse: 378788.7188 - val_loss: 1933.4956 - val_mae: 1933.4956 - val_mse: 9101602.0000\n",
            "Epoch 3/100\n",
            "70/70 [==============================] - 0s 3ms/step - loss: 249.2792 - mae: 249.2792 - mse: 286054.5000 - val_loss: 1319.1962 - val_mae: 1319.1962 - val_mse: 5145830.5000\n",
            "Epoch 4/100\n",
            "70/70 [==============================] - 0s 3ms/step - loss: 206.1596 - mae: 206.1596 - mse: 207706.5938 - val_loss: 1142.2424 - val_mae: 1142.2424 - val_mse: 4258477.5000\n",
            "Epoch 5/100\n",
            "70/70 [==============================] - 0s 3ms/step - loss: 222.0006 - mae: 222.0006 - mse: 219994.9688 - val_loss: 1078.8821 - val_mae: 1078.8821 - val_mse: 3772362.2500\n",
            "Epoch 6/100\n",
            "70/70 [==============================] - 0s 3ms/step - loss: 204.7259 - mae: 204.7259 - mse: 190699.6094 - val_loss: 1284.7378 - val_mae: 1284.7378 - val_mse: 4351096.0000\n",
            "Epoch 7/100\n",
            " 1/70 [..............................] - ETA: 0s - loss: 167.8215 - mae: 167.8215 - mse: 142604.2812"
          ]
        },
        {
          "output_type": "error",
          "ename": "KeyboardInterrupt",
          "evalue": "ignored",
          "traceback": [
            "\u001b[0;31m---------------------------------------------------------------------------\u001b[0m",
            "\u001b[0;31mKeyboardInterrupt\u001b[0m                         Traceback (most recent call last)",
            "\u001b[0;32m<ipython-input-39-aa1317bc1f1e>\u001b[0m in \u001b[0;36m<cell line: 1>\u001b[0;34m()\u001b[0m\n\u001b[0;32m----> 1\u001b[0;31m \u001b[0mmodel_2\u001b[0m\u001b[0;34m.\u001b[0m\u001b[0mfit\u001b[0m\u001b[0;34m(\u001b[0m\u001b[0mx_train\u001b[0m\u001b[0;34m,\u001b[0m\u001b[0my_train\u001b[0m\u001b[0;34m,\u001b[0m \u001b[0mvalidation_data\u001b[0m\u001b[0;34m=\u001b[0m\u001b[0;34m(\u001b[0m\u001b[0mx_test\u001b[0m\u001b[0;34m,\u001b[0m\u001b[0my_test\u001b[0m\u001b[0;34m)\u001b[0m\u001b[0;34m,\u001b[0m \u001b[0mepochs\u001b[0m\u001b[0;34m=\u001b[0m\u001b[0;36m100\u001b[0m\u001b[0;34m)\u001b[0m\u001b[0;34m\u001b[0m\u001b[0;34m\u001b[0m\u001b[0m\n\u001b[0m",
            "\u001b[0;32m/usr/local/lib/python3.10/dist-packages/keras/utils/traceback_utils.py\u001b[0m in \u001b[0;36merror_handler\u001b[0;34m(*args, **kwargs)\u001b[0m\n\u001b[1;32m     63\u001b[0m         \u001b[0mfiltered_tb\u001b[0m \u001b[0;34m=\u001b[0m \u001b[0;32mNone\u001b[0m\u001b[0;34m\u001b[0m\u001b[0;34m\u001b[0m\u001b[0m\n\u001b[1;32m     64\u001b[0m         \u001b[0;32mtry\u001b[0m\u001b[0;34m:\u001b[0m\u001b[0;34m\u001b[0m\u001b[0;34m\u001b[0m\u001b[0m\n\u001b[0;32m---> 65\u001b[0;31m             \u001b[0;32mreturn\u001b[0m \u001b[0mfn\u001b[0m\u001b[0;34m(\u001b[0m\u001b[0;34m*\u001b[0m\u001b[0margs\u001b[0m\u001b[0;34m,\u001b[0m \u001b[0;34m**\u001b[0m\u001b[0mkwargs\u001b[0m\u001b[0;34m)\u001b[0m\u001b[0;34m\u001b[0m\u001b[0;34m\u001b[0m\u001b[0m\n\u001b[0m\u001b[1;32m     66\u001b[0m         \u001b[0;32mexcept\u001b[0m \u001b[0mException\u001b[0m \u001b[0;32mas\u001b[0m \u001b[0me\u001b[0m\u001b[0;34m:\u001b[0m\u001b[0;34m\u001b[0m\u001b[0;34m\u001b[0m\u001b[0m\n\u001b[1;32m     67\u001b[0m             \u001b[0mfiltered_tb\u001b[0m \u001b[0;34m=\u001b[0m \u001b[0m_process_traceback_frames\u001b[0m\u001b[0;34m(\u001b[0m\u001b[0me\u001b[0m\u001b[0;34m.\u001b[0m\u001b[0m__traceback__\u001b[0m\u001b[0;34m)\u001b[0m\u001b[0;34m\u001b[0m\u001b[0;34m\u001b[0m\u001b[0m\n",
            "\u001b[0;32m/usr/local/lib/python3.10/dist-packages/keras/engine/training.py\u001b[0m in \u001b[0;36mfit\u001b[0;34m(self, x, y, batch_size, epochs, verbose, callbacks, validation_split, validation_data, shuffle, class_weight, sample_weight, initial_epoch, steps_per_epoch, validation_steps, validation_batch_size, validation_freq, max_queue_size, workers, use_multiprocessing)\u001b[0m\n\u001b[1;32m   1683\u001b[0m                         ):\n\u001b[1;32m   1684\u001b[0m                             \u001b[0mcallbacks\u001b[0m\u001b[0;34m.\u001b[0m\u001b[0mon_train_batch_begin\u001b[0m\u001b[0;34m(\u001b[0m\u001b[0mstep\u001b[0m\u001b[0;34m)\u001b[0m\u001b[0;34m\u001b[0m\u001b[0;34m\u001b[0m\u001b[0m\n\u001b[0;32m-> 1685\u001b[0;31m                             \u001b[0mtmp_logs\u001b[0m \u001b[0;34m=\u001b[0m \u001b[0mself\u001b[0m\u001b[0;34m.\u001b[0m\u001b[0mtrain_function\u001b[0m\u001b[0;34m(\u001b[0m\u001b[0miterator\u001b[0m\u001b[0;34m)\u001b[0m\u001b[0;34m\u001b[0m\u001b[0;34m\u001b[0m\u001b[0m\n\u001b[0m\u001b[1;32m   1686\u001b[0m                             \u001b[0;32mif\u001b[0m \u001b[0mdata_handler\u001b[0m\u001b[0;34m.\u001b[0m\u001b[0mshould_sync\u001b[0m\u001b[0;34m:\u001b[0m\u001b[0;34m\u001b[0m\u001b[0;34m\u001b[0m\u001b[0m\n\u001b[1;32m   1687\u001b[0m                                 \u001b[0mcontext\u001b[0m\u001b[0;34m.\u001b[0m\u001b[0masync_wait\u001b[0m\u001b[0;34m(\u001b[0m\u001b[0;34m)\u001b[0m\u001b[0;34m\u001b[0m\u001b[0;34m\u001b[0m\u001b[0m\n",
            "\u001b[0;32m/usr/local/lib/python3.10/dist-packages/tensorflow/python/util/traceback_utils.py\u001b[0m in \u001b[0;36merror_handler\u001b[0;34m(*args, **kwargs)\u001b[0m\n\u001b[1;32m    148\u001b[0m     \u001b[0mfiltered_tb\u001b[0m \u001b[0;34m=\u001b[0m \u001b[0;32mNone\u001b[0m\u001b[0;34m\u001b[0m\u001b[0;34m\u001b[0m\u001b[0m\n\u001b[1;32m    149\u001b[0m     \u001b[0;32mtry\u001b[0m\u001b[0;34m:\u001b[0m\u001b[0;34m\u001b[0m\u001b[0;34m\u001b[0m\u001b[0m\n\u001b[0;32m--> 150\u001b[0;31m       \u001b[0;32mreturn\u001b[0m \u001b[0mfn\u001b[0m\u001b[0;34m(\u001b[0m\u001b[0;34m*\u001b[0m\u001b[0margs\u001b[0m\u001b[0;34m,\u001b[0m \u001b[0;34m**\u001b[0m\u001b[0mkwargs\u001b[0m\u001b[0;34m)\u001b[0m\u001b[0;34m\u001b[0m\u001b[0;34m\u001b[0m\u001b[0m\n\u001b[0m\u001b[1;32m    151\u001b[0m     \u001b[0;32mexcept\u001b[0m \u001b[0mException\u001b[0m \u001b[0;32mas\u001b[0m \u001b[0me\u001b[0m\u001b[0;34m:\u001b[0m\u001b[0;34m\u001b[0m\u001b[0;34m\u001b[0m\u001b[0m\n\u001b[1;32m    152\u001b[0m       \u001b[0mfiltered_tb\u001b[0m \u001b[0;34m=\u001b[0m \u001b[0m_process_traceback_frames\u001b[0m\u001b[0;34m(\u001b[0m\u001b[0me\u001b[0m\u001b[0;34m.\u001b[0m\u001b[0m__traceback__\u001b[0m\u001b[0;34m)\u001b[0m\u001b[0;34m\u001b[0m\u001b[0;34m\u001b[0m\u001b[0m\n",
            "\u001b[0;32m/usr/local/lib/python3.10/dist-packages/tensorflow/python/eager/polymorphic_function/polymorphic_function.py\u001b[0m in \u001b[0;36m__call__\u001b[0;34m(self, *args, **kwds)\u001b[0m\n\u001b[1;32m    892\u001b[0m \u001b[0;34m\u001b[0m\u001b[0m\n\u001b[1;32m    893\u001b[0m       \u001b[0;32mwith\u001b[0m \u001b[0mOptionalXlaContext\u001b[0m\u001b[0;34m(\u001b[0m\u001b[0mself\u001b[0m\u001b[0;34m.\u001b[0m\u001b[0m_jit_compile\u001b[0m\u001b[0;34m)\u001b[0m\u001b[0;34m:\u001b[0m\u001b[0;34m\u001b[0m\u001b[0;34m\u001b[0m\u001b[0m\n\u001b[0;32m--> 894\u001b[0;31m         \u001b[0mresult\u001b[0m \u001b[0;34m=\u001b[0m \u001b[0mself\u001b[0m\u001b[0;34m.\u001b[0m\u001b[0m_call\u001b[0m\u001b[0;34m(\u001b[0m\u001b[0;34m*\u001b[0m\u001b[0margs\u001b[0m\u001b[0;34m,\u001b[0m \u001b[0;34m**\u001b[0m\u001b[0mkwds\u001b[0m\u001b[0;34m)\u001b[0m\u001b[0;34m\u001b[0m\u001b[0;34m\u001b[0m\u001b[0m\n\u001b[0m\u001b[1;32m    895\u001b[0m \u001b[0;34m\u001b[0m\u001b[0m\n\u001b[1;32m    896\u001b[0m       \u001b[0mnew_tracing_count\u001b[0m \u001b[0;34m=\u001b[0m \u001b[0mself\u001b[0m\u001b[0;34m.\u001b[0m\u001b[0mexperimental_get_tracing_count\u001b[0m\u001b[0;34m(\u001b[0m\u001b[0;34m)\u001b[0m\u001b[0;34m\u001b[0m\u001b[0;34m\u001b[0m\u001b[0m\n",
            "\u001b[0;32m/usr/local/lib/python3.10/dist-packages/tensorflow/python/eager/polymorphic_function/polymorphic_function.py\u001b[0m in \u001b[0;36m_call\u001b[0;34m(self, *args, **kwds)\u001b[0m\n\u001b[1;32m    924\u001b[0m       \u001b[0;31m# In this case we have created variables on the first call, so we run the\u001b[0m\u001b[0;34m\u001b[0m\u001b[0;34m\u001b[0m\u001b[0m\n\u001b[1;32m    925\u001b[0m       \u001b[0;31m# defunned version which is guaranteed to never create variables.\u001b[0m\u001b[0;34m\u001b[0m\u001b[0;34m\u001b[0m\u001b[0m\n\u001b[0;32m--> 926\u001b[0;31m       \u001b[0;32mreturn\u001b[0m \u001b[0mself\u001b[0m\u001b[0;34m.\u001b[0m\u001b[0m_no_variable_creation_fn\u001b[0m\u001b[0;34m(\u001b[0m\u001b[0;34m*\u001b[0m\u001b[0margs\u001b[0m\u001b[0;34m,\u001b[0m \u001b[0;34m**\u001b[0m\u001b[0mkwds\u001b[0m\u001b[0;34m)\u001b[0m  \u001b[0;31m# pylint: disable=not-callable\u001b[0m\u001b[0;34m\u001b[0m\u001b[0;34m\u001b[0m\u001b[0m\n\u001b[0m\u001b[1;32m    927\u001b[0m     \u001b[0;32melif\u001b[0m \u001b[0mself\u001b[0m\u001b[0;34m.\u001b[0m\u001b[0m_variable_creation_fn\u001b[0m \u001b[0;32mis\u001b[0m \u001b[0;32mnot\u001b[0m \u001b[0;32mNone\u001b[0m\u001b[0;34m:\u001b[0m\u001b[0;34m\u001b[0m\u001b[0;34m\u001b[0m\u001b[0m\n\u001b[1;32m    928\u001b[0m       \u001b[0;31m# Release the lock early so that multiple threads can perform the call\u001b[0m\u001b[0;34m\u001b[0m\u001b[0;34m\u001b[0m\u001b[0m\n",
            "\u001b[0;32m/usr/local/lib/python3.10/dist-packages/tensorflow/python/eager/polymorphic_function/tracing_compiler.py\u001b[0m in \u001b[0;36m__call__\u001b[0;34m(self, *args, **kwargs)\u001b[0m\n\u001b[1;32m    141\u001b[0m       (concrete_function,\n\u001b[1;32m    142\u001b[0m        filtered_flat_args) = self._maybe_define_function(args, kwargs)\n\u001b[0;32m--> 143\u001b[0;31m     return concrete_function._call_flat(\n\u001b[0m\u001b[1;32m    144\u001b[0m         filtered_flat_args, captured_inputs=concrete_function.captured_inputs)  # pylint: disable=protected-access\n\u001b[1;32m    145\u001b[0m \u001b[0;34m\u001b[0m\u001b[0m\n",
            "\u001b[0;32m/usr/local/lib/python3.10/dist-packages/tensorflow/python/eager/polymorphic_function/monomorphic_function.py\u001b[0m in \u001b[0;36m_call_flat\u001b[0;34m(self, args, captured_inputs, cancellation_manager)\u001b[0m\n\u001b[1;32m   1755\u001b[0m         and executing_eagerly):\n\u001b[1;32m   1756\u001b[0m       \u001b[0;31m# No tape is watching; skip to running the function.\u001b[0m\u001b[0;34m\u001b[0m\u001b[0;34m\u001b[0m\u001b[0m\n\u001b[0;32m-> 1757\u001b[0;31m       return self._build_call_outputs(self._inference_function.call(\n\u001b[0m\u001b[1;32m   1758\u001b[0m           ctx, args, cancellation_manager=cancellation_manager))\n\u001b[1;32m   1759\u001b[0m     forward_backward = self._select_forward_and_backward_functions(\n",
            "\u001b[0;32m/usr/local/lib/python3.10/dist-packages/tensorflow/python/eager/polymorphic_function/monomorphic_function.py\u001b[0m in \u001b[0;36mcall\u001b[0;34m(self, ctx, args, cancellation_manager)\u001b[0m\n\u001b[1;32m    379\u001b[0m       \u001b[0;32mwith\u001b[0m \u001b[0m_InterpolateFunctionError\u001b[0m\u001b[0;34m(\u001b[0m\u001b[0mself\u001b[0m\u001b[0;34m)\u001b[0m\u001b[0;34m:\u001b[0m\u001b[0;34m\u001b[0m\u001b[0;34m\u001b[0m\u001b[0m\n\u001b[1;32m    380\u001b[0m         \u001b[0;32mif\u001b[0m \u001b[0mcancellation_manager\u001b[0m \u001b[0;32mis\u001b[0m \u001b[0;32mNone\u001b[0m\u001b[0;34m:\u001b[0m\u001b[0;34m\u001b[0m\u001b[0;34m\u001b[0m\u001b[0m\n\u001b[0;32m--> 381\u001b[0;31m           outputs = execute.execute(\n\u001b[0m\u001b[1;32m    382\u001b[0m               \u001b[0mstr\u001b[0m\u001b[0;34m(\u001b[0m\u001b[0mself\u001b[0m\u001b[0;34m.\u001b[0m\u001b[0msignature\u001b[0m\u001b[0;34m.\u001b[0m\u001b[0mname\u001b[0m\u001b[0;34m)\u001b[0m\u001b[0;34m,\u001b[0m\u001b[0;34m\u001b[0m\u001b[0;34m\u001b[0m\u001b[0m\n\u001b[1;32m    383\u001b[0m               \u001b[0mnum_outputs\u001b[0m\u001b[0;34m=\u001b[0m\u001b[0mself\u001b[0m\u001b[0;34m.\u001b[0m\u001b[0m_num_outputs\u001b[0m\u001b[0;34m,\u001b[0m\u001b[0;34m\u001b[0m\u001b[0;34m\u001b[0m\u001b[0m\n",
            "\u001b[0;32m/usr/local/lib/python3.10/dist-packages/tensorflow/python/eager/execute.py\u001b[0m in \u001b[0;36mquick_execute\u001b[0;34m(op_name, num_outputs, inputs, attrs, ctx, name)\u001b[0m\n\u001b[1;32m     50\u001b[0m   \u001b[0;32mtry\u001b[0m\u001b[0;34m:\u001b[0m\u001b[0;34m\u001b[0m\u001b[0;34m\u001b[0m\u001b[0m\n\u001b[1;32m     51\u001b[0m     \u001b[0mctx\u001b[0m\u001b[0;34m.\u001b[0m\u001b[0mensure_initialized\u001b[0m\u001b[0;34m(\u001b[0m\u001b[0;34m)\u001b[0m\u001b[0;34m\u001b[0m\u001b[0;34m\u001b[0m\u001b[0m\n\u001b[0;32m---> 52\u001b[0;31m     tensors = pywrap_tfe.TFE_Py_Execute(ctx._handle, device_name, op_name,\n\u001b[0m\u001b[1;32m     53\u001b[0m                                         inputs, attrs, num_outputs)\n\u001b[1;32m     54\u001b[0m   \u001b[0;32mexcept\u001b[0m \u001b[0mcore\u001b[0m\u001b[0;34m.\u001b[0m\u001b[0m_NotOkStatusException\u001b[0m \u001b[0;32mas\u001b[0m \u001b[0me\u001b[0m\u001b[0;34m:\u001b[0m\u001b[0;34m\u001b[0m\u001b[0;34m\u001b[0m\u001b[0m\n",
            "\u001b[0;31mKeyboardInterrupt\u001b[0m: "
          ]
        }
      ]
    },
    {
      "cell_type": "code",
      "source": [
        "y_pred=tf.squeeze(model_2.predict(x_test), axis=1)\n",
        "evaluate_preds(y_pred, y_test)"
      ],
      "metadata": {
        "colab": {
          "base_uri": "https://localhost:8080/"
        },
        "id": "oUqH7g2p7np4",
        "outputId": "519b00a1-0128-4927-b0cc-abbd11bc8c98"
      },
      "execution_count": null,
      "outputs": [
        {
          "output_type": "stream",
          "name": "stdout",
          "text": [
            "17/17 [==============================] - 0s 3ms/step\n"
          ]
        },
        {
          "output_type": "execute_result",
          "data": {
            "text/plain": [
              "{'mae': 761.34717, 'mse': 1669730.6, 'rmse': 1292.1805, 'mape': 3.6506832}"
            ]
          },
          "metadata": {},
          "execution_count": 58
        }
      ]
    },
    {
      "cell_type": "code",
      "source": [
        "def train_test_splits(data, window_size, horizon):\n",
        "  \"\"\" Train Test Splits\"\"\"\n",
        "  x=[]\n",
        "  y=[]\n",
        "  for i in range(window_size, len(data)-horizon):\n",
        "    x.append(data[i-window_size:i])  #i-10  1-1=0. 2-1=1 3-1=2\n",
        "    y.append(data[i:i+horizon])\n",
        "  x=np.array(x)\n",
        "  y=np.array(y)\n",
        "  split_size=int(0.8*len(data))\n",
        "  x_train=x[:split_size]\n",
        "  y_train=y[:split_size]\n",
        "\n",
        "  x_test=x[split_size:]\n",
        "  y_test=y[split_size:]\n",
        "  return x_train, y_train, x_test, y_test"
      ],
      "metadata": {
        "id": "XCn-TVAC9Poj"
      },
      "execution_count": null,
      "outputs": []
    },
    {
      "cell_type": "code",
      "source": [
        "x_train, y_train, x_test, y_test=train_test_splits(btc_price,30,7)"
      ],
      "metadata": {
        "id": "ZBT4flxlAGKM"
      },
      "execution_count": null,
      "outputs": []
    },
    {
      "cell_type": "code",
      "source": [
        "x_train.shape, y_train.shape, x_test.shape, y_test.shape"
      ],
      "metadata": {
        "colab": {
          "base_uri": "https://localhost:8080/"
        },
        "id": "ruQMu7esAQVu",
        "outputId": "66d25dcc-f7a3-4443-9af7-cefab093a0bb"
      },
      "execution_count": null,
      "outputs": [
        {
          "output_type": "execute_result",
          "data": {
            "text/plain": [
              "((2229, 30), (2229, 7), (521, 30), (521, 7))"
            ]
          },
          "metadata": {},
          "execution_count": 42
        }
      ]
    },
    {
      "cell_type": "code",
      "source": [
        "x_train[:1]"
      ],
      "metadata": {
        "colab": {
          "base_uri": "https://localhost:8080/"
        },
        "id": "WytdyNedAiR6",
        "outputId": "53ac2de8-7043-4995-b4a0-27052fb75e82"
      },
      "execution_count": null,
      "outputs": [
        {
          "output_type": "execute_result",
          "data": {
            "text/plain": [
              "array([[123.65499, 125.455  , 108.58483, 118.67466, 121.33866, 120.65533,\n",
              "        121.795  , 123.033  , 124.049  , 125.96116, 125.27966, 125.9275 ,\n",
              "        126.38333, 135.24199, 133.20333, 142.76333, 137.92333, 142.95166,\n",
              "        152.55183, 160.33883, 164.31499, 177.63333, 188.29716, 200.70166,\n",
              "        180.355  , 175.03166, 177.6965 , 187.15983, 192.75666, 197.4    ]])"
            ]
          },
          "metadata": {},
          "execution_count": 43
        }
      ]
    },
    {
      "cell_type": "code",
      "source": [
        "y_train[:1]"
      ],
      "metadata": {
        "colab": {
          "base_uri": "https://localhost:8080/"
        },
        "id": "fBX7K-H9AkXp",
        "outputId": "d91cf153-2cdb-492a-d399-06cc506ecf7e"
      },
      "execution_count": null,
      "outputs": [
        {
          "output_type": "execute_result",
          "data": {
            "text/plain": [
              "array([[196.02499, 198.04883, 198.93233, 200.543  , 210.3075 , 225.02   ,\n",
              "        248.25333]])"
            ]
          },
          "metadata": {},
          "execution_count": 44
        }
      ]
    },
    {
      "cell_type": "code",
      "source": [
        "model_3=tf.keras.Sequential([\n",
        "    tf.keras.layers.Dense(64, activation='relu'),\n",
        "    tf.keras.layers.Dense(7, activation='linear')\n",
        "])\n",
        "\n",
        "model_3.compile(optimizer='adam', metrics=['mae', 'mse'], loss=['mae'])"
      ],
      "metadata": {
        "id": "e5RuXkZIAmRW"
      },
      "execution_count": null,
      "outputs": []
    },
    {
      "cell_type": "code",
      "source": [
        "model_3.fit(x=x_train,y=y_train, epochs=100, validation_data=(x_test, y_test), callbacks=[callback])"
      ],
      "metadata": {
        "colab": {
          "base_uri": "https://localhost:8080/"
        },
        "id": "gVMozwMiBbrb",
        "outputId": "6be962a9-9cfb-432c-b03d-5f004f896ddb"
      },
      "execution_count": null,
      "outputs": [
        {
          "output_type": "stream",
          "name": "stdout",
          "text": [
            "Epoch 1/100\n",
            "70/70 [==============================] - 1s 5ms/step - loss: 1291.0956 - mae: 1291.0956 - mse: 10818775.0000 - val_loss: 2530.2119 - val_mae: 2530.2119 - val_mse: 17513772.0000\n",
            "Epoch 2/100\n",
            "70/70 [==============================] - 0s 3ms/step - loss: 389.4828 - mae: 389.4828 - mse: 741962.6250 - val_loss: 1997.6951 - val_mae: 1997.6951 - val_mse: 12481378.0000\n",
            "Epoch 3/100\n",
            "70/70 [==============================] - 0s 3ms/step - loss: 345.4461 - mae: 345.4461 - mse: 580440.4375 - val_loss: 1875.8224 - val_mae: 1875.8224 - val_mse: 10585011.0000\n",
            "Epoch 4/100\n",
            "70/70 [==============================] - 0s 3ms/step - loss: 316.8333 - mae: 316.8333 - mse: 496656.4688 - val_loss: 1681.3987 - val_mae: 1681.3987 - val_mse: 8762772.0000\n",
            "Epoch 5/100\n",
            "70/70 [==============================] - 0s 3ms/step - loss: 303.8750 - mae: 303.8750 - mse: 453973.7500 - val_loss: 1696.6248 - val_mae: 1696.6248 - val_mse: 8810407.0000\n",
            "Epoch 6/100\n",
            "70/70 [==============================] - 0s 3ms/step - loss: 290.6643 - mae: 290.6643 - mse: 424847.1562 - val_loss: 1571.4176 - val_mae: 1571.4176 - val_mse: 7827221.5000\n",
            "Epoch 7/100\n",
            "70/70 [==============================] - 0s 3ms/step - loss: 284.7519 - mae: 284.7519 - mse: 399191.5938 - val_loss: 1568.4431 - val_mae: 1568.4431 - val_mse: 7722074.5000\n",
            "Epoch 8/100\n",
            "70/70 [==============================] - 0s 3ms/step - loss: 280.8664 - mae: 280.8664 - mse: 390891.8438 - val_loss: 1563.5422 - val_mae: 1563.5422 - val_mse: 7726740.0000\n",
            "Epoch 9/100\n",
            "70/70 [==============================] - 0s 3ms/step - loss: 280.1382 - mae: 280.1382 - mse: 381977.2500 - val_loss: 1467.1277 - val_mae: 1467.1277 - val_mse: 7016705.0000\n",
            "Epoch 10/100\n",
            "70/70 [==============================] - 0s 3ms/step - loss: 270.0432 - mae: 270.0432 - mse: 367066.8750 - val_loss: 1475.5884 - val_mae: 1475.5884 - val_mse: 6986899.5000\n",
            "Epoch 11/100\n",
            "70/70 [==============================] - 0s 3ms/step - loss: 266.6596 - mae: 266.6596 - mse: 355192.4375 - val_loss: 1695.8475 - val_mae: 1695.8475 - val_mse: 8507045.0000\n",
            "Epoch 12/100\n",
            "70/70 [==============================] - 0s 3ms/step - loss: 270.0001 - mae: 270.0001 - mse: 364114.9688 - val_loss: 1791.4659 - val_mae: 1791.4659 - val_mse: 8870987.0000\n",
            "Epoch 13/100\n",
            "70/70 [==============================] - 0s 3ms/step - loss: 268.6598 - mae: 268.6598 - mse: 356297.9688 - val_loss: 1538.9199 - val_mae: 1538.9199 - val_mse: 7238791.0000\n",
            "Epoch 14/100\n",
            "70/70 [==============================] - 0s 3ms/step - loss: 253.8023 - mae: 253.8023 - mse: 332664.5938 - val_loss: 1447.7339 - val_mae: 1447.7339 - val_mse: 6811025.5000\n",
            "Epoch 15/100\n",
            "70/70 [==============================] - 0s 3ms/step - loss: 254.4580 - mae: 254.4580 - mse: 332541.9688 - val_loss: 1925.0432 - val_mae: 1925.0432 - val_mse: 9826277.0000\n",
            "Epoch 16/100\n",
            "70/70 [==============================] - 0s 3ms/step - loss: 258.2033 - mae: 258.2033 - mse: 338313.3125 - val_loss: 1452.4392 - val_mae: 1452.4392 - val_mse: 6684741.0000\n",
            "Epoch 17/100\n",
            "70/70 [==============================] - 0s 3ms/step - loss: 254.6281 - mae: 254.6281 - mse: 335916.0938 - val_loss: 1404.3563 - val_mae: 1404.3563 - val_mse: 6390859.5000\n",
            "Epoch 18/100\n",
            "70/70 [==============================] - 0s 3ms/step - loss: 253.4794 - mae: 253.4794 - mse: 322451.8125 - val_loss: 1425.1396 - val_mae: 1425.1396 - val_mse: 6530457.0000\n",
            "Epoch 19/100\n",
            "70/70 [==============================] - 0s 3ms/step - loss: 248.5206 - mae: 248.5206 - mse: 318571.9062 - val_loss: 1473.9028 - val_mae: 1473.9028 - val_mse: 6791916.5000\n",
            "Epoch 20/100\n",
            "70/70 [==============================] - 0s 4ms/step - loss: 249.0351 - mae: 249.0351 - mse: 317847.3438 - val_loss: 1455.4088 - val_mae: 1455.4088 - val_mse: 6661466.5000\n",
            "Epoch 21/100\n",
            "70/70 [==============================] - 0s 3ms/step - loss: 251.2688 - mae: 251.2688 - mse: 324959.5312 - val_loss: 1606.0616 - val_mae: 1606.0616 - val_mse: 7328989.5000\n",
            "Epoch 22/100\n",
            "70/70 [==============================] - 0s 3ms/step - loss: 249.1579 - mae: 249.1579 - mse: 318417.8125 - val_loss: 1429.0044 - val_mae: 1429.0044 - val_mse: 6413892.0000\n",
            "Epoch 23/100\n",
            "70/70 [==============================] - 0s 3ms/step - loss: 245.4129 - mae: 245.4129 - mse: 314162.8125 - val_loss: 1394.1373 - val_mae: 1394.1373 - val_mse: 6186525.5000\n",
            "Epoch 24/100\n",
            "70/70 [==============================] - 0s 3ms/step - loss: 248.6197 - mae: 248.6197 - mse: 316384.8125 - val_loss: 1421.6704 - val_mae: 1421.6704 - val_mse: 6490007.5000\n",
            "Epoch 25/100\n",
            "70/70 [==============================] - 0s 3ms/step - loss: 243.6298 - mae: 243.6298 - mse: 305630.5625 - val_loss: 1514.5310 - val_mae: 1514.5310 - val_mse: 6932807.5000\n",
            "Epoch 26/100\n",
            "70/70 [==============================] - 0s 3ms/step - loss: 239.8334 - mae: 239.8334 - mse: 299748.1562 - val_loss: 1336.8976 - val_mae: 1336.8976 - val_mse: 5957143.5000\n",
            "Epoch 27/100\n",
            "70/70 [==============================] - 0s 3ms/step - loss: 240.8170 - mae: 240.8170 - mse: 302626.7500 - val_loss: 1375.6344 - val_mae: 1375.6344 - val_mse: 6115000.0000\n",
            "Epoch 28/100\n",
            "70/70 [==============================] - 0s 5ms/step - loss: 244.8781 - mae: 244.8781 - mse: 308052.9688 - val_loss: 1484.1213 - val_mae: 1484.1213 - val_mse: 6621877.5000\n",
            "Epoch 29/100\n",
            "70/70 [==============================] - 0s 4ms/step - loss: 238.4209 - mae: 238.4209 - mse: 295606.4375 - val_loss: 1497.2366 - val_mae: 1497.2366 - val_mse: 6670373.0000\n",
            "Epoch 30/100\n",
            "70/70 [==============================] - 0s 4ms/step - loss: 244.1105 - mae: 244.1105 - mse: 307041.5000 - val_loss: 1333.2278 - val_mae: 1333.2278 - val_mse: 5851075.0000\n",
            "Epoch 31/100\n",
            "70/70 [==============================] - 0s 4ms/step - loss: 239.2335 - mae: 239.2335 - mse: 294493.9062 - val_loss: 1435.2650 - val_mae: 1435.2650 - val_mse: 6560042.5000\n",
            "Epoch 32/100\n",
            "70/70 [==============================] - 0s 4ms/step - loss: 245.3118 - mae: 245.3118 - mse: 307414.3750 - val_loss: 1402.8586 - val_mae: 1402.8586 - val_mse: 6294222.5000\n",
            "Epoch 33/100\n",
            "70/70 [==============================] - 0s 4ms/step - loss: 237.0916 - mae: 237.0916 - mse: 291971.7500 - val_loss: 1460.8375 - val_mae: 1460.8375 - val_mse: 6469159.5000\n",
            "Epoch 34/100\n",
            "70/70 [==============================] - 0s 4ms/step - loss: 249.5748 - mae: 249.5748 - mse: 309265.2812 - val_loss: 1378.9375 - val_mae: 1378.9375 - val_mse: 6088840.5000\n",
            "Epoch 35/100\n",
            "70/70 [==============================] - 0s 4ms/step - loss: 244.2545 - mae: 244.2545 - mse: 302402.0625 - val_loss: 1347.0891 - val_mae: 1347.0891 - val_mse: 5872967.0000\n",
            "Epoch 36/100\n",
            "70/70 [==============================] - 0s 5ms/step - loss: 237.9589 - mae: 237.9589 - mse: 293944.0938 - val_loss: 1478.0500 - val_mae: 1478.0500 - val_mse: 6522112.0000\n",
            "Epoch 37/100\n",
            "70/70 [==============================] - 0s 3ms/step - loss: 244.4929 - mae: 244.4929 - mse: 299307.3438 - val_loss: 1497.2032 - val_mae: 1497.2032 - val_mse: 6764523.0000\n",
            "Epoch 38/100\n",
            "70/70 [==============================] - 0s 3ms/step - loss: 236.4107 - mae: 236.4107 - mse: 289338.3438 - val_loss: 1449.6443 - val_mae: 1449.6443 - val_mse: 6473245.0000\n",
            "Epoch 39/100\n",
            "70/70 [==============================] - 0s 3ms/step - loss: 238.9638 - mae: 238.9638 - mse: 290407.8438 - val_loss: 1313.3223 - val_mae: 1313.3223 - val_mse: 5674880.5000\n",
            "Epoch 40/100\n",
            "70/70 [==============================] - 0s 3ms/step - loss: 239.0308 - mae: 239.0308 - mse: 294246.9688 - val_loss: 1421.0521 - val_mae: 1421.0521 - val_mse: 6272803.5000\n",
            "Epoch 41/100\n",
            "70/70 [==============================] - 0s 3ms/step - loss: 244.2416 - mae: 244.2416 - mse: 306816.7812 - val_loss: 1438.3411 - val_mae: 1438.3411 - val_mse: 6371403.5000\n",
            "Epoch 42/100\n",
            "70/70 [==============================] - 0s 3ms/step - loss: 233.6581 - mae: 233.6581 - mse: 285724.3750 - val_loss: 1311.4133 - val_mae: 1311.4133 - val_mse: 5675220.0000\n",
            "Epoch 43/100\n",
            "70/70 [==============================] - 0s 3ms/step - loss: 232.4122 - mae: 232.4122 - mse: 285903.4062 - val_loss: 1599.8861 - val_mae: 1599.8861 - val_mse: 7156286.0000\n",
            "Epoch 44/100\n",
            "70/70 [==============================] - 0s 3ms/step - loss: 235.5284 - mae: 235.5284 - mse: 287548.1562 - val_loss: 1359.1814 - val_mae: 1359.1814 - val_mse: 5857411.0000\n",
            "Epoch 45/100\n",
            "70/70 [==============================] - 0s 3ms/step - loss: 233.4301 - mae: 233.4301 - mse: 284956.0312 - val_loss: 1277.8311 - val_mae: 1277.8311 - val_mse: 5551266.0000\n",
            "Epoch 46/100\n",
            "70/70 [==============================] - 0s 3ms/step - loss: 236.6285 - mae: 236.6285 - mse: 289733.1875 - val_loss: 1401.0375 - val_mae: 1401.0375 - val_mse: 6209690.5000\n",
            "Epoch 47/100\n",
            "70/70 [==============================] - 0s 3ms/step - loss: 237.2958 - mae: 237.2958 - mse: 292511.9062 - val_loss: 1443.6522 - val_mae: 1443.6522 - val_mse: 6369579.0000\n",
            "Epoch 48/100\n",
            "70/70 [==============================] - 0s 3ms/step - loss: 233.4972 - mae: 233.4972 - mse: 285891.4375 - val_loss: 1309.4978 - val_mae: 1309.4978 - val_mse: 5659100.0000\n",
            "Epoch 49/100\n",
            "70/70 [==============================] - 0s 3ms/step - loss: 238.3462 - mae: 238.3462 - mse: 289615.0938 - val_loss: 1395.7611 - val_mae: 1395.7611 - val_mse: 6066575.5000\n",
            "Epoch 50/100\n",
            "70/70 [==============================] - 0s 3ms/step - loss: 229.6723 - mae: 229.6723 - mse: 279254.5625 - val_loss: 1321.8162 - val_mae: 1321.8162 - val_mse: 5749673.5000\n",
            "Epoch 51/100\n",
            "70/70 [==============================] - 0s 3ms/step - loss: 234.3996 - mae: 234.3996 - mse: 288553.1562 - val_loss: 1472.6874 - val_mae: 1472.6874 - val_mse: 6502585.5000\n",
            "Epoch 52/100\n",
            "70/70 [==============================] - 0s 3ms/step - loss: 237.8550 - mae: 237.8550 - mse: 291433.3750 - val_loss: 1380.9623 - val_mae: 1380.9623 - val_mse: 6112052.0000\n",
            "Epoch 53/100\n",
            "70/70 [==============================] - 0s 3ms/step - loss: 234.9273 - mae: 234.9273 - mse: 280916.7812 - val_loss: 1349.1094 - val_mae: 1349.1094 - val_mse: 5852319.0000\n",
            "Epoch 54/100\n",
            "70/70 [==============================] - 0s 3ms/step - loss: 233.0461 - mae: 233.0461 - mse: 281273.4062 - val_loss: 1348.5743 - val_mae: 1348.5743 - val_mse: 5796669.0000\n",
            "Epoch 55/100\n",
            "70/70 [==============================] - 0s 3ms/step - loss: 243.2836 - mae: 243.2836 - mse: 292090.0625 - val_loss: 1334.5099 - val_mae: 1334.5099 - val_mse: 5752764.5000\n",
            "Epoch 56/100\n",
            "70/70 [==============================] - 0s 3ms/step - loss: 234.1165 - mae: 234.1165 - mse: 280399.0938 - val_loss: 1392.0978 - val_mae: 1392.0978 - val_mse: 6033994.5000\n",
            "Epoch 57/100\n",
            "70/70 [==============================] - 0s 3ms/step - loss: 230.3083 - mae: 230.3083 - mse: 280579.0000 - val_loss: 1271.9148 - val_mae: 1271.9148 - val_mse: 5480019.0000\n",
            "Epoch 58/100\n",
            "70/70 [==============================] - 0s 3ms/step - loss: 234.9643 - mae: 234.9643 - mse: 280959.3750 - val_loss: 1348.2670 - val_mae: 1348.2670 - val_mse: 5799146.5000\n",
            "Epoch 59/100\n",
            "70/70 [==============================] - 0s 3ms/step - loss: 233.9059 - mae: 233.9059 - mse: 278768.1562 - val_loss: 1495.7782 - val_mae: 1495.7782 - val_mse: 6459844.0000\n",
            "Epoch 60/100\n",
            "70/70 [==============================] - 0s 3ms/step - loss: 235.8629 - mae: 235.8629 - mse: 287645.5312 - val_loss: 1440.5818 - val_mae: 1440.5818 - val_mse: 6370456.0000\n",
            "Epoch 61/100\n",
            "70/70 [==============================] - 0s 3ms/step - loss: 234.4216 - mae: 234.4216 - mse: 283377.2188 - val_loss: 1271.1151 - val_mae: 1271.1151 - val_mse: 5490337.0000\n",
            "Epoch 62/100\n",
            "70/70 [==============================] - 0s 3ms/step - loss: 238.6524 - mae: 238.6524 - mse: 290216.1250 - val_loss: 1290.7412 - val_mae: 1290.7412 - val_mse: 5530397.5000\n",
            "Epoch 63/100\n",
            "70/70 [==============================] - 0s 3ms/step - loss: 237.1500 - mae: 237.1500 - mse: 284792.8438 - val_loss: 1264.9137 - val_mae: 1264.9137 - val_mse: 5466491.5000\n",
            "Epoch 64/100\n",
            "70/70 [==============================] - 0s 3ms/step - loss: 237.5788 - mae: 237.5788 - mse: 288345.6250 - val_loss: 1527.7523 - val_mae: 1527.7523 - val_mse: 6744689.0000\n",
            "Epoch 65/100\n",
            "70/70 [==============================] - 0s 3ms/step - loss: 240.3953 - mae: 240.3953 - mse: 289697.8438 - val_loss: 1301.2120 - val_mae: 1301.2120 - val_mse: 5632629.0000\n",
            "Epoch 66/100\n",
            "70/70 [==============================] - 0s 3ms/step - loss: 235.4639 - mae: 235.4639 - mse: 279296.6562 - val_loss: 1446.4855 - val_mae: 1446.4855 - val_mse: 6421691.5000\n",
            "Epoch 67/100\n",
            "70/70 [==============================] - 0s 3ms/step - loss: 227.2019 - mae: 227.2019 - mse: 273122.9062 - val_loss: 1277.8027 - val_mae: 1277.8027 - val_mse: 5480342.5000\n",
            "Epoch 68/100\n",
            "70/70 [==============================] - 0s 3ms/step - loss: 241.2272 - mae: 241.2272 - mse: 292677.7812 - val_loss: 1487.3599 - val_mae: 1487.3599 - val_mse: 6664351.5000\n",
            "Epoch 69/100\n",
            "70/70 [==============================] - 0s 3ms/step - loss: 230.3966 - mae: 230.3966 - mse: 277800.8438 - val_loss: 1366.7334 - val_mae: 1366.7334 - val_mse: 5851020.0000\n",
            "Epoch 70/100\n",
            "70/70 [==============================] - 0s 4ms/step - loss: 227.0989 - mae: 227.0989 - mse: 272583.5625 - val_loss: 1398.8198 - val_mae: 1398.8198 - val_mse: 6157534.0000\n",
            "Epoch 71/100\n",
            "70/70 [==============================] - 0s 3ms/step - loss: 229.0306 - mae: 229.0306 - mse: 277598.8438 - val_loss: 1379.0034 - val_mae: 1379.0034 - val_mse: 5883568.0000\n",
            "Epoch 72/100\n",
            "70/70 [==============================] - 0s 4ms/step - loss: 231.5837 - mae: 231.5837 - mse: 280435.5938 - val_loss: 1353.8794 - val_mae: 1353.8794 - val_mse: 5867403.0000\n",
            "Epoch 73/100\n",
            "70/70 [==============================] - 0s 3ms/step - loss: 230.3351 - mae: 230.3351 - mse: 279865.0000 - val_loss: 1266.9005 - val_mae: 1266.9005 - val_mse: 5466852.5000\n",
            "Epoch 74/100\n",
            "70/70 [==============================] - 0s 3ms/step - loss: 239.6262 - mae: 239.6262 - mse: 289908.5000 - val_loss: 1280.7457 - val_mae: 1280.7457 - val_mse: 5426381.5000\n",
            "Epoch 75/100\n",
            "70/70 [==============================] - 0s 3ms/step - loss: 229.0040 - mae: 229.0040 - mse: 273124.6875 - val_loss: 1465.5386 - val_mae: 1465.5386 - val_mse: 6436827.0000\n",
            "Epoch 76/100\n",
            "70/70 [==============================] - 0s 3ms/step - loss: 234.1662 - mae: 234.1662 - mse: 280693.3125 - val_loss: 1429.7345 - val_mae: 1429.7345 - val_mse: 6218830.5000\n",
            "Epoch 77/100\n",
            "70/70 [==============================] - 0s 3ms/step - loss: 231.1960 - mae: 231.1960 - mse: 277880.8438 - val_loss: 1276.6063 - val_mae: 1276.6063 - val_mse: 5460443.0000\n",
            "Epoch 78/100\n",
            "70/70 [==============================] - 0s 3ms/step - loss: 232.7276 - mae: 232.7276 - mse: 279096.7500 - val_loss: 1270.4731 - val_mae: 1270.4731 - val_mse: 5391963.0000\n",
            "Epoch 79/100\n",
            "70/70 [==============================] - 0s 3ms/step - loss: 230.6329 - mae: 230.6329 - mse: 277068.7188 - val_loss: 1320.8134 - val_mae: 1320.8134 - val_mse: 5754488.5000\n",
            "Epoch 80/100\n",
            "70/70 [==============================] - 0s 3ms/step - loss: 235.3702 - mae: 235.3702 - mse: 285437.8125 - val_loss: 1375.7618 - val_mae: 1375.7618 - val_mse: 5919105.0000\n",
            "Epoch 81/100\n",
            "70/70 [==============================] - 0s 4ms/step - loss: 229.5651 - mae: 229.5651 - mse: 273167.9375 - val_loss: 1379.9338 - val_mae: 1379.9338 - val_mse: 5943702.5000\n",
            "Epoch 82/100\n",
            "70/70 [==============================] - 0s 4ms/step - loss: 237.0396 - mae: 237.0396 - mse: 279713.7188 - val_loss: 1425.4519 - val_mae: 1425.4519 - val_mse: 6261937.0000\n",
            "Epoch 83/100\n",
            "70/70 [==============================] - 0s 5ms/step - loss: 228.4827 - mae: 228.4827 - mse: 270686.5625 - val_loss: 1325.5614 - val_mae: 1325.5614 - val_mse: 5745402.5000\n",
            "Epoch 84/100\n",
            "70/70 [==============================] - 0s 4ms/step - loss: 231.1660 - mae: 231.1660 - mse: 280230.8125 - val_loss: 1351.1145 - val_mae: 1351.1145 - val_mse: 5781906.5000\n",
            "Epoch 85/100\n",
            "70/70 [==============================] - 0s 4ms/step - loss: 234.5162 - mae: 234.5162 - mse: 275007.4688 - val_loss: 1277.1598 - val_mae: 1277.1598 - val_mse: 5410652.0000\n",
            "Epoch 86/100\n",
            "70/70 [==============================] - 0s 4ms/step - loss: 228.9406 - mae: 228.9406 - mse: 274015.8125 - val_loss: 1337.9375 - val_mae: 1337.9375 - val_mse: 5684722.5000\n",
            "Epoch 87/100\n",
            "70/70 [==============================] - 0s 4ms/step - loss: 228.0858 - mae: 228.0858 - mse: 274274.4062 - val_loss: 1493.5430 - val_mae: 1493.5430 - val_mse: 6569897.0000\n",
            "Epoch 88/100\n",
            "70/70 [==============================] - 0s 4ms/step - loss: 229.9146 - mae: 229.9146 - mse: 270867.0938 - val_loss: 1320.8737 - val_mae: 1320.8737 - val_mse: 5671305.0000\n",
            "Epoch 89/100\n",
            "70/70 [==============================] - 0s 5ms/step - loss: 229.9715 - mae: 229.9715 - mse: 279534.8438 - val_loss: 1407.7106 - val_mae: 1407.7106 - val_mse: 6072117.5000\n",
            "Epoch 90/100\n",
            "70/70 [==============================] - 0s 5ms/step - loss: 227.1150 - mae: 227.1150 - mse: 269777.0938 - val_loss: 1260.9520 - val_mae: 1260.9520 - val_mse: 5319238.0000\n",
            "Epoch 91/100\n",
            "70/70 [==============================] - 0s 4ms/step - loss: 234.7114 - mae: 234.7114 - mse: 283469.2500 - val_loss: 1421.5325 - val_mae: 1421.5325 - val_mse: 6052350.0000\n",
            "Epoch 92/100\n",
            "70/70 [==============================] - 0s 3ms/step - loss: 225.9149 - mae: 225.9149 - mse: 269250.5312 - val_loss: 1257.4307 - val_mae: 1257.4307 - val_mse: 5302515.0000\n",
            "Epoch 93/100\n",
            "70/70 [==============================] - 0s 3ms/step - loss: 231.6993 - mae: 231.6993 - mse: 277419.1250 - val_loss: 1284.9755 - val_mae: 1284.9755 - val_mse: 5434348.5000\n",
            "Epoch 94/100\n",
            "70/70 [==============================] - 0s 3ms/step - loss: 233.3349 - mae: 233.3349 - mse: 276056.2188 - val_loss: 1313.9709 - val_mae: 1313.9709 - val_mse: 5540593.5000\n",
            "Epoch 95/100\n",
            "70/70 [==============================] - 0s 3ms/step - loss: 230.9947 - mae: 230.9947 - mse: 279719.7812 - val_loss: 1452.5718 - val_mae: 1452.5718 - val_mse: 6440752.5000\n",
            "Epoch 96/100\n",
            "70/70 [==============================] - 0s 3ms/step - loss: 236.1156 - mae: 236.1156 - mse: 275546.5625 - val_loss: 1240.8315 - val_mae: 1240.8315 - val_mse: 5244569.0000\n",
            "Epoch 97/100\n",
            "70/70 [==============================] - 0s 3ms/step - loss: 242.7385 - mae: 242.7385 - mse: 297615.0312 - val_loss: 1428.5651 - val_mae: 1428.5651 - val_mse: 6134011.5000\n",
            "Epoch 98/100\n",
            "70/70 [==============================] - 0s 3ms/step - loss: 235.3415 - mae: 235.3415 - mse: 277500.2812 - val_loss: 1465.7327 - val_mae: 1465.7327 - val_mse: 6394795.5000\n",
            "Epoch 99/100\n",
            "70/70 [==============================] - 0s 3ms/step - loss: 229.1601 - mae: 229.1601 - mse: 274962.5625 - val_loss: 1306.3594 - val_mae: 1306.3594 - val_mse: 5531491.0000\n",
            "Epoch 100/100\n",
            "70/70 [==============================] - 0s 3ms/step - loss: 230.5780 - mae: 230.5780 - mse: 278155.4062 - val_loss: 1406.5938 - val_mae: 1406.5938 - val_mse: 5977658.0000\n"
          ]
        },
        {
          "output_type": "execute_result",
          "data": {
            "text/plain": [
              "<keras.src.callbacks.History at 0x7b1baaf9cca0>"
            ]
          },
          "metadata": {},
          "execution_count": 65
        }
      ]
    },
    {
      "cell_type": "code",
      "source": [
        "model_3.evaluate(x_test, y_test)"
      ],
      "metadata": {
        "colab": {
          "base_uri": "https://localhost:8080/"
        },
        "id": "I3m4sqKbBgme",
        "outputId": "8004908d-d86f-4deb-d4f8-295b64384693"
      },
      "execution_count": null,
      "outputs": [
        {
          "output_type": "stream",
          "name": "stdout",
          "text": [
            "17/17 [==============================] - 0s 2ms/step - loss: 1406.5938 - mae: 1406.5938 - mse: 5977658.0000\n"
          ]
        },
        {
          "output_type": "execute_result",
          "data": {
            "text/plain": [
              "[1406.59375, 1406.59375, 5977658.0]"
            ]
          },
          "metadata": {},
          "execution_count": 66
        }
      ]
    },
    {
      "cell_type": "code",
      "source": [
        "model_3.predict(x_test)[:5] .shape"
      ],
      "metadata": {
        "colab": {
          "base_uri": "https://localhost:8080/"
        },
        "id": "Hw-MZ90HCQlK",
        "outputId": "dfa7419c-bec6-467e-c36e-ccbcf95e1cb8"
      },
      "execution_count": null,
      "outputs": [
        {
          "output_type": "stream",
          "name": "stdout",
          "text": [
            "17/17 [==============================] - 0s 1ms/step\n"
          ]
        },
        {
          "output_type": "execute_result",
          "data": {
            "text/plain": [
              "(5, 7)"
            ]
          },
          "metadata": {},
          "execution_count": 67
        }
      ]
    },
    {
      "cell_type": "code",
      "source": [
        "y_preds=model_3.predict(x_test)\n",
        "print(tf.reduce_mean(tf.keras.metrics.mean_absolute_error(y_test,y_preds)))\n",
        "print(tf.reduce_mean(tf.keras.metrics.mean_squared_error(y_test,y_preds)))\n",
        "print(tf.reduce_mean(tf.sqrt(tf.keras.metrics.mean_absolute_error(y_test,y_preds))))\n",
        "\n"
      ],
      "metadata": {
        "colab": {
          "base_uri": "https://localhost:8080/"
        },
        "id": "KNSvnK61CI87",
        "outputId": "4afcc04e-0749-4273-9487-5ca11d5971f4"
      },
      "execution_count": null,
      "outputs": [
        {
          "output_type": "stream",
          "name": "stdout",
          "text": [
            "17/17 [==============================] - 0s 2ms/step\n",
            "tf.Tensor(1406.5938, shape=(), dtype=float32)\n",
            "tf.Tensor(5977658.0, shape=(), dtype=float32)\n",
            "tf.Tensor(32.206253, shape=(), dtype=float32)\n"
          ]
        }
      ]
    },
    {
      "cell_type": "code",
      "source": [
        "y_preds"
      ],
      "metadata": {
        "colab": {
          "base_uri": "https://localhost:8080/"
        },
        "id": "E9t0OAsiLgRk",
        "outputId": "a4f98dd8-be5c-4656-e2de-47a4dcc5da64"
      },
      "execution_count": null,
      "outputs": [
        {
          "output_type": "execute_result",
          "data": {
            "text/plain": [
              "array([[ 7199.485 ,  7372.901 ,  7527.5566, ...,  7175.9033,  7157.5664,\n",
              "         7464.4707],\n",
              "       [ 7197.7217,  7394.1333,  7483.7964, ...,  7210.747 ,  7240.7515,\n",
              "         7411.7817],\n",
              "       [ 7217.798 ,  7445.929 ,  7598.6553, ...,  7305.328 ,  7269.2393,\n",
              "         7547.7275],\n",
              "       ...,\n",
              "       [54737.836 , 56308.312 , 57225.1   , ..., 56237.023 , 54542.156 ,\n",
              "        57773.684 ],\n",
              "       [55859.617 , 57011.836 , 58444.27  , ..., 56353.508 , 57281.258 ,\n",
              "        57518.49  ],\n",
              "       [55705.883 , 57575.45  , 58375.62  , ..., 56812.22  , 56696.535 ,\n",
              "        57861.406 ]], dtype=float32)"
            ]
          },
          "metadata": {},
          "execution_count": 69
        }
      ]
    },
    {
      "cell_type": "code",
      "source": [
        "#y_test[:,0]"
      ],
      "metadata": {
        "id": "lc6isb2uLNga"
      },
      "execution_count": null,
      "outputs": []
    },
    {
      "cell_type": "code",
      "source": [
        "y_preds=tf.reduce_mean(y_preds)\n",
        "y_test=tf.reduce_mean(y_test)"
      ],
      "metadata": {
        "id": "4mElQ6LYLtgF"
      },
      "execution_count": null,
      "outputs": []
    },
    {
      "cell_type": "code",
      "source": [
        "y_preds"
      ],
      "metadata": {
        "colab": {
          "base_uri": "https://localhost:8080/"
        },
        "id": "igtYOB8mL1NL",
        "outputId": "258ac57f-9cfa-44c7-9796-9f8bea5a5f2d"
      },
      "execution_count": null,
      "outputs": [
        {
          "output_type": "execute_result",
          "data": {
            "text/plain": [
              "<tf.Tensor: shape=(), dtype=float32, numpy=19910.559>"
            ]
          },
          "metadata": {},
          "execution_count": 72
        }
      ]
    },
    {
      "cell_type": "code",
      "source": [
        "#y_preds[:,0].shape"
      ],
      "metadata": {
        "id": "M9K-uQcsNLoj"
      },
      "execution_count": null,
      "outputs": []
    },
    {
      "cell_type": "code",
      "source": [
        "x_test[:,0].shape"
      ],
      "metadata": {
        "colab": {
          "base_uri": "https://localhost:8080/"
        },
        "id": "1LAkU8UwC1eq",
        "outputId": "4368b09c-f988-4947-c8e4-cc8bd79e3722"
      },
      "execution_count": null,
      "outputs": [
        {
          "output_type": "execute_result",
          "data": {
            "text/plain": [
              "(521,)"
            ]
          },
          "metadata": {},
          "execution_count": 74
        }
      ]
    },
    {
      "cell_type": "code",
      "source": [
        "df"
      ],
      "metadata": {
        "colab": {
          "base_uri": "https://localhost:8080/",
          "height": 455
        },
        "id": "GM0mxlRVOhZx",
        "outputId": "d6eb7ffb-ebae-468f-dc73-36dcd1e10cba"
      },
      "execution_count": null,
      "outputs": [
        {
          "output_type": "execute_result",
          "data": {
            "text/plain": [
              "           Currency  Closing Price (USD)  24h Open (USD)  24h High (USD)  \\\n",
              "Date                                                                       \n",
              "2013-10-01      BTC           123.654990      124.304660      124.751660   \n",
              "2013-10-02      BTC           125.455000      123.654990      125.758500   \n",
              "2013-10-03      BTC           108.584830      125.455000      125.665660   \n",
              "2013-10-04      BTC           118.674660      108.584830      118.675000   \n",
              "2013-10-05      BTC           121.338660      118.674660      121.936330   \n",
              "...             ...                  ...             ...             ...   \n",
              "2021-05-14      BTC         49764.132082    49596.778891    51448.798576   \n",
              "2021-05-15      BTC         50032.693137    49717.354353    51578.312545   \n",
              "2021-05-16      BTC         47885.625255    49926.035067    50690.802950   \n",
              "2021-05-17      BTC         45604.615754    46805.537852    49670.414174   \n",
              "2021-05-18      BTC         43144.471291    46439.336570    46622.853437   \n",
              "\n",
              "            24h Low (USD)  \n",
              "Date                       \n",
              "2013-10-01     122.563490  \n",
              "2013-10-02     123.633830  \n",
              "2013-10-03      83.328330  \n",
              "2013-10-04     107.058160  \n",
              "2013-10-05     118.005660  \n",
              "...                   ...  \n",
              "2021-05-14   46294.720180  \n",
              "2021-05-15   48944.346536  \n",
              "2021-05-16   47005.102292  \n",
              "2021-05-17   43868.638969  \n",
              "2021-05-18   42102.346430  \n",
              "\n",
              "[2787 rows x 5 columns]"
            ],
            "text/html": [
              "\n",
              "  <div id=\"df-67b9f5ca-4f6f-45a3-9b1a-5f6b5526e895\" class=\"colab-df-container\">\n",
              "    <div>\n",
              "<style scoped>\n",
              "    .dataframe tbody tr th:only-of-type {\n",
              "        vertical-align: middle;\n",
              "    }\n",
              "\n",
              "    .dataframe tbody tr th {\n",
              "        vertical-align: top;\n",
              "    }\n",
              "\n",
              "    .dataframe thead th {\n",
              "        text-align: right;\n",
              "    }\n",
              "</style>\n",
              "<table border=\"1\" class=\"dataframe\">\n",
              "  <thead>\n",
              "    <tr style=\"text-align: right;\">\n",
              "      <th></th>\n",
              "      <th>Currency</th>\n",
              "      <th>Closing Price (USD)</th>\n",
              "      <th>24h Open (USD)</th>\n",
              "      <th>24h High (USD)</th>\n",
              "      <th>24h Low (USD)</th>\n",
              "    </tr>\n",
              "    <tr>\n",
              "      <th>Date</th>\n",
              "      <th></th>\n",
              "      <th></th>\n",
              "      <th></th>\n",
              "      <th></th>\n",
              "      <th></th>\n",
              "    </tr>\n",
              "  </thead>\n",
              "  <tbody>\n",
              "    <tr>\n",
              "      <th>2013-10-01</th>\n",
              "      <td>BTC</td>\n",
              "      <td>123.654990</td>\n",
              "      <td>124.304660</td>\n",
              "      <td>124.751660</td>\n",
              "      <td>122.563490</td>\n",
              "    </tr>\n",
              "    <tr>\n",
              "      <th>2013-10-02</th>\n",
              "      <td>BTC</td>\n",
              "      <td>125.455000</td>\n",
              "      <td>123.654990</td>\n",
              "      <td>125.758500</td>\n",
              "      <td>123.633830</td>\n",
              "    </tr>\n",
              "    <tr>\n",
              "      <th>2013-10-03</th>\n",
              "      <td>BTC</td>\n",
              "      <td>108.584830</td>\n",
              "      <td>125.455000</td>\n",
              "      <td>125.665660</td>\n",
              "      <td>83.328330</td>\n",
              "    </tr>\n",
              "    <tr>\n",
              "      <th>2013-10-04</th>\n",
              "      <td>BTC</td>\n",
              "      <td>118.674660</td>\n",
              "      <td>108.584830</td>\n",
              "      <td>118.675000</td>\n",
              "      <td>107.058160</td>\n",
              "    </tr>\n",
              "    <tr>\n",
              "      <th>2013-10-05</th>\n",
              "      <td>BTC</td>\n",
              "      <td>121.338660</td>\n",
              "      <td>118.674660</td>\n",
              "      <td>121.936330</td>\n",
              "      <td>118.005660</td>\n",
              "    </tr>\n",
              "    <tr>\n",
              "      <th>...</th>\n",
              "      <td>...</td>\n",
              "      <td>...</td>\n",
              "      <td>...</td>\n",
              "      <td>...</td>\n",
              "      <td>...</td>\n",
              "    </tr>\n",
              "    <tr>\n",
              "      <th>2021-05-14</th>\n",
              "      <td>BTC</td>\n",
              "      <td>49764.132082</td>\n",
              "      <td>49596.778891</td>\n",
              "      <td>51448.798576</td>\n",
              "      <td>46294.720180</td>\n",
              "    </tr>\n",
              "    <tr>\n",
              "      <th>2021-05-15</th>\n",
              "      <td>BTC</td>\n",
              "      <td>50032.693137</td>\n",
              "      <td>49717.354353</td>\n",
              "      <td>51578.312545</td>\n",
              "      <td>48944.346536</td>\n",
              "    </tr>\n",
              "    <tr>\n",
              "      <th>2021-05-16</th>\n",
              "      <td>BTC</td>\n",
              "      <td>47885.625255</td>\n",
              "      <td>49926.035067</td>\n",
              "      <td>50690.802950</td>\n",
              "      <td>47005.102292</td>\n",
              "    </tr>\n",
              "    <tr>\n",
              "      <th>2021-05-17</th>\n",
              "      <td>BTC</td>\n",
              "      <td>45604.615754</td>\n",
              "      <td>46805.537852</td>\n",
              "      <td>49670.414174</td>\n",
              "      <td>43868.638969</td>\n",
              "    </tr>\n",
              "    <tr>\n",
              "      <th>2021-05-18</th>\n",
              "      <td>BTC</td>\n",
              "      <td>43144.471291</td>\n",
              "      <td>46439.336570</td>\n",
              "      <td>46622.853437</td>\n",
              "      <td>42102.346430</td>\n",
              "    </tr>\n",
              "  </tbody>\n",
              "</table>\n",
              "<p>2787 rows × 5 columns</p>\n",
              "</div>\n",
              "    <div class=\"colab-df-buttons\">\n",
              "\n",
              "  <div class=\"colab-df-container\">\n",
              "    <button class=\"colab-df-convert\" onclick=\"convertToInteractive('df-67b9f5ca-4f6f-45a3-9b1a-5f6b5526e895')\"\n",
              "            title=\"Convert this dataframe to an interactive table.\"\n",
              "            style=\"display:none;\">\n",
              "\n",
              "  <svg xmlns=\"http://www.w3.org/2000/svg\" height=\"24px\" viewBox=\"0 -960 960 960\">\n",
              "    <path d=\"M120-120v-720h720v720H120Zm60-500h600v-160H180v160Zm220 220h160v-160H400v160Zm0 220h160v-160H400v160ZM180-400h160v-160H180v160Zm440 0h160v-160H620v160ZM180-180h160v-160H180v160Zm440 0h160v-160H620v160Z\"/>\n",
              "  </svg>\n",
              "    </button>\n",
              "\n",
              "  <style>\n",
              "    .colab-df-container {\n",
              "      display:flex;\n",
              "      gap: 12px;\n",
              "    }\n",
              "\n",
              "    .colab-df-convert {\n",
              "      background-color: #E8F0FE;\n",
              "      border: none;\n",
              "      border-radius: 50%;\n",
              "      cursor: pointer;\n",
              "      display: none;\n",
              "      fill: #1967D2;\n",
              "      height: 32px;\n",
              "      padding: 0 0 0 0;\n",
              "      width: 32px;\n",
              "    }\n",
              "\n",
              "    .colab-df-convert:hover {\n",
              "      background-color: #E2EBFA;\n",
              "      box-shadow: 0px 1px 2px rgba(60, 64, 67, 0.3), 0px 1px 3px 1px rgba(60, 64, 67, 0.15);\n",
              "      fill: #174EA6;\n",
              "    }\n",
              "\n",
              "    .colab-df-buttons div {\n",
              "      margin-bottom: 4px;\n",
              "    }\n",
              "\n",
              "    [theme=dark] .colab-df-convert {\n",
              "      background-color: #3B4455;\n",
              "      fill: #D2E3FC;\n",
              "    }\n",
              "\n",
              "    [theme=dark] .colab-df-convert:hover {\n",
              "      background-color: #434B5C;\n",
              "      box-shadow: 0px 1px 3px 1px rgba(0, 0, 0, 0.15);\n",
              "      filter: drop-shadow(0px 1px 2px rgba(0, 0, 0, 0.3));\n",
              "      fill: #FFFFFF;\n",
              "    }\n",
              "  </style>\n",
              "\n",
              "    <script>\n",
              "      const buttonEl =\n",
              "        document.querySelector('#df-67b9f5ca-4f6f-45a3-9b1a-5f6b5526e895 button.colab-df-convert');\n",
              "      buttonEl.style.display =\n",
              "        google.colab.kernel.accessAllowed ? 'block' : 'none';\n",
              "\n",
              "      async function convertToInteractive(key) {\n",
              "        const element = document.querySelector('#df-67b9f5ca-4f6f-45a3-9b1a-5f6b5526e895');\n",
              "        const dataTable =\n",
              "          await google.colab.kernel.invokeFunction('convertToInteractive',\n",
              "                                                    [key], {});\n",
              "        if (!dataTable) return;\n",
              "\n",
              "        const docLinkHtml = 'Like what you see? Visit the ' +\n",
              "          '<a target=\"_blank\" href=https://colab.research.google.com/notebooks/data_table.ipynb>data table notebook</a>'\n",
              "          + ' to learn more about interactive tables.';\n",
              "        element.innerHTML = '';\n",
              "        dataTable['output_type'] = 'display_data';\n",
              "        await google.colab.output.renderOutput(dataTable, element);\n",
              "        const docLink = document.createElement('div');\n",
              "        docLink.innerHTML = docLinkHtml;\n",
              "        element.appendChild(docLink);\n",
              "      }\n",
              "    </script>\n",
              "  </div>\n",
              "\n",
              "\n",
              "<div id=\"df-c2b6708f-99b6-42c4-add1-b90681c8f03a\">\n",
              "  <button class=\"colab-df-quickchart\" onclick=\"quickchart('df-c2b6708f-99b6-42c4-add1-b90681c8f03a')\"\n",
              "            title=\"Suggest charts.\"\n",
              "            style=\"display:none;\">\n",
              "\n",
              "<svg xmlns=\"http://www.w3.org/2000/svg\" height=\"24px\"viewBox=\"0 0 24 24\"\n",
              "     width=\"24px\">\n",
              "    <g>\n",
              "        <path d=\"M19 3H5c-1.1 0-2 .9-2 2v14c0 1.1.9 2 2 2h14c1.1 0 2-.9 2-2V5c0-1.1-.9-2-2-2zM9 17H7v-7h2v7zm4 0h-2V7h2v10zm4 0h-2v-4h2v4z\"/>\n",
              "    </g>\n",
              "</svg>\n",
              "  </button>\n",
              "\n",
              "<style>\n",
              "  .colab-df-quickchart {\n",
              "      --bg-color: #E8F0FE;\n",
              "      --fill-color: #1967D2;\n",
              "      --hover-bg-color: #E2EBFA;\n",
              "      --hover-fill-color: #174EA6;\n",
              "      --disabled-fill-color: #AAA;\n",
              "      --disabled-bg-color: #DDD;\n",
              "  }\n",
              "\n",
              "  [theme=dark] .colab-df-quickchart {\n",
              "      --bg-color: #3B4455;\n",
              "      --fill-color: #D2E3FC;\n",
              "      --hover-bg-color: #434B5C;\n",
              "      --hover-fill-color: #FFFFFF;\n",
              "      --disabled-bg-color: #3B4455;\n",
              "      --disabled-fill-color: #666;\n",
              "  }\n",
              "\n",
              "  .colab-df-quickchart {\n",
              "    background-color: var(--bg-color);\n",
              "    border: none;\n",
              "    border-radius: 50%;\n",
              "    cursor: pointer;\n",
              "    display: none;\n",
              "    fill: var(--fill-color);\n",
              "    height: 32px;\n",
              "    padding: 0;\n",
              "    width: 32px;\n",
              "  }\n",
              "\n",
              "  .colab-df-quickchart:hover {\n",
              "    background-color: var(--hover-bg-color);\n",
              "    box-shadow: 0 1px 2px rgba(60, 64, 67, 0.3), 0 1px 3px 1px rgba(60, 64, 67, 0.15);\n",
              "    fill: var(--button-hover-fill-color);\n",
              "  }\n",
              "\n",
              "  .colab-df-quickchart-complete:disabled,\n",
              "  .colab-df-quickchart-complete:disabled:hover {\n",
              "    background-color: var(--disabled-bg-color);\n",
              "    fill: var(--disabled-fill-color);\n",
              "    box-shadow: none;\n",
              "  }\n",
              "\n",
              "  .colab-df-spinner {\n",
              "    border: 2px solid var(--fill-color);\n",
              "    border-color: transparent;\n",
              "    border-bottom-color: var(--fill-color);\n",
              "    animation:\n",
              "      spin 1s steps(1) infinite;\n",
              "  }\n",
              "\n",
              "  @keyframes spin {\n",
              "    0% {\n",
              "      border-color: transparent;\n",
              "      border-bottom-color: var(--fill-color);\n",
              "      border-left-color: var(--fill-color);\n",
              "    }\n",
              "    20% {\n",
              "      border-color: transparent;\n",
              "      border-left-color: var(--fill-color);\n",
              "      border-top-color: var(--fill-color);\n",
              "    }\n",
              "    30% {\n",
              "      border-color: transparent;\n",
              "      border-left-color: var(--fill-color);\n",
              "      border-top-color: var(--fill-color);\n",
              "      border-right-color: var(--fill-color);\n",
              "    }\n",
              "    40% {\n",
              "      border-color: transparent;\n",
              "      border-right-color: var(--fill-color);\n",
              "      border-top-color: var(--fill-color);\n",
              "    }\n",
              "    60% {\n",
              "      border-color: transparent;\n",
              "      border-right-color: var(--fill-color);\n",
              "    }\n",
              "    80% {\n",
              "      border-color: transparent;\n",
              "      border-right-color: var(--fill-color);\n",
              "      border-bottom-color: var(--fill-color);\n",
              "    }\n",
              "    90% {\n",
              "      border-color: transparent;\n",
              "      border-bottom-color: var(--fill-color);\n",
              "    }\n",
              "  }\n",
              "</style>\n",
              "\n",
              "  <script>\n",
              "    async function quickchart(key) {\n",
              "      const quickchartButtonEl =\n",
              "        document.querySelector('#' + key + ' button');\n",
              "      quickchartButtonEl.disabled = true;  // To prevent multiple clicks.\n",
              "      quickchartButtonEl.classList.add('colab-df-spinner');\n",
              "      try {\n",
              "        const charts = await google.colab.kernel.invokeFunction(\n",
              "            'suggestCharts', [key], {});\n",
              "      } catch (error) {\n",
              "        console.error('Error during call to suggestCharts:', error);\n",
              "      }\n",
              "      quickchartButtonEl.classList.remove('colab-df-spinner');\n",
              "      quickchartButtonEl.classList.add('colab-df-quickchart-complete');\n",
              "    }\n",
              "    (() => {\n",
              "      let quickchartButtonEl =\n",
              "        document.querySelector('#df-c2b6708f-99b6-42c4-add1-b90681c8f03a button');\n",
              "      quickchartButtonEl.style.display =\n",
              "        google.colab.kernel.accessAllowed ? 'block' : 'none';\n",
              "    })();\n",
              "  </script>\n",
              "</div>\n",
              "    </div>\n",
              "  </div>\n"
            ]
          },
          "metadata": {},
          "execution_count": 40
        }
      ]
    },
    {
      "cell_type": "code",
      "source": [
        "int(0.8*len(df))\n",
        "df=df.reset_index()\n",
        "datestamp=df['Date']\n"
      ],
      "metadata": {
        "id": "PFz4BFJGOTlt"
      },
      "execution_count": null,
      "outputs": []
    },
    {
      "cell_type": "code",
      "source": [
        "datestamp_train=datestamp[:2266]\n",
        "datestamp_test=datestamp[2266:]"
      ],
      "metadata": {
        "id": "bVTpvhf0PoKu"
      },
      "execution_count": null,
      "outputs": []
    },
    {
      "cell_type": "code",
      "source": [],
      "metadata": {
        "id": "4oRIj8qdPoPa"
      },
      "execution_count": null,
      "outputs": []
    },
    {
      "cell_type": "code",
      "source": [
        "datestamp_test.shape"
      ],
      "metadata": {
        "colab": {
          "base_uri": "https://localhost:8080/"
        },
        "id": "N_YTDPlGPA13",
        "outputId": "20020e9e-7095-4ce0-c073-4b35ef37a721"
      },
      "execution_count": null,
      "outputs": [
        {
          "output_type": "execute_result",
          "data": {
            "text/plain": [
              "(521,)"
            ]
          },
          "metadata": {},
          "execution_count": 43
        }
      ]
    },
    {
      "cell_type": "code",
      "source": [
        "#plt.plot(datestamp_test[-4:],y_preds[:,0][-4:], label='preds/forecasted')\n",
        "#plt.plot(datestamp_test[-4:],x_test[:,0][-4:], label='test')\n",
        "#plt.legend()"
      ],
      "metadata": {
        "id": "HAWpU9uUC8eq"
      },
      "execution_count": null,
      "outputs": []
    },
    {
      "cell_type": "code",
      "source": [],
      "metadata": {
        "id": "yvOLq-DcQHev"
      },
      "execution_count": null,
      "outputs": []
    },
    {
      "cell_type": "code",
      "source": [
        "datestamp_test[-10:]"
      ],
      "metadata": {
        "colab": {
          "base_uri": "https://localhost:8080/"
        },
        "id": "0bKZMgAQNbM2",
        "outputId": "3f40a27c-0b89-4232-c9b0-5e184fba9bb4"
      },
      "execution_count": null,
      "outputs": [
        {
          "output_type": "execute_result",
          "data": {
            "text/plain": [
              "2777   2021-05-09\n",
              "2778   2021-05-10\n",
              "2779   2021-05-11\n",
              "2780   2021-05-12\n",
              "2781   2021-05-13\n",
              "2782   2021-05-14\n",
              "2783   2021-05-15\n",
              "2784   2021-05-16\n",
              "2785   2021-05-17\n",
              "2786   2021-05-18\n",
              "Name: Date, dtype: datetime64[ns]"
            ]
          },
          "metadata": {},
          "execution_count": 44
        }
      ]
    },
    {
      "cell_type": "code",
      "source": [
        "import tensorflow_datasets as tfds"
      ],
      "metadata": {
        "id": "wuDsUSavLY2z"
      },
      "execution_count": null,
      "outputs": []
    },
    {
      "cell_type": "code",
      "source": [
        "#dataset=tf.data.Dataset.from_tensor_slices(btc_price)\n",
        "#ds=dataset.window(7,shift=1,drop_remainder=True)\n",
        "#batch=ds.flat_map(lambda b: b.batch(1))\n",
        "#for b in batch:\n",
        "#  print(b.numpy())"
      ],
      "metadata": {
        "id": "PafjUVMvLy--"
      },
      "execution_count": null,
      "outputs": []
    },
    {
      "cell_type": "code",
      "source": [
        "def train_test_splits(data, window_size, horizon):\n",
        "  \"\"\" Train Test Splits\"\"\"\n",
        "  x=[]\n",
        "  y=[]\n",
        "  for i in range(window_size, len(data)-horizon):\n",
        "    x.append(data[i-window_size:i])  #i-10  1-1=0. 2-1=1 3-1=2\n",
        "    y.append(data[i:i+horizon])\n",
        "  x=np.array(x)\n",
        "  y=np.array(y)\n",
        "  split_size=int(0.8*len(data))\n",
        "  x_train=x[:split_size]\n",
        "  y_train=y[:split_size]\n",
        "\n",
        "  x_test=x[split_size:]\n",
        "  y_test=y[split_size:]\n",
        "  return x_train, y_train, x_test, y_test"
      ],
      "metadata": {
        "id": "2liGhqBAPyQB"
      },
      "execution_count": null,
      "outputs": []
    },
    {
      "cell_type": "code",
      "source": [
        "x_train,y_train, x_test, y_test=train_test_splits(btc_price, 7,1)"
      ],
      "metadata": {
        "id": "jb5oqWxEY230"
      },
      "execution_count": null,
      "outputs": []
    },
    {
      "cell_type": "code",
      "source": [
        "#conv1d takes in the form of batch size, timesteps, input_dim\n",
        "x_train.shape, y_train.shape, x_test.shape, y_test.shape"
      ],
      "metadata": {
        "colab": {
          "base_uri": "https://localhost:8080/"
        },
        "id": "E2DOCy6_ZTLq",
        "outputId": "18ae34cf-0639-4e1e-9afd-d35b24b97894"
      },
      "execution_count": null,
      "outputs": [
        {
          "output_type": "execute_result",
          "data": {
            "text/plain": [
              "((2229, 7), (2229, 1), (550, 7), (550, 1))"
            ]
          },
          "metadata": {},
          "execution_count": 58
        }
      ]
    },
    {
      "cell_type": "code",
      "source": [
        "x=tf.constant(x_train.shape[1])"
      ],
      "metadata": {
        "id": "F8-c2ke4Z763"
      },
      "execution_count": null,
      "outputs": []
    },
    {
      "cell_type": "code",
      "source": [
        "x"
      ],
      "metadata": {
        "colab": {
          "base_uri": "https://localhost:8080/"
        },
        "id": "mRDlcWqJalbk",
        "outputId": "406ed2ae-5f68-4e1d-d9db-053fb551b1bf"
      },
      "execution_count": null,
      "outputs": [
        {
          "output_type": "execute_result",
          "data": {
            "text/plain": [
              "<tf.Tensor: shape=(), dtype=int32, numpy=7>"
            ]
          },
          "metadata": {},
          "execution_count": 85
        }
      ]
    },
    {
      "cell_type": "code",
      "source": [
        "expand_dims_layer=tf.keras.layers.Lambda(lambda x: tf.expand_dims(x, axis=2))"
      ],
      "metadata": {
        "id": "0LgrpB0ZaDZ8"
      },
      "execution_count": null,
      "outputs": []
    },
    {
      "cell_type": "code",
      "source": [
        "expand_dims_layer(x_train).shape"
      ],
      "metadata": {
        "colab": {
          "base_uri": "https://localhost:8080/"
        },
        "id": "GtNytUGhaSnf",
        "outputId": "65bb4143-1b22-4461-9838-c2fa9c44b34b"
      },
      "execution_count": null,
      "outputs": [
        {
          "output_type": "execute_result",
          "data": {
            "text/plain": [
              "TensorShape([2229, 7, 1])"
            ]
          },
          "metadata": {},
          "execution_count": 55
        }
      ]
    },
    {
      "cell_type": "code",
      "source": [
        "tf.random.set_seed(42)\n",
        "model_4=tf.keras.Sequential([\n",
        "    tf.keras.layers.Lambda(lambda x: tf.expand_dims(x, axis=2)),\n",
        "    tf.keras.layers.Conv1D(64,1, padding='causal'),\n",
        "    tf.keras.layers.Conv1D(32,2, padding='causal'),\n",
        "    tf.keras.layers.Dense(1, activation='linear')\n",
        "]) #timesteps, input_dim\n"
      ],
      "metadata": {
        "id": "vbpmQNgZY3CQ"
      },
      "execution_count": null,
      "outputs": []
    },
    {
      "cell_type": "code",
      "source": [
        "model_4.compile(optimizer='adam', loss='mae', metrics=['mae', 'mse'])"
      ],
      "metadata": {
        "id": "h3Dlen0PZuay"
      },
      "execution_count": null,
      "outputs": []
    },
    {
      "cell_type": "code",
      "source": [
        "model_4.fit(x_train,y_train, validation_data=(x_test, y_test), epochs=100)"
      ],
      "metadata": {
        "id": "YYXGdgq9qBa3",
        "colab": {
          "base_uri": "https://localhost:8080/",
          "height": 475
        },
        "outputId": "f30de428-9783-4f0f-e8c3-292dd86cca59"
      },
      "execution_count": null,
      "outputs": [
        {
          "output_type": "stream",
          "name": "stdout",
          "text": [
            "Epoch 1/100\n",
            "70/70 [==============================] - 2s 9ms/step - loss: 539.6439 - mae: 539.6439 - mse: 1646428.3750 - val_loss: 1254.2568 - val_mae: 1254.2568 - val_mse: 5207815.0000\n",
            "Epoch 2/100\n",
            "70/70 [==============================] - 0s 4ms/step - loss: 219.4510 - mae: 219.4510 - mse: 263070.2812 - val_loss: 1196.9631 - val_mae: 1196.9631 - val_mse: 4968678.5000\n",
            "Epoch 3/100\n",
            "70/70 [==============================] - 0s 7ms/step - loss: 223.1044 - mae: 223.1044 - mse: 267221.7500 - val_loss: 1195.0782 - val_mae: 1195.0782 - val_mse: 4955954.0000\n",
            "Epoch 4/100\n",
            "11/70 [===>..........................] - ETA: 0s - loss: 204.0750 - mae: 204.0750 - mse: 201430.5938"
          ]
        },
        {
          "output_type": "error",
          "ename": "KeyboardInterrupt",
          "evalue": "ignored",
          "traceback": [
            "\u001b[0;31m---------------------------------------------------------------------------\u001b[0m",
            "\u001b[0;31mKeyboardInterrupt\u001b[0m                         Traceback (most recent call last)",
            "\u001b[0;32m<ipython-input-54-87fc113ca399>\u001b[0m in \u001b[0;36m<cell line: 1>\u001b[0;34m()\u001b[0m\n\u001b[0;32m----> 1\u001b[0;31m \u001b[0mmodel_4\u001b[0m\u001b[0;34m.\u001b[0m\u001b[0mfit\u001b[0m\u001b[0;34m(\u001b[0m\u001b[0mx_train\u001b[0m\u001b[0;34m,\u001b[0m\u001b[0my_train\u001b[0m\u001b[0;34m,\u001b[0m \u001b[0mvalidation_data\u001b[0m\u001b[0;34m=\u001b[0m\u001b[0;34m(\u001b[0m\u001b[0mx_test\u001b[0m\u001b[0;34m,\u001b[0m \u001b[0my_test\u001b[0m\u001b[0;34m)\u001b[0m\u001b[0;34m,\u001b[0m \u001b[0mepochs\u001b[0m\u001b[0;34m=\u001b[0m\u001b[0;36m100\u001b[0m\u001b[0;34m)\u001b[0m\u001b[0;34m\u001b[0m\u001b[0;34m\u001b[0m\u001b[0m\n\u001b[0m",
            "\u001b[0;32m/usr/local/lib/python3.10/dist-packages/keras/utils/traceback_utils.py\u001b[0m in \u001b[0;36merror_handler\u001b[0;34m(*args, **kwargs)\u001b[0m\n\u001b[1;32m     63\u001b[0m         \u001b[0mfiltered_tb\u001b[0m \u001b[0;34m=\u001b[0m \u001b[0;32mNone\u001b[0m\u001b[0;34m\u001b[0m\u001b[0;34m\u001b[0m\u001b[0m\n\u001b[1;32m     64\u001b[0m         \u001b[0;32mtry\u001b[0m\u001b[0;34m:\u001b[0m\u001b[0;34m\u001b[0m\u001b[0;34m\u001b[0m\u001b[0m\n\u001b[0;32m---> 65\u001b[0;31m             \u001b[0;32mreturn\u001b[0m \u001b[0mfn\u001b[0m\u001b[0;34m(\u001b[0m\u001b[0;34m*\u001b[0m\u001b[0margs\u001b[0m\u001b[0;34m,\u001b[0m \u001b[0;34m**\u001b[0m\u001b[0mkwargs\u001b[0m\u001b[0;34m)\u001b[0m\u001b[0;34m\u001b[0m\u001b[0;34m\u001b[0m\u001b[0m\n\u001b[0m\u001b[1;32m     66\u001b[0m         \u001b[0;32mexcept\u001b[0m \u001b[0mException\u001b[0m \u001b[0;32mas\u001b[0m \u001b[0me\u001b[0m\u001b[0;34m:\u001b[0m\u001b[0;34m\u001b[0m\u001b[0;34m\u001b[0m\u001b[0m\n\u001b[1;32m     67\u001b[0m             \u001b[0mfiltered_tb\u001b[0m \u001b[0;34m=\u001b[0m \u001b[0m_process_traceback_frames\u001b[0m\u001b[0;34m(\u001b[0m\u001b[0me\u001b[0m\u001b[0;34m.\u001b[0m\u001b[0m__traceback__\u001b[0m\u001b[0;34m)\u001b[0m\u001b[0;34m\u001b[0m\u001b[0;34m\u001b[0m\u001b[0m\n",
            "\u001b[0;32m/usr/local/lib/python3.10/dist-packages/keras/engine/training.py\u001b[0m in \u001b[0;36mfit\u001b[0;34m(self, x, y, batch_size, epochs, verbose, callbacks, validation_split, validation_data, shuffle, class_weight, sample_weight, initial_epoch, steps_per_epoch, validation_steps, validation_batch_size, validation_freq, max_queue_size, workers, use_multiprocessing)\u001b[0m\n\u001b[1;32m   1683\u001b[0m                         ):\n\u001b[1;32m   1684\u001b[0m                             \u001b[0mcallbacks\u001b[0m\u001b[0;34m.\u001b[0m\u001b[0mon_train_batch_begin\u001b[0m\u001b[0;34m(\u001b[0m\u001b[0mstep\u001b[0m\u001b[0;34m)\u001b[0m\u001b[0;34m\u001b[0m\u001b[0;34m\u001b[0m\u001b[0m\n\u001b[0;32m-> 1685\u001b[0;31m                             \u001b[0mtmp_logs\u001b[0m \u001b[0;34m=\u001b[0m \u001b[0mself\u001b[0m\u001b[0;34m.\u001b[0m\u001b[0mtrain_function\u001b[0m\u001b[0;34m(\u001b[0m\u001b[0miterator\u001b[0m\u001b[0;34m)\u001b[0m\u001b[0;34m\u001b[0m\u001b[0;34m\u001b[0m\u001b[0m\n\u001b[0m\u001b[1;32m   1686\u001b[0m                             \u001b[0;32mif\u001b[0m \u001b[0mdata_handler\u001b[0m\u001b[0;34m.\u001b[0m\u001b[0mshould_sync\u001b[0m\u001b[0;34m:\u001b[0m\u001b[0;34m\u001b[0m\u001b[0;34m\u001b[0m\u001b[0m\n\u001b[1;32m   1687\u001b[0m                                 \u001b[0mcontext\u001b[0m\u001b[0;34m.\u001b[0m\u001b[0masync_wait\u001b[0m\u001b[0;34m(\u001b[0m\u001b[0;34m)\u001b[0m\u001b[0;34m\u001b[0m\u001b[0;34m\u001b[0m\u001b[0m\n",
            "\u001b[0;32m/usr/local/lib/python3.10/dist-packages/tensorflow/python/util/traceback_utils.py\u001b[0m in \u001b[0;36merror_handler\u001b[0;34m(*args, **kwargs)\u001b[0m\n\u001b[1;32m    148\u001b[0m     \u001b[0mfiltered_tb\u001b[0m \u001b[0;34m=\u001b[0m \u001b[0;32mNone\u001b[0m\u001b[0;34m\u001b[0m\u001b[0;34m\u001b[0m\u001b[0m\n\u001b[1;32m    149\u001b[0m     \u001b[0;32mtry\u001b[0m\u001b[0;34m:\u001b[0m\u001b[0;34m\u001b[0m\u001b[0;34m\u001b[0m\u001b[0m\n\u001b[0;32m--> 150\u001b[0;31m       \u001b[0;32mreturn\u001b[0m \u001b[0mfn\u001b[0m\u001b[0;34m(\u001b[0m\u001b[0;34m*\u001b[0m\u001b[0margs\u001b[0m\u001b[0;34m,\u001b[0m \u001b[0;34m**\u001b[0m\u001b[0mkwargs\u001b[0m\u001b[0;34m)\u001b[0m\u001b[0;34m\u001b[0m\u001b[0;34m\u001b[0m\u001b[0m\n\u001b[0m\u001b[1;32m    151\u001b[0m     \u001b[0;32mexcept\u001b[0m \u001b[0mException\u001b[0m \u001b[0;32mas\u001b[0m \u001b[0me\u001b[0m\u001b[0;34m:\u001b[0m\u001b[0;34m\u001b[0m\u001b[0;34m\u001b[0m\u001b[0m\n\u001b[1;32m    152\u001b[0m       \u001b[0mfiltered_tb\u001b[0m \u001b[0;34m=\u001b[0m \u001b[0m_process_traceback_frames\u001b[0m\u001b[0;34m(\u001b[0m\u001b[0me\u001b[0m\u001b[0;34m.\u001b[0m\u001b[0m__traceback__\u001b[0m\u001b[0;34m)\u001b[0m\u001b[0;34m\u001b[0m\u001b[0;34m\u001b[0m\u001b[0m\n",
            "\u001b[0;32m/usr/local/lib/python3.10/dist-packages/tensorflow/python/eager/polymorphic_function/polymorphic_function.py\u001b[0m in \u001b[0;36m__call__\u001b[0;34m(self, *args, **kwds)\u001b[0m\n\u001b[1;32m    892\u001b[0m \u001b[0;34m\u001b[0m\u001b[0m\n\u001b[1;32m    893\u001b[0m       \u001b[0;32mwith\u001b[0m \u001b[0mOptionalXlaContext\u001b[0m\u001b[0;34m(\u001b[0m\u001b[0mself\u001b[0m\u001b[0;34m.\u001b[0m\u001b[0m_jit_compile\u001b[0m\u001b[0;34m)\u001b[0m\u001b[0;34m:\u001b[0m\u001b[0;34m\u001b[0m\u001b[0;34m\u001b[0m\u001b[0m\n\u001b[0;32m--> 894\u001b[0;31m         \u001b[0mresult\u001b[0m \u001b[0;34m=\u001b[0m \u001b[0mself\u001b[0m\u001b[0;34m.\u001b[0m\u001b[0m_call\u001b[0m\u001b[0;34m(\u001b[0m\u001b[0;34m*\u001b[0m\u001b[0margs\u001b[0m\u001b[0;34m,\u001b[0m \u001b[0;34m**\u001b[0m\u001b[0mkwds\u001b[0m\u001b[0;34m)\u001b[0m\u001b[0;34m\u001b[0m\u001b[0;34m\u001b[0m\u001b[0m\n\u001b[0m\u001b[1;32m    895\u001b[0m \u001b[0;34m\u001b[0m\u001b[0m\n\u001b[1;32m    896\u001b[0m       \u001b[0mnew_tracing_count\u001b[0m \u001b[0;34m=\u001b[0m \u001b[0mself\u001b[0m\u001b[0;34m.\u001b[0m\u001b[0mexperimental_get_tracing_count\u001b[0m\u001b[0;34m(\u001b[0m\u001b[0;34m)\u001b[0m\u001b[0;34m\u001b[0m\u001b[0;34m\u001b[0m\u001b[0m\n",
            "\u001b[0;32m/usr/local/lib/python3.10/dist-packages/tensorflow/python/eager/polymorphic_function/polymorphic_function.py\u001b[0m in \u001b[0;36m_call\u001b[0;34m(self, *args, **kwds)\u001b[0m\n\u001b[1;32m    924\u001b[0m       \u001b[0;31m# In this case we have created variables on the first call, so we run the\u001b[0m\u001b[0;34m\u001b[0m\u001b[0;34m\u001b[0m\u001b[0m\n\u001b[1;32m    925\u001b[0m       \u001b[0;31m# defunned version which is guaranteed to never create variables.\u001b[0m\u001b[0;34m\u001b[0m\u001b[0;34m\u001b[0m\u001b[0m\n\u001b[0;32m--> 926\u001b[0;31m       \u001b[0;32mreturn\u001b[0m \u001b[0mself\u001b[0m\u001b[0;34m.\u001b[0m\u001b[0m_no_variable_creation_fn\u001b[0m\u001b[0;34m(\u001b[0m\u001b[0;34m*\u001b[0m\u001b[0margs\u001b[0m\u001b[0;34m,\u001b[0m \u001b[0;34m**\u001b[0m\u001b[0mkwds\u001b[0m\u001b[0;34m)\u001b[0m  \u001b[0;31m# pylint: disable=not-callable\u001b[0m\u001b[0;34m\u001b[0m\u001b[0;34m\u001b[0m\u001b[0m\n\u001b[0m\u001b[1;32m    927\u001b[0m     \u001b[0;32melif\u001b[0m \u001b[0mself\u001b[0m\u001b[0;34m.\u001b[0m\u001b[0m_variable_creation_fn\u001b[0m \u001b[0;32mis\u001b[0m \u001b[0;32mnot\u001b[0m \u001b[0;32mNone\u001b[0m\u001b[0;34m:\u001b[0m\u001b[0;34m\u001b[0m\u001b[0;34m\u001b[0m\u001b[0m\n\u001b[1;32m    928\u001b[0m       \u001b[0;31m# Release the lock early so that multiple threads can perform the call\u001b[0m\u001b[0;34m\u001b[0m\u001b[0;34m\u001b[0m\u001b[0m\n",
            "\u001b[0;32m/usr/local/lib/python3.10/dist-packages/tensorflow/python/eager/polymorphic_function/tracing_compiler.py\u001b[0m in \u001b[0;36m__call__\u001b[0;34m(self, *args, **kwargs)\u001b[0m\n\u001b[1;32m    141\u001b[0m       (concrete_function,\n\u001b[1;32m    142\u001b[0m        filtered_flat_args) = self._maybe_define_function(args, kwargs)\n\u001b[0;32m--> 143\u001b[0;31m     return concrete_function._call_flat(\n\u001b[0m\u001b[1;32m    144\u001b[0m         filtered_flat_args, captured_inputs=concrete_function.captured_inputs)  # pylint: disable=protected-access\n\u001b[1;32m    145\u001b[0m \u001b[0;34m\u001b[0m\u001b[0m\n",
            "\u001b[0;32m/usr/local/lib/python3.10/dist-packages/tensorflow/python/eager/polymorphic_function/monomorphic_function.py\u001b[0m in \u001b[0;36m_call_flat\u001b[0;34m(self, args, captured_inputs, cancellation_manager)\u001b[0m\n\u001b[1;32m   1755\u001b[0m         and executing_eagerly):\n\u001b[1;32m   1756\u001b[0m       \u001b[0;31m# No tape is watching; skip to running the function.\u001b[0m\u001b[0;34m\u001b[0m\u001b[0;34m\u001b[0m\u001b[0m\n\u001b[0;32m-> 1757\u001b[0;31m       return self._build_call_outputs(self._inference_function.call(\n\u001b[0m\u001b[1;32m   1758\u001b[0m           ctx, args, cancellation_manager=cancellation_manager))\n\u001b[1;32m   1759\u001b[0m     forward_backward = self._select_forward_and_backward_functions(\n",
            "\u001b[0;32m/usr/local/lib/python3.10/dist-packages/tensorflow/python/eager/polymorphic_function/monomorphic_function.py\u001b[0m in \u001b[0;36mcall\u001b[0;34m(self, ctx, args, cancellation_manager)\u001b[0m\n\u001b[1;32m    379\u001b[0m       \u001b[0;32mwith\u001b[0m \u001b[0m_InterpolateFunctionError\u001b[0m\u001b[0;34m(\u001b[0m\u001b[0mself\u001b[0m\u001b[0;34m)\u001b[0m\u001b[0;34m:\u001b[0m\u001b[0;34m\u001b[0m\u001b[0;34m\u001b[0m\u001b[0m\n\u001b[1;32m    380\u001b[0m         \u001b[0;32mif\u001b[0m \u001b[0mcancellation_manager\u001b[0m \u001b[0;32mis\u001b[0m \u001b[0;32mNone\u001b[0m\u001b[0;34m:\u001b[0m\u001b[0;34m\u001b[0m\u001b[0;34m\u001b[0m\u001b[0m\n\u001b[0;32m--> 381\u001b[0;31m           outputs = execute.execute(\n\u001b[0m\u001b[1;32m    382\u001b[0m               \u001b[0mstr\u001b[0m\u001b[0;34m(\u001b[0m\u001b[0mself\u001b[0m\u001b[0;34m.\u001b[0m\u001b[0msignature\u001b[0m\u001b[0;34m.\u001b[0m\u001b[0mname\u001b[0m\u001b[0;34m)\u001b[0m\u001b[0;34m,\u001b[0m\u001b[0;34m\u001b[0m\u001b[0;34m\u001b[0m\u001b[0m\n\u001b[1;32m    383\u001b[0m               \u001b[0mnum_outputs\u001b[0m\u001b[0;34m=\u001b[0m\u001b[0mself\u001b[0m\u001b[0;34m.\u001b[0m\u001b[0m_num_outputs\u001b[0m\u001b[0;34m,\u001b[0m\u001b[0;34m\u001b[0m\u001b[0;34m\u001b[0m\u001b[0m\n",
            "\u001b[0;32m/usr/local/lib/python3.10/dist-packages/tensorflow/python/eager/execute.py\u001b[0m in \u001b[0;36mquick_execute\u001b[0;34m(op_name, num_outputs, inputs, attrs, ctx, name)\u001b[0m\n\u001b[1;32m     50\u001b[0m   \u001b[0;32mtry\u001b[0m\u001b[0;34m:\u001b[0m\u001b[0;34m\u001b[0m\u001b[0;34m\u001b[0m\u001b[0m\n\u001b[1;32m     51\u001b[0m     \u001b[0mctx\u001b[0m\u001b[0;34m.\u001b[0m\u001b[0mensure_initialized\u001b[0m\u001b[0;34m(\u001b[0m\u001b[0;34m)\u001b[0m\u001b[0;34m\u001b[0m\u001b[0;34m\u001b[0m\u001b[0m\n\u001b[0;32m---> 52\u001b[0;31m     tensors = pywrap_tfe.TFE_Py_Execute(ctx._handle, device_name, op_name,\n\u001b[0m\u001b[1;32m     53\u001b[0m                                         inputs, attrs, num_outputs)\n\u001b[1;32m     54\u001b[0m   \u001b[0;32mexcept\u001b[0m \u001b[0mcore\u001b[0m\u001b[0;34m.\u001b[0m\u001b[0m_NotOkStatusException\u001b[0m \u001b[0;32mas\u001b[0m \u001b[0me\u001b[0m\u001b[0;34m:\u001b[0m\u001b[0;34m\u001b[0m\u001b[0;34m\u001b[0m\u001b[0m\n",
            "\u001b[0;31mKeyboardInterrupt\u001b[0m: "
          ]
        }
      ]
    },
    {
      "cell_type": "code",
      "source": [
        "model_4.evaluate(x_test, y_test)"
      ],
      "metadata": {
        "colab": {
          "base_uri": "https://localhost:8080/"
        },
        "id": "BSbavtbgiwIy",
        "outputId": "f18066b2-574c-4888-98b1-537a7724c345"
      },
      "execution_count": null,
      "outputs": [
        {
          "output_type": "stream",
          "name": "stdout",
          "text": [
            "18/18 [==============================] - 0s 4ms/step - loss: 1221.5869 - mae: 1221.5869 - mse: 5038351.5000\n"
          ]
        },
        {
          "output_type": "execute_result",
          "data": {
            "text/plain": [
              "[1221.5869140625, 1221.5869140625, 5038351.5]"
            ]
          },
          "metadata": {},
          "execution_count": 91
        }
      ]
    },
    {
      "cell_type": "code",
      "source": [
        "y_preds=model_4.predict(x_test)"
      ],
      "metadata": {
        "colab": {
          "base_uri": "https://localhost:8080/"
        },
        "id": "agf61ItNjO6Y",
        "outputId": "5906cb64-92ec-4186-a919-e8f54431e2ab"
      },
      "execution_count": null,
      "outputs": [
        {
          "output_type": "stream",
          "name": "stdout",
          "text": [
            "18/18 [==============================] - 0s 2ms/step\n"
          ]
        }
      ]
    },
    {
      "cell_type": "code",
      "source": [
        "y_preds.shape , x_test.shape"
      ],
      "metadata": {
        "colab": {
          "base_uri": "https://localhost:8080/",
          "height": 181
        },
        "id": "6w0x0TKOjS_v",
        "outputId": "d7ffea01-32aa-488e-fe07-2de694669cdb"
      },
      "execution_count": null,
      "outputs": [
        {
          "output_type": "error",
          "ename": "NameError",
          "evalue": "ignored",
          "traceback": [
            "\u001b[0;31m---------------------------------------------------------------------------\u001b[0m",
            "\u001b[0;31mNameError\u001b[0m                                 Traceback (most recent call last)",
            "\u001b[0;32m<ipython-input-3-82e21bda1bfe>\u001b[0m in \u001b[0;36m<cell line: 1>\u001b[0;34m()\u001b[0m\n\u001b[0;32m----> 1\u001b[0;31m \u001b[0my_preds\u001b[0m\u001b[0;34m.\u001b[0m\u001b[0mshape\u001b[0m \u001b[0;34m,\u001b[0m \u001b[0mx_test\u001b[0m\u001b[0;34m.\u001b[0m\u001b[0mshape\u001b[0m\u001b[0;34m\u001b[0m\u001b[0;34m\u001b[0m\u001b[0m\n\u001b[0m",
            "\u001b[0;31mNameError\u001b[0m: name 'y_preds' is not defined"
          ]
        }
      ]
    },
    {
      "cell_type": "code",
      "source": [
        "y_preds=tf.squeeze(y_preds, axis=2)\n"
      ],
      "metadata": {
        "id": "cXr4O7EDj9iF"
      },
      "execution_count": null,
      "outputs": []
    },
    {
      "cell_type": "code",
      "source": [
        "y_preds[:,0].shape"
      ],
      "metadata": {
        "colab": {
          "base_uri": "https://localhost:8080/"
        },
        "id": "W1mIZyqEkVfa",
        "outputId": "6033d5d7-f339-4142-ebff-44b7e9c68225"
      },
      "execution_count": null,
      "outputs": [
        {
          "output_type": "execute_result",
          "data": {
            "text/plain": [
              "TensorShape([550])"
            ]
          },
          "metadata": {},
          "execution_count": 95
        }
      ]
    },
    {
      "cell_type": "code",
      "source": [
        "print(f'MAE {tf.keras.metrics.mean_absolute_error(y_preds[:,0] ,y_test[:,0]).numpy()}')\n",
        "print(f'MSE {tf.keras.metrics.mean_squared_error(y_preds[:,0] ,y_test[:,0]).numpy()}')\n",
        "print(f'RMSE {tf.sqrt(tf.keras.metrics.mean_squared_error(y_preds[:,0] ,y_test[:,0])).numpy()}')\n",
        "\n"
      ],
      "metadata": {
        "colab": {
          "base_uri": "https://localhost:8080/"
        },
        "id": "GQ8bjcpEjjlE",
        "outputId": "ab3770fc-4078-487b-cffd-d73f044d294c"
      },
      "execution_count": null,
      "outputs": [
        {
          "output_type": "stream",
          "name": "stdout",
          "text": [
            "MAE 1702.3863473314018\n",
            "MSE 8936523.130477538\n",
            "RMSE 2989.4018014441517\n"
          ]
        }
      ]
    },
    {
      "cell_type": "code",
      "source": [
        "y_test.shape"
      ],
      "metadata": {
        "colab": {
          "base_uri": "https://localhost:8080/"
        },
        "id": "kja53FubjdkT",
        "outputId": "113c8018-8aa8-4a80-be48-42b8423a7460"
      },
      "execution_count": null,
      "outputs": [
        {
          "output_type": "execute_result",
          "data": {
            "text/plain": [
              "(551,)"
            ]
          },
          "metadata": {},
          "execution_count": 33
        }
      ]
    },
    {
      "cell_type": "code",
      "source": [
        "x_train.shape"
      ],
      "metadata": {
        "id": "VU73tGLb6s0T",
        "colab": {
          "base_uri": "https://localhost:8080/"
        },
        "outputId": "0af0cea9-96b9-4dcb-96f0-79ca6a12882e"
      },
      "execution_count": null,
      "outputs": [
        {
          "output_type": "execute_result",
          "data": {
            "text/plain": [
              "(2229, 7)"
            ]
          },
          "metadata": {},
          "execution_count": 39
        }
      ]
    },
    {
      "cell_type": "code",
      "source": [
        "model=tf.keras.Sequential()\n",
        "model.add(tf.keras.layers.Input(shape=(None,7)))\n",
        "model.add(tf.keras.layers.Conv1D(64,3, activation='relu'))\n",
        "model.add(tf.keras.layers.Dense(1))"
      ],
      "metadata": {
        "id": "Z-Yd-E3g72Yz"
      },
      "execution_count": null,
      "outputs": []
    },
    {
      "cell_type": "code",
      "source": [
        "model.summary()"
      ],
      "metadata": {
        "colab": {
          "base_uri": "https://localhost:8080/"
        },
        "id": "Vki2GWdZKygJ",
        "outputId": "89561dfc-a610-40c2-a419-50fd49024f96"
      },
      "execution_count": null,
      "outputs": [
        {
          "output_type": "stream",
          "name": "stdout",
          "text": [
            "Model: \"sequential_4\"\n",
            "_________________________________________________________________\n",
            " Layer (type)                Output Shape              Param #   \n",
            "=================================================================\n",
            " conv1d_3 (Conv1D)           (None, None, 64)          1408      \n",
            "                                                                 \n",
            " dense_6 (Dense)             (None, None, 1)           65        \n",
            "                                                                 \n",
            "=================================================================\n",
            "Total params: 1,473\n",
            "Trainable params: 1,473\n",
            "Non-trainable params: 0\n",
            "_________________________________________________________________\n"
          ]
        }
      ]
    },
    {
      "cell_type": "code",
      "source": [
        "model.compile(optimizer='rmsprop', metrics=['accuracy'], loss='mae')"
      ],
      "metadata": {
        "id": "EHVeVu8zK04o"
      },
      "execution_count": null,
      "outputs": []
    },
    {
      "cell_type": "code",
      "source": [
        "#batch_size, timesteps,input_dim"
      ],
      "metadata": {
        "id": "5i4-qKatLEEf"
      },
      "execution_count": null,
      "outputs": []
    },
    {
      "cell_type": "code",
      "source": [
        "model.fit(x_train, y_train, validation_data=(x_test,y_test),epochs=100, batch_size=32)"
      ],
      "metadata": {
        "colab": {
          "base_uri": "https://localhost:8080/",
          "height": 331
        },
        "id": "GSuU-hj5K7MV",
        "outputId": "4bfcb90e-c63f-4ff7-affd-1dc9872a6554"
      },
      "execution_count": null,
      "outputs": [
        {
          "output_type": "error",
          "ename": "RuntimeError",
          "evalue": "ignored",
          "traceback": [
            "\u001b[0;31m---------------------------------------------------------------------------\u001b[0m",
            "\u001b[0;31mRuntimeError\u001b[0m                              Traceback (most recent call last)",
            "\u001b[0;32m<ipython-input-64-5cbe435f6b1a>\u001b[0m in \u001b[0;36m<cell line: 1>\u001b[0;34m()\u001b[0m\n\u001b[0;32m----> 1\u001b[0;31m \u001b[0mmodel\u001b[0m\u001b[0;34m.\u001b[0m\u001b[0mfit\u001b[0m\u001b[0;34m(\u001b[0m\u001b[0mx_train\u001b[0m\u001b[0;34m,\u001b[0m \u001b[0my_train\u001b[0m\u001b[0;34m,\u001b[0m \u001b[0mvalidation_data\u001b[0m\u001b[0;34m=\u001b[0m\u001b[0;34m(\u001b[0m\u001b[0mx_test\u001b[0m\u001b[0;34m,\u001b[0m\u001b[0my_test\u001b[0m\u001b[0;34m)\u001b[0m\u001b[0;34m,\u001b[0m\u001b[0mepochs\u001b[0m\u001b[0;34m=\u001b[0m\u001b[0;36m100\u001b[0m\u001b[0;34m,\u001b[0m \u001b[0mbatch_size\u001b[0m\u001b[0;34m=\u001b[0m\u001b[0;36m32\u001b[0m\u001b[0;34m)\u001b[0m\u001b[0;34m\u001b[0m\u001b[0;34m\u001b[0m\u001b[0m\n\u001b[0m",
            "\u001b[0;32m/usr/local/lib/python3.10/dist-packages/keras/utils/traceback_utils.py\u001b[0m in \u001b[0;36merror_handler\u001b[0;34m(*args, **kwargs)\u001b[0m\n\u001b[1;32m     68\u001b[0m             \u001b[0;31m# To get the full stack trace, call:\u001b[0m\u001b[0;34m\u001b[0m\u001b[0;34m\u001b[0m\u001b[0m\n\u001b[1;32m     69\u001b[0m             \u001b[0;31m# `tf.debugging.disable_traceback_filtering()`\u001b[0m\u001b[0;34m\u001b[0m\u001b[0;34m\u001b[0m\u001b[0m\n\u001b[0;32m---> 70\u001b[0;31m             \u001b[0;32mraise\u001b[0m \u001b[0me\u001b[0m\u001b[0;34m.\u001b[0m\u001b[0mwith_traceback\u001b[0m\u001b[0;34m(\u001b[0m\u001b[0mfiltered_tb\u001b[0m\u001b[0;34m)\u001b[0m \u001b[0;32mfrom\u001b[0m \u001b[0;32mNone\u001b[0m\u001b[0;34m\u001b[0m\u001b[0;34m\u001b[0m\u001b[0m\n\u001b[0m\u001b[1;32m     71\u001b[0m         \u001b[0;32mfinally\u001b[0m\u001b[0;34m:\u001b[0m\u001b[0;34m\u001b[0m\u001b[0;34m\u001b[0m\u001b[0m\n\u001b[1;32m     72\u001b[0m             \u001b[0;32mdel\u001b[0m \u001b[0mfiltered_tb\u001b[0m\u001b[0;34m\u001b[0m\u001b[0;34m\u001b[0m\u001b[0m\n",
            "\u001b[0;32m/usr/local/lib/python3.10/dist-packages/keras/engine/training.py\u001b[0m in \u001b[0;36m_assert_compile_was_called\u001b[0;34m(self)\u001b[0m\n\u001b[1;32m   3683\u001b[0m         \u001b[0;31m# (i.e. whether the model is built and its inputs/outputs are set).\u001b[0m\u001b[0;34m\u001b[0m\u001b[0;34m\u001b[0m\u001b[0m\n\u001b[1;32m   3684\u001b[0m         \u001b[0;32mif\u001b[0m \u001b[0;32mnot\u001b[0m \u001b[0mself\u001b[0m\u001b[0;34m.\u001b[0m\u001b[0m_is_compiled\u001b[0m\u001b[0;34m:\u001b[0m\u001b[0;34m\u001b[0m\u001b[0;34m\u001b[0m\u001b[0m\n\u001b[0;32m-> 3685\u001b[0;31m             raise RuntimeError(\n\u001b[0m\u001b[1;32m   3686\u001b[0m                 \u001b[0;34m\"You must compile your model before \"\u001b[0m\u001b[0;34m\u001b[0m\u001b[0;34m\u001b[0m\u001b[0m\n\u001b[1;32m   3687\u001b[0m                 \u001b[0;34m\"training/testing. \"\u001b[0m\u001b[0;34m\u001b[0m\u001b[0;34m\u001b[0m\u001b[0m\n",
            "\u001b[0;31mRuntimeError\u001b[0m: You must compile your model before training/testing. Use `model.compile(optimizer, loss)`."
          ]
        }
      ]
    },
    {
      "cell_type": "code",
      "source": [
        "x_train.shape"
      ],
      "metadata": {
        "colab": {
          "base_uri": "https://localhost:8080/"
        },
        "id": "W4ChYm8lCfpH",
        "outputId": "b763a7a6-9d10-4a27-cf02-ac6ece5099c3"
      },
      "execution_count": null,
      "outputs": [
        {
          "output_type": "execute_result",
          "data": {
            "text/plain": [
              "(2229, 7)"
            ]
          },
          "metadata": {},
          "execution_count": 67
        }
      ]
    },
    {
      "cell_type": "markdown",
      "source": [],
      "metadata": {
        "id": "DzUe9KDh6sSc"
      }
    },
    {
      "cell_type": "code",
      "source": [
        "#RNN LSTM\n",
        "import tensorflow as tf\n",
        "#input format  batch, timesteps, feature\n",
        "\n",
        "inputs=tf.keras.layers.Input(shape=(7,))\n",
        "x=tf.keras.layers.Lambda(lambda x: tf.expand_dims(x, axis=1))(inputs)\n",
        "x=tf.keras.layers.LSTM(128, activation='relu',return_sequences=True)(x)\n",
        "x=tf.keras.layers.LSTM(128, activation='relu')(x)\n",
        "#x=tf.keras.layers.Dense(32, activation='relu')(x)\n",
        "output=tf.keras.layers.Dense(1)(x)\n",
        "\n",
        "model_5=tf.keras.Model(inputs=inputs, outputs=output)\n"
      ],
      "metadata": {
        "id": "PDfA1foOjUwM"
      },
      "execution_count": null,
      "outputs": []
    },
    {
      "cell_type": "code",
      "source": [
        "model_5.summary()"
      ],
      "metadata": {
        "colab": {
          "base_uri": "https://localhost:8080/"
        },
        "id": "yV3OoB0vCYIW",
        "outputId": "e3d78d3b-c036-4fcc-b261-037ff0b5e772"
      },
      "execution_count": null,
      "outputs": [
        {
          "output_type": "stream",
          "name": "stdout",
          "text": [
            "Model: \"model_2\"\n",
            "_________________________________________________________________\n",
            " Layer (type)                Output Shape              Param #   \n",
            "=================================================================\n",
            " input_5 (InputLayer)        [(None, 7)]               0         \n",
            "                                                                 \n",
            " lambda_4 (Lambda)           (None, 1, 7)              0         \n",
            "                                                                 \n",
            " lstm_4 (LSTM)               (None, 1, 128)            69632     \n",
            "                                                                 \n",
            " lstm_5 (LSTM)               (None, 128)               131584    \n",
            "                                                                 \n",
            " dense_9 (Dense)             (None, 1)                 129       \n",
            "                                                                 \n",
            "=================================================================\n",
            "Total params: 201,345\n",
            "Trainable params: 201,345\n",
            "Non-trainable params: 0\n",
            "_________________________________________________________________\n"
          ]
        }
      ]
    },
    {
      "cell_type": "code",
      "source": [
        "model_5.compile(loss='mae', optimizer='adam', metrics=['mse', 'mae'])\n",
        "model_5.fit(x_train, y_train, validation_data=(x_test,y_test),epochs=100, batch_size=32)"
      ],
      "metadata": {
        "colab": {
          "base_uri": "https://localhost:8080/",
          "height": 385
        },
        "id": "SkBKpwhUjZhz",
        "outputId": "02154c4c-b0dd-4034-be12-0077ed23db8a"
      },
      "execution_count": null,
      "outputs": [
        {
          "output_type": "stream",
          "name": "stdout",
          "text": [
            "Epoch 1/100\n",
            "69/70 [============================>.] - ETA: 0s - loss: 1400.2599 - mse: 8101749.0000 - mae: 1400.2599"
          ]
        },
        {
          "output_type": "error",
          "ename": "KeyboardInterrupt",
          "evalue": "ignored",
          "traceback": [
            "\u001b[0;31m---------------------------------------------------------------------------\u001b[0m",
            "\u001b[0;31mKeyboardInterrupt\u001b[0m                         Traceback (most recent call last)",
            "\u001b[0;32m<ipython-input-73-781605e6ecba>\u001b[0m in \u001b[0;36m<cell line: 2>\u001b[0;34m()\u001b[0m\n\u001b[1;32m      1\u001b[0m \u001b[0mmodel_5\u001b[0m\u001b[0;34m.\u001b[0m\u001b[0mcompile\u001b[0m\u001b[0;34m(\u001b[0m\u001b[0mloss\u001b[0m\u001b[0;34m=\u001b[0m\u001b[0;34m'mae'\u001b[0m\u001b[0;34m,\u001b[0m \u001b[0moptimizer\u001b[0m\u001b[0;34m=\u001b[0m\u001b[0;34m'adam'\u001b[0m\u001b[0;34m,\u001b[0m \u001b[0mmetrics\u001b[0m\u001b[0;34m=\u001b[0m\u001b[0;34m[\u001b[0m\u001b[0;34m'mse'\u001b[0m\u001b[0;34m,\u001b[0m \u001b[0;34m'mae'\u001b[0m\u001b[0;34m]\u001b[0m\u001b[0;34m)\u001b[0m\u001b[0;34m\u001b[0m\u001b[0;34m\u001b[0m\u001b[0m\n\u001b[0;32m----> 2\u001b[0;31m \u001b[0mmodel_5\u001b[0m\u001b[0;34m.\u001b[0m\u001b[0mfit\u001b[0m\u001b[0;34m(\u001b[0m\u001b[0mx_train\u001b[0m\u001b[0;34m,\u001b[0m \u001b[0my_train\u001b[0m\u001b[0;34m,\u001b[0m \u001b[0mvalidation_data\u001b[0m\u001b[0;34m=\u001b[0m\u001b[0;34m(\u001b[0m\u001b[0mx_test\u001b[0m\u001b[0;34m,\u001b[0m\u001b[0my_test\u001b[0m\u001b[0;34m)\u001b[0m\u001b[0;34m,\u001b[0m\u001b[0mepochs\u001b[0m\u001b[0;34m=\u001b[0m\u001b[0;36m100\u001b[0m\u001b[0;34m,\u001b[0m \u001b[0mbatch_size\u001b[0m\u001b[0;34m=\u001b[0m\u001b[0;36m32\u001b[0m\u001b[0;34m)\u001b[0m\u001b[0;34m\u001b[0m\u001b[0;34m\u001b[0m\u001b[0m\n\u001b[0m",
            "\u001b[0;32m/usr/local/lib/python3.10/dist-packages/keras/utils/traceback_utils.py\u001b[0m in \u001b[0;36merror_handler\u001b[0;34m(*args, **kwargs)\u001b[0m\n\u001b[1;32m     63\u001b[0m         \u001b[0mfiltered_tb\u001b[0m \u001b[0;34m=\u001b[0m \u001b[0;32mNone\u001b[0m\u001b[0;34m\u001b[0m\u001b[0;34m\u001b[0m\u001b[0m\n\u001b[1;32m     64\u001b[0m         \u001b[0;32mtry\u001b[0m\u001b[0;34m:\u001b[0m\u001b[0;34m\u001b[0m\u001b[0;34m\u001b[0m\u001b[0m\n\u001b[0;32m---> 65\u001b[0;31m             \u001b[0;32mreturn\u001b[0m \u001b[0mfn\u001b[0m\u001b[0;34m(\u001b[0m\u001b[0;34m*\u001b[0m\u001b[0margs\u001b[0m\u001b[0;34m,\u001b[0m \u001b[0;34m**\u001b[0m\u001b[0mkwargs\u001b[0m\u001b[0;34m)\u001b[0m\u001b[0;34m\u001b[0m\u001b[0;34m\u001b[0m\u001b[0m\n\u001b[0m\u001b[1;32m     66\u001b[0m         \u001b[0;32mexcept\u001b[0m \u001b[0mException\u001b[0m \u001b[0;32mas\u001b[0m \u001b[0me\u001b[0m\u001b[0;34m:\u001b[0m\u001b[0;34m\u001b[0m\u001b[0;34m\u001b[0m\u001b[0m\n\u001b[1;32m     67\u001b[0m             \u001b[0mfiltered_tb\u001b[0m \u001b[0;34m=\u001b[0m \u001b[0m_process_traceback_frames\u001b[0m\u001b[0;34m(\u001b[0m\u001b[0me\u001b[0m\u001b[0;34m.\u001b[0m\u001b[0m__traceback__\u001b[0m\u001b[0;34m)\u001b[0m\u001b[0;34m\u001b[0m\u001b[0;34m\u001b[0m\u001b[0m\n",
            "\u001b[0;32m/usr/local/lib/python3.10/dist-packages/keras/engine/training.py\u001b[0m in \u001b[0;36mfit\u001b[0;34m(self, x, y, batch_size, epochs, verbose, callbacks, validation_split, validation_data, shuffle, class_weight, sample_weight, initial_epoch, steps_per_epoch, validation_steps, validation_batch_size, validation_freq, max_queue_size, workers, use_multiprocessing)\u001b[0m\n\u001b[1;32m   1713\u001b[0m                     \u001b[0;31m# Create data_handler for evaluation and cache it.\u001b[0m\u001b[0;34m\u001b[0m\u001b[0;34m\u001b[0m\u001b[0m\n\u001b[1;32m   1714\u001b[0m                     \u001b[0;32mif\u001b[0m \u001b[0mgetattr\u001b[0m\u001b[0;34m(\u001b[0m\u001b[0mself\u001b[0m\u001b[0;34m,\u001b[0m \u001b[0;34m\"_eval_data_handler\"\u001b[0m\u001b[0;34m,\u001b[0m \u001b[0;32mNone\u001b[0m\u001b[0;34m)\u001b[0m \u001b[0;32mis\u001b[0m \u001b[0;32mNone\u001b[0m\u001b[0;34m:\u001b[0m\u001b[0;34m\u001b[0m\u001b[0;34m\u001b[0m\u001b[0m\n\u001b[0;32m-> 1715\u001b[0;31m                         self._eval_data_handler = data_adapter.get_data_handler(\n\u001b[0m\u001b[1;32m   1716\u001b[0m                             \u001b[0mx\u001b[0m\u001b[0;34m=\u001b[0m\u001b[0mval_x\u001b[0m\u001b[0;34m,\u001b[0m\u001b[0;34m\u001b[0m\u001b[0;34m\u001b[0m\u001b[0m\n\u001b[1;32m   1717\u001b[0m                             \u001b[0my\u001b[0m\u001b[0;34m=\u001b[0m\u001b[0mval_y\u001b[0m\u001b[0;34m,\u001b[0m\u001b[0;34m\u001b[0m\u001b[0;34m\u001b[0m\u001b[0m\n",
            "\u001b[0;32m/usr/local/lib/python3.10/dist-packages/keras/engine/data_adapter.py\u001b[0m in \u001b[0;36mget_data_handler\u001b[0;34m(*args, **kwargs)\u001b[0m\n\u001b[1;32m   1581\u001b[0m     \u001b[0;32mif\u001b[0m \u001b[0mgetattr\u001b[0m\u001b[0;34m(\u001b[0m\u001b[0mkwargs\u001b[0m\u001b[0;34m[\u001b[0m\u001b[0;34m\"model\"\u001b[0m\u001b[0;34m]\u001b[0m\u001b[0;34m,\u001b[0m \u001b[0;34m\"_cluster_coordinator\"\u001b[0m\u001b[0;34m,\u001b[0m \u001b[0;32mNone\u001b[0m\u001b[0;34m)\u001b[0m\u001b[0;34m:\u001b[0m\u001b[0;34m\u001b[0m\u001b[0;34m\u001b[0m\u001b[0m\n\u001b[1;32m   1582\u001b[0m         \u001b[0;32mreturn\u001b[0m \u001b[0m_ClusterCoordinatorDataHandler\u001b[0m\u001b[0;34m(\u001b[0m\u001b[0;34m*\u001b[0m\u001b[0margs\u001b[0m\u001b[0;34m,\u001b[0m \u001b[0;34m**\u001b[0m\u001b[0mkwargs\u001b[0m\u001b[0;34m)\u001b[0m\u001b[0;34m\u001b[0m\u001b[0;34m\u001b[0m\u001b[0m\n\u001b[0;32m-> 1583\u001b[0;31m     \u001b[0;32mreturn\u001b[0m \u001b[0mDataHandler\u001b[0m\u001b[0;34m(\u001b[0m\u001b[0;34m*\u001b[0m\u001b[0margs\u001b[0m\u001b[0;34m,\u001b[0m \u001b[0;34m**\u001b[0m\u001b[0mkwargs\u001b[0m\u001b[0;34m)\u001b[0m\u001b[0;34m\u001b[0m\u001b[0;34m\u001b[0m\u001b[0m\n\u001b[0m\u001b[1;32m   1584\u001b[0m \u001b[0;34m\u001b[0m\u001b[0m\n\u001b[1;32m   1585\u001b[0m \u001b[0;34m\u001b[0m\u001b[0m\n",
            "\u001b[0;32m/usr/local/lib/python3.10/dist-packages/keras/engine/data_adapter.py\u001b[0m in \u001b[0;36m__init__\u001b[0;34m(self, x, y, sample_weight, batch_size, steps_per_epoch, initial_epoch, epochs, shuffle, class_weight, max_queue_size, workers, use_multiprocessing, model, steps_per_execution, distribute)\u001b[0m\n\u001b[1;32m   1258\u001b[0m \u001b[0;34m\u001b[0m\u001b[0m\n\u001b[1;32m   1259\u001b[0m         \u001b[0madapter_cls\u001b[0m \u001b[0;34m=\u001b[0m \u001b[0mselect_data_adapter\u001b[0m\u001b[0;34m(\u001b[0m\u001b[0mx\u001b[0m\u001b[0;34m,\u001b[0m \u001b[0my\u001b[0m\u001b[0;34m)\u001b[0m\u001b[0;34m\u001b[0m\u001b[0;34m\u001b[0m\u001b[0m\n\u001b[0;32m-> 1260\u001b[0;31m         self._adapter = adapter_cls(\n\u001b[0m\u001b[1;32m   1261\u001b[0m             \u001b[0mx\u001b[0m\u001b[0;34m,\u001b[0m\u001b[0;34m\u001b[0m\u001b[0;34m\u001b[0m\u001b[0m\n\u001b[1;32m   1262\u001b[0m             \u001b[0my\u001b[0m\u001b[0;34m,\u001b[0m\u001b[0;34m\u001b[0m\u001b[0;34m\u001b[0m\u001b[0m\n",
            "\u001b[0;32m/usr/local/lib/python3.10/dist-packages/keras/engine/data_adapter.py\u001b[0m in \u001b[0;36m__init__\u001b[0;34m(self, x, y, sample_weights, sample_weight_modes, batch_size, epochs, steps, shuffle, **kwargs)\u001b[0m\n\u001b[1;32m    305\u001b[0m         \u001b[0;31m# simultaneous shuffles can contend on a hardware level and degrade all\u001b[0m\u001b[0;34m\u001b[0m\u001b[0;34m\u001b[0m\u001b[0m\n\u001b[1;32m    306\u001b[0m         \u001b[0;31m# performance.\u001b[0m\u001b[0;34m\u001b[0m\u001b[0;34m\u001b[0m\u001b[0m\n\u001b[0;32m--> 307\u001b[0;31m         \u001b[0mindices_dataset\u001b[0m \u001b[0;34m=\u001b[0m \u001b[0mindices_dataset\u001b[0m\u001b[0;34m.\u001b[0m\u001b[0mmap\u001b[0m\u001b[0;34m(\u001b[0m\u001b[0mpermutation\u001b[0m\u001b[0;34m)\u001b[0m\u001b[0;34m.\u001b[0m\u001b[0mprefetch\u001b[0m\u001b[0;34m(\u001b[0m\u001b[0;36m1\u001b[0m\u001b[0;34m)\u001b[0m\u001b[0;34m\u001b[0m\u001b[0;34m\u001b[0m\u001b[0m\n\u001b[0m\u001b[1;32m    308\u001b[0m \u001b[0;34m\u001b[0m\u001b[0m\n\u001b[1;32m    309\u001b[0m         \u001b[0;32mdef\u001b[0m \u001b[0mslice_batch_indices\u001b[0m\u001b[0;34m(\u001b[0m\u001b[0mindices\u001b[0m\u001b[0;34m)\u001b[0m\u001b[0;34m:\u001b[0m\u001b[0;34m\u001b[0m\u001b[0;34m\u001b[0m\u001b[0m\n",
            "\u001b[0;32m/usr/local/lib/python3.10/dist-packages/tensorflow/python/data/ops/dataset_ops.py\u001b[0m in \u001b[0;36mmap\u001b[0;34m(self, map_func, num_parallel_calls, deterministic, name)\u001b[0m\n\u001b[1;32m   2238\u001b[0m     \u001b[0;31m# pylint: disable=g-import-not-at-top,protected-access\u001b[0m\u001b[0;34m\u001b[0m\u001b[0;34m\u001b[0m\u001b[0m\n\u001b[1;32m   2239\u001b[0m     \u001b[0;32mfrom\u001b[0m \u001b[0mtensorflow\u001b[0m\u001b[0;34m.\u001b[0m\u001b[0mpython\u001b[0m\u001b[0;34m.\u001b[0m\u001b[0mdata\u001b[0m\u001b[0;34m.\u001b[0m\u001b[0mops\u001b[0m \u001b[0;32mimport\u001b[0m \u001b[0mmap_op\u001b[0m\u001b[0;34m\u001b[0m\u001b[0;34m\u001b[0m\u001b[0m\n\u001b[0;32m-> 2240\u001b[0;31m     return map_op._map_v2(\n\u001b[0m\u001b[1;32m   2241\u001b[0m         \u001b[0mself\u001b[0m\u001b[0;34m,\u001b[0m\u001b[0;34m\u001b[0m\u001b[0;34m\u001b[0m\u001b[0m\n\u001b[1;32m   2242\u001b[0m         \u001b[0mmap_func\u001b[0m\u001b[0;34m,\u001b[0m\u001b[0;34m\u001b[0m\u001b[0;34m\u001b[0m\u001b[0m\n",
            "\u001b[0;32m/usr/local/lib/python3.10/dist-packages/tensorflow/python/data/ops/map_op.py\u001b[0m in \u001b[0;36m_map_v2\u001b[0;34m(input_dataset, map_func, num_parallel_calls, deterministic, name)\u001b[0m\n\u001b[1;32m     35\u001b[0m       warnings.warn(\"The `deterministic` argument has no effect unless the \"\n\u001b[1;32m     36\u001b[0m                     \"`num_parallel_calls` argument is specified.\")\n\u001b[0;32m---> 37\u001b[0;31m     return _MapDataset(\n\u001b[0m\u001b[1;32m     38\u001b[0m         input_dataset, map_func, preserve_cardinality=True, name=name)\n\u001b[1;32m     39\u001b[0m   \u001b[0;32melse\u001b[0m\u001b[0;34m:\u001b[0m\u001b[0;34m\u001b[0m\u001b[0;34m\u001b[0m\u001b[0m\n",
            "\u001b[0;32m/usr/local/lib/python3.10/dist-packages/tensorflow/python/data/ops/map_op.py\u001b[0m in \u001b[0;36m__init__\u001b[0;34m(self, input_dataset, map_func, use_inter_op_parallelism, preserve_cardinality, use_legacy_function, name)\u001b[0m\n\u001b[1;32m    105\u001b[0m     \u001b[0mself\u001b[0m\u001b[0;34m.\u001b[0m\u001b[0m_use_inter_op_parallelism\u001b[0m \u001b[0;34m=\u001b[0m \u001b[0muse_inter_op_parallelism\u001b[0m\u001b[0;34m\u001b[0m\u001b[0;34m\u001b[0m\u001b[0m\n\u001b[1;32m    106\u001b[0m     \u001b[0mself\u001b[0m\u001b[0;34m.\u001b[0m\u001b[0m_preserve_cardinality\u001b[0m \u001b[0;34m=\u001b[0m \u001b[0mpreserve_cardinality\u001b[0m\u001b[0;34m\u001b[0m\u001b[0;34m\u001b[0m\u001b[0m\n\u001b[0;32m--> 107\u001b[0;31m     self._map_func = structured_function.StructuredFunctionWrapper(\n\u001b[0m\u001b[1;32m    108\u001b[0m         \u001b[0mmap_func\u001b[0m\u001b[0;34m,\u001b[0m\u001b[0;34m\u001b[0m\u001b[0;34m\u001b[0m\u001b[0m\n\u001b[1;32m    109\u001b[0m         \u001b[0mself\u001b[0m\u001b[0;34m.\u001b[0m\u001b[0m_transformation_name\u001b[0m\u001b[0;34m(\u001b[0m\u001b[0;34m)\u001b[0m\u001b[0;34m,\u001b[0m\u001b[0;34m\u001b[0m\u001b[0;34m\u001b[0m\u001b[0m\n",
            "\u001b[0;32m/usr/local/lib/python3.10/dist-packages/tensorflow/python/data/ops/structured_function.py\u001b[0m in \u001b[0;36m__init__\u001b[0;34m(self, func, transformation_name, dataset, input_classes, input_shapes, input_types, input_structure, add_to_graph, use_legacy_function, defun_kwargs)\u001b[0m\n\u001b[1;32m    259\u001b[0m         \u001b[0mfn_factory\u001b[0m \u001b[0;34m=\u001b[0m \u001b[0mtrace_tf_function\u001b[0m\u001b[0;34m(\u001b[0m\u001b[0mdefun_kwargs\u001b[0m\u001b[0;34m)\u001b[0m\u001b[0;34m\u001b[0m\u001b[0;34m\u001b[0m\u001b[0m\n\u001b[1;32m    260\u001b[0m \u001b[0;34m\u001b[0m\u001b[0m\n\u001b[0;32m--> 261\u001b[0;31m     \u001b[0mself\u001b[0m\u001b[0;34m.\u001b[0m\u001b[0m_function\u001b[0m \u001b[0;34m=\u001b[0m \u001b[0mfn_factory\u001b[0m\u001b[0;34m(\u001b[0m\u001b[0;34m)\u001b[0m\u001b[0;34m\u001b[0m\u001b[0;34m\u001b[0m\u001b[0m\n\u001b[0m\u001b[1;32m    262\u001b[0m     \u001b[0;31m# There is no graph to add in eager mode.\u001b[0m\u001b[0;34m\u001b[0m\u001b[0;34m\u001b[0m\u001b[0m\n\u001b[1;32m    263\u001b[0m     \u001b[0madd_to_graph\u001b[0m \u001b[0;34m&=\u001b[0m \u001b[0;32mnot\u001b[0m \u001b[0mcontext\u001b[0m\u001b[0;34m.\u001b[0m\u001b[0mexecuting_eagerly\u001b[0m\u001b[0;34m(\u001b[0m\u001b[0;34m)\u001b[0m\u001b[0;34m\u001b[0m\u001b[0;34m\u001b[0m\u001b[0m\n",
            "\u001b[0;32m/usr/local/lib/python3.10/dist-packages/tensorflow/python/eager/polymorphic_function/tracing_compiler.py\u001b[0m in \u001b[0;36mget_concrete_function\u001b[0;34m(self, *args, **kwargs)\u001b[0m\n\u001b[1;32m    230\u001b[0m         \u001b[0;31m`\u001b[0m\u001b[0mtf\u001b[0m\u001b[0;34m.\u001b[0m\u001b[0mTensor\u001b[0m\u001b[0;31m`\u001b[0m \u001b[0;32mor\u001b[0m\u001b[0;31m \u001b[0m\u001b[0;31m`\u001b[0m\u001b[0mtf\u001b[0m\u001b[0;34m.\u001b[0m\u001b[0mTensorSpec\u001b[0m\u001b[0;31m`\u001b[0m\u001b[0;34m.\u001b[0m\u001b[0;34m\u001b[0m\u001b[0;34m\u001b[0m\u001b[0m\n\u001b[1;32m    231\u001b[0m     \"\"\"\n\u001b[0;32m--> 232\u001b[0;31m     concrete_function = self._get_concrete_function_garbage_collected(\n\u001b[0m\u001b[1;32m    233\u001b[0m         *args, **kwargs)\n\u001b[1;32m    234\u001b[0m     \u001b[0mconcrete_function\u001b[0m\u001b[0;34m.\u001b[0m\u001b[0m_garbage_collector\u001b[0m\u001b[0;34m.\u001b[0m\u001b[0mrelease\u001b[0m\u001b[0;34m(\u001b[0m\u001b[0;34m)\u001b[0m  \u001b[0;31m# pylint: disable=protected-access\u001b[0m\u001b[0;34m\u001b[0m\u001b[0;34m\u001b[0m\u001b[0m\n",
            "\u001b[0;32m/usr/local/lib/python3.10/dist-packages/tensorflow/python/eager/polymorphic_function/tracing_compiler.py\u001b[0m in \u001b[0;36m_get_concrete_function_garbage_collected\u001b[0;34m(self, *args, **kwargs)\u001b[0m\n\u001b[1;32m    200\u001b[0m \u001b[0;34m\u001b[0m\u001b[0m\n\u001b[1;32m    201\u001b[0m     \u001b[0;32mwith\u001b[0m \u001b[0mself\u001b[0m\u001b[0;34m.\u001b[0m\u001b[0m_lock\u001b[0m\u001b[0;34m:\u001b[0m\u001b[0;34m\u001b[0m\u001b[0;34m\u001b[0m\u001b[0m\n\u001b[0;32m--> 202\u001b[0;31m       \u001b[0mconcrete_function\u001b[0m\u001b[0;34m,\u001b[0m \u001b[0m_\u001b[0m \u001b[0;34m=\u001b[0m \u001b[0mself\u001b[0m\u001b[0;34m.\u001b[0m\u001b[0m_maybe_define_concrete_function\u001b[0m\u001b[0;34m(\u001b[0m\u001b[0margs\u001b[0m\u001b[0;34m,\u001b[0m \u001b[0mkwargs\u001b[0m\u001b[0;34m)\u001b[0m\u001b[0;34m\u001b[0m\u001b[0;34m\u001b[0m\u001b[0m\n\u001b[0m\u001b[1;32m    203\u001b[0m       \u001b[0mseen_names\u001b[0m \u001b[0;34m=\u001b[0m \u001b[0mset\u001b[0m\u001b[0;34m(\u001b[0m\u001b[0;34m)\u001b[0m\u001b[0;34m\u001b[0m\u001b[0;34m\u001b[0m\u001b[0m\n\u001b[1;32m    204\u001b[0m       \u001b[0mconcrete_function\u001b[0m\u001b[0;34m.\u001b[0m\u001b[0m_arg_keywords\u001b[0m \u001b[0;34m=\u001b[0m \u001b[0;34m[\u001b[0m\u001b[0;34m]\u001b[0m  \u001b[0;31m# pylint: disable=protected-access\u001b[0m\u001b[0;34m\u001b[0m\u001b[0;34m\u001b[0m\u001b[0m\n",
            "\u001b[0;32m/usr/local/lib/python3.10/dist-packages/tensorflow/python/eager/polymorphic_function/tracing_compiler.py\u001b[0m in \u001b[0;36m_maybe_define_concrete_function\u001b[0;34m(self, args, kwargs)\u001b[0m\n\u001b[1;32m    164\u001b[0m       \u001b[0mkwargs\u001b[0m \u001b[0;34m=\u001b[0m \u001b[0;34m{\u001b[0m\u001b[0;34m}\u001b[0m\u001b[0;34m\u001b[0m\u001b[0;34m\u001b[0m\u001b[0m\n\u001b[1;32m    165\u001b[0m \u001b[0;34m\u001b[0m\u001b[0m\n\u001b[0;32m--> 166\u001b[0;31m     \u001b[0;32mreturn\u001b[0m \u001b[0mself\u001b[0m\u001b[0;34m.\u001b[0m\u001b[0m_maybe_define_function\u001b[0m\u001b[0;34m(\u001b[0m\u001b[0margs\u001b[0m\u001b[0;34m,\u001b[0m \u001b[0mkwargs\u001b[0m\u001b[0;34m)\u001b[0m\u001b[0;34m\u001b[0m\u001b[0;34m\u001b[0m\u001b[0m\n\u001b[0m\u001b[1;32m    167\u001b[0m \u001b[0;34m\u001b[0m\u001b[0m\n\u001b[1;32m    168\u001b[0m   \u001b[0;32mdef\u001b[0m \u001b[0m_get_concrete_function_internal_garbage_collected\u001b[0m\u001b[0;34m(\u001b[0m\u001b[0mself\u001b[0m\u001b[0;34m,\u001b[0m \u001b[0;34m*\u001b[0m\u001b[0margs\u001b[0m\u001b[0;34m,\u001b[0m \u001b[0;34m**\u001b[0m\u001b[0mkwargs\u001b[0m\u001b[0;34m)\u001b[0m\u001b[0;34m:\u001b[0m\u001b[0;34m\u001b[0m\u001b[0;34m\u001b[0m\u001b[0m\n",
            "\u001b[0;32m/usr/local/lib/python3.10/dist-packages/tensorflow/python/eager/polymorphic_function/tracing_compiler.py\u001b[0m in \u001b[0;36m_maybe_define_function\u001b[0;34m(self, args, kwargs)\u001b[0m\n\u001b[1;32m    394\u001b[0m           \u001b[0mkwargs\u001b[0m \u001b[0;34m=\u001b[0m \u001b[0mplaceholder_bound_args\u001b[0m\u001b[0;34m.\u001b[0m\u001b[0mkwargs\u001b[0m\u001b[0;34m\u001b[0m\u001b[0;34m\u001b[0m\u001b[0m\n\u001b[1;32m    395\u001b[0m \u001b[0;34m\u001b[0m\u001b[0m\n\u001b[0;32m--> 396\u001b[0;31m           concrete_function = self._create_concrete_function(\n\u001b[0m\u001b[1;32m    397\u001b[0m               args, kwargs, func_graph)\n\u001b[1;32m    398\u001b[0m \u001b[0;34m\u001b[0m\u001b[0m\n",
            "\u001b[0;32m/usr/local/lib/python3.10/dist-packages/tensorflow/python/eager/polymorphic_function/tracing_compiler.py\u001b[0m in \u001b[0;36m_create_concrete_function\u001b[0;34m(self, args, kwargs, func_graph)\u001b[0m\n\u001b[1;32m    297\u001b[0m       \u001b[0marg_names\u001b[0m \u001b[0;34m=\u001b[0m \u001b[0mbase_arg_names\u001b[0m\u001b[0;34m\u001b[0m\u001b[0;34m\u001b[0m\u001b[0m\n\u001b[1;32m    298\u001b[0m \u001b[0;34m\u001b[0m\u001b[0m\n\u001b[0;32m--> 299\u001b[0;31m     concrete_function = monomorphic_function.ConcreteFunction(\n\u001b[0m\u001b[1;32m    300\u001b[0m         func_graph_module.func_graph_from_py_func(\n\u001b[1;32m    301\u001b[0m             \u001b[0mself\u001b[0m\u001b[0;34m.\u001b[0m\u001b[0m_name\u001b[0m\u001b[0;34m,\u001b[0m\u001b[0;34m\u001b[0m\u001b[0;34m\u001b[0m\u001b[0m\n",
            "\u001b[0;32m/usr/local/lib/python3.10/dist-packages/tensorflow/python/eager/polymorphic_function/monomorphic_function.py\u001b[0m in \u001b[0;36m__init__\u001b[0;34m(self, func_graph, attrs, shared_func_graph, spec)\u001b[0m\n\u001b[1;32m   1360\u001b[0m     \u001b[0;31m# These each get a reference to the FuncGraph deleter since they use the\u001b[0m\u001b[0;34m\u001b[0m\u001b[0;34m\u001b[0m\u001b[0m\n\u001b[1;32m   1361\u001b[0m     \u001b[0;31m# FuncGraph directly.\u001b[0m\u001b[0;34m\u001b[0m\u001b[0;34m\u001b[0m\u001b[0m\n\u001b[0;32m-> 1362\u001b[0;31m     self._delayed_rewrite_functions = _DelayedRewriteGradientFunctions(\n\u001b[0m\u001b[1;32m   1363\u001b[0m         func_graph, self._attrs, self._garbage_collector)\n\u001b[1;32m   1364\u001b[0m     \u001b[0mself\u001b[0m\u001b[0;34m.\u001b[0m\u001b[0m_first_order_tape_functions\u001b[0m \u001b[0;34m=\u001b[0m \u001b[0;34m{\u001b[0m\u001b[0;34m}\u001b[0m\u001b[0;34m\u001b[0m\u001b[0;34m\u001b[0m\u001b[0m\n",
            "\u001b[0;32m/usr/local/lib/python3.10/dist-packages/tensorflow/python/eager/polymorphic_function/monomorphic_function.py\u001b[0m in \u001b[0;36m__init__\u001b[0;34m(self, func_graph, attrs, func_graph_deleter)\u001b[0m\n\u001b[1;32m    464\u001b[0m     \u001b[0mself\u001b[0m\u001b[0;34m.\u001b[0m\u001b[0m_cached_function_pairs\u001b[0m \u001b[0;34m=\u001b[0m \u001b[0;34m{\u001b[0m\u001b[0;34m}\u001b[0m\u001b[0;34m\u001b[0m\u001b[0;34m\u001b[0m\u001b[0m\n\u001b[1;32m    465\u001b[0m     \u001b[0mself\u001b[0m\u001b[0;34m.\u001b[0m\u001b[0m_func_graph\u001b[0m \u001b[0;34m=\u001b[0m \u001b[0mfunc_graph\u001b[0m\u001b[0;34m\u001b[0m\u001b[0;34m\u001b[0m\u001b[0m\n\u001b[0;32m--> 466\u001b[0;31m     self._inference_function = _EagerDefinedFunction(\n\u001b[0m\u001b[1;32m    467\u001b[0m         \u001b[0m_inference_name\u001b[0m\u001b[0;34m(\u001b[0m\u001b[0mself\u001b[0m\u001b[0;34m.\u001b[0m\u001b[0m_func_graph\u001b[0m\u001b[0;34m.\u001b[0m\u001b[0mname\u001b[0m\u001b[0;34m)\u001b[0m\u001b[0;34m,\u001b[0m \u001b[0mself\u001b[0m\u001b[0;34m.\u001b[0m\u001b[0m_func_graph\u001b[0m\u001b[0;34m,\u001b[0m\u001b[0;34m\u001b[0m\u001b[0;34m\u001b[0m\u001b[0m\n\u001b[1;32m    468\u001b[0m         self._func_graph.inputs, self._func_graph.outputs, attrs)\n",
            "\u001b[0;32m/usr/local/lib/python3.10/dist-packages/tensorflow/python/eager/polymorphic_function/monomorphic_function.py\u001b[0m in \u001b[0;36m__init__\u001b[0;34m(self, name, graph, inputs, outputs, attrs)\u001b[0m\n\u001b[1;32m    250\u001b[0m     \u001b[0;31m# save memory usage of concrete functions never called through Python. We\u001b[0m\u001b[0;34m\u001b[0m\u001b[0;34m\u001b[0m\u001b[0m\n\u001b[1;32m    251\u001b[0m     \u001b[0;31m# cache them on the first call of .definition and .signature.\u001b[0m\u001b[0;34m\u001b[0m\u001b[0;34m\u001b[0m\u001b[0m\n\u001b[0;32m--> 252\u001b[0;31m     \u001b[0msignature\u001b[0m \u001b[0;34m=\u001b[0m \u001b[0mself\u001b[0m\u001b[0;34m.\u001b[0m\u001b[0m_get_definition\u001b[0m\u001b[0;34m(\u001b[0m\u001b[0;34m)\u001b[0m\u001b[0;34m.\u001b[0m\u001b[0msignature\u001b[0m\u001b[0;34m\u001b[0m\u001b[0;34m\u001b[0m\u001b[0m\n\u001b[0m\u001b[1;32m    253\u001b[0m \u001b[0;34m\u001b[0m\u001b[0m\n\u001b[1;32m    254\u001b[0m     \u001b[0mself\u001b[0m\u001b[0;34m.\u001b[0m\u001b[0m_name\u001b[0m \u001b[0;34m=\u001b[0m \u001b[0mcompat\u001b[0m\u001b[0;34m.\u001b[0m\u001b[0mas_bytes\u001b[0m\u001b[0;34m(\u001b[0m\u001b[0msignature\u001b[0m\u001b[0;34m.\u001b[0m\u001b[0mname\u001b[0m\u001b[0;34m)\u001b[0m\u001b[0;34m\u001b[0m\u001b[0;34m\u001b[0m\u001b[0m\n",
            "\u001b[0;32m/usr/local/lib/python3.10/dist-packages/tensorflow/python/eager/polymorphic_function/monomorphic_function.py\u001b[0m in \u001b[0;36m_get_definition\u001b[0;34m(self)\u001b[0m\n\u001b[1;32m    293\u001b[0m     \u001b[0;32mwith\u001b[0m \u001b[0mc_api_util\u001b[0m\u001b[0;34m.\u001b[0m\u001b[0mtf_buffer\u001b[0m\u001b[0;34m(\u001b[0m\u001b[0;34m)\u001b[0m \u001b[0;32mas\u001b[0m \u001b[0mbuffer_\u001b[0m\u001b[0;34m:\u001b[0m\u001b[0;34m\u001b[0m\u001b[0;34m\u001b[0m\u001b[0m\n\u001b[1;32m    294\u001b[0m       \u001b[0;32mwith\u001b[0m \u001b[0mself\u001b[0m\u001b[0;34m.\u001b[0m\u001b[0m_c_func\u001b[0m\u001b[0;34m.\u001b[0m\u001b[0mget\u001b[0m\u001b[0;34m(\u001b[0m\u001b[0;34m)\u001b[0m \u001b[0;32mas\u001b[0m \u001b[0mfunc\u001b[0m\u001b[0;34m:\u001b[0m\u001b[0;34m\u001b[0m\u001b[0;34m\u001b[0m\u001b[0m\n\u001b[0;32m--> 295\u001b[0;31m         \u001b[0mpywrap_tf_session\u001b[0m\u001b[0;34m.\u001b[0m\u001b[0mTF_FunctionToFunctionDef\u001b[0m\u001b[0;34m(\u001b[0m\u001b[0mfunc\u001b[0m\u001b[0;34m,\u001b[0m \u001b[0mbuffer_\u001b[0m\u001b[0;34m)\u001b[0m\u001b[0;34m\u001b[0m\u001b[0;34m\u001b[0m\u001b[0m\n\u001b[0m\u001b[1;32m    296\u001b[0m       \u001b[0mproto_data\u001b[0m \u001b[0;34m=\u001b[0m \u001b[0mpywrap_tf_session\u001b[0m\u001b[0;34m.\u001b[0m\u001b[0mTF_GetBuffer\u001b[0m\u001b[0;34m(\u001b[0m\u001b[0mbuffer_\u001b[0m\u001b[0;34m)\u001b[0m\u001b[0;34m\u001b[0m\u001b[0;34m\u001b[0m\u001b[0m\n\u001b[1;32m    297\u001b[0m     \u001b[0mfunction_def\u001b[0m \u001b[0;34m=\u001b[0m \u001b[0mfunction_pb2\u001b[0m\u001b[0;34m.\u001b[0m\u001b[0mFunctionDef\u001b[0m\u001b[0;34m(\u001b[0m\u001b[0;34m)\u001b[0m\u001b[0;34m\u001b[0m\u001b[0;34m\u001b[0m\u001b[0m\n",
            "\u001b[0;31mKeyboardInterrupt\u001b[0m: "
          ]
        }
      ]
    },
    {
      "cell_type": "code",
      "source": [
        "y_preds=model_5.predict(x_test)"
      ],
      "metadata": {
        "colab": {
          "base_uri": "https://localhost:8080/"
        },
        "id": "q9oA72zXxsKF",
        "outputId": "b4900dec-cd4b-4798-f30f-201a5b85d414"
      },
      "execution_count": null,
      "outputs": [
        {
          "output_type": "stream",
          "name": "stdout",
          "text": [
            "18/18 [==============================] - 1s 5ms/step\n"
          ]
        }
      ]
    },
    {
      "cell_type": "code",
      "source": [
        "y_preds.shape"
      ],
      "metadata": {
        "colab": {
          "base_uri": "https://localhost:8080/"
        },
        "id": "8MPK3bZlzApF",
        "outputId": "c6b20f41-310b-41a9-deaa-2097cb216373"
      },
      "execution_count": null,
      "outputs": [
        {
          "output_type": "execute_result",
          "data": {
            "text/plain": [
              "(550, 1)"
            ]
          },
          "metadata": {},
          "execution_count": 101
        }
      ]
    },
    {
      "cell_type": "code",
      "source": [
        "model_5.evaluate(x_test, y_test)"
      ],
      "metadata": {
        "colab": {
          "base_uri": "https://localhost:8080/"
        },
        "id": "7kmHaJRazPnk",
        "outputId": "61592119-56fe-4e9a-8f27-59cfbcce451a"
      },
      "execution_count": null,
      "outputs": [
        {
          "output_type": "stream",
          "name": "stdout",
          "text": [
            "18/18 [==============================] - 0s 5ms/step - loss: 669.1216 - mse: 1380014.2500 - mae: 669.1216\n"
          ]
        },
        {
          "output_type": "execute_result",
          "data": {
            "text/plain": [
              "[669.1216430664062, 1380014.25, 669.1216430664062]"
            ]
          },
          "metadata": {},
          "execution_count": 102
        }
      ]
    },
    {
      "cell_type": "code",
      "source": [
        "y_preds=tf.squeeze(y_preds, axis=1)"
      ],
      "metadata": {
        "id": "J8ibsMeQyzTU"
      },
      "execution_count": null,
      "outputs": []
    },
    {
      "cell_type": "code",
      "source": [
        "plt.plot(y_preds)\n",
        "plt.plot(y_test)\n",
        "plt.show()"
      ],
      "metadata": {
        "colab": {
          "base_uri": "https://localhost:8080/",
          "height": 430
        },
        "id": "owq8Tsbqy0uf",
        "outputId": "e5457e1b-6ab5-432e-bdc8-14949088c290"
      },
      "execution_count": null,
      "outputs": [
        {
          "output_type": "display_data",
          "data": {
            "text/plain": [
              "<Figure size 640x480 with 1 Axes>"
            ],
            "image/png": "[encoded data removed]"
          },
          "metadata": {}
        }
      ]
    },
    {
      "cell_type": "code",
      "source": [
        "#multivariate\n",
        "block_reward_1=50\n",
        "block_reward_2=25\n",
        "block_reward_3=12.5\n",
        "block_reward_4=6.25\n",
        "\n",
        "block_reward_2_datetime=np.datetime64(\"2012-11-28\")\n",
        "block_reward_3_datetime=np.datetime64(\"2016-07-09\")\n",
        "block_reward_4_datetime=np.datetime64(\"2020-05-18\")"
      ],
      "metadata": {
        "id": "40KhSq-Gy-6U"
      },
      "execution_count": null,
      "outputs": []
    },
    {
      "cell_type": "code",
      "source": [
        "block_reward_2_days=(block_reward_3_datetime-bitcoin_prices.index[0]).days\n",
        "block_reward_3_days=(block_reward_4_datetime-bitcoin_prices.index[0]).days\n"
      ],
      "metadata": {
        "id": "2hnxvwWO71Xd"
      },
      "execution_count": null,
      "outputs": []
    },
    {
      "cell_type": "code",
      "source": [
        "block_reward_2_days"
      ],
      "metadata": {
        "colab": {
          "base_uri": "https://localhost:8080/"
        },
        "id": "qV4mAQtS74xK",
        "outputId": "a1258b57-4123-40f7-c5a8-797b22aefe8b"
      },
      "execution_count": null,
      "outputs": [
        {
          "output_type": "execute_result",
          "data": {
            "text/plain": [
              "1012"
            ]
          },
          "metadata": {},
          "execution_count": 107
        }
      ]
    },
    {
      "cell_type": "code",
      "source": [
        "#add in block_reward_column\n",
        "bitcoin_prices_block=bitcoin_prices.copy()\n",
        "bitcoin_prices_block[\"block_reward\"]=None"
      ],
      "metadata": {
        "id": "g90DTYKm8pfc"
      },
      "execution_count": null,
      "outputs": []
    },
    {
      "cell_type": "code",
      "source": [
        "bitcoin_prices_block.head()"
      ],
      "metadata": {
        "colab": {
          "base_uri": "https://localhost:8080/",
          "height": 238
        },
        "id": "pgiADOVL9R8i",
        "outputId": "a35edd37-065b-4686-de3c-58fadae80479"
      },
      "execution_count": null,
      "outputs": [
        {
          "output_type": "execute_result",
          "data": {
            "text/plain": [
              "                Price block_reward\n",
              "Date                              \n",
              "2013-10-01  123.65499         None\n",
              "2013-10-02  125.45500         None\n",
              "2013-10-03  108.58483         None\n",
              "2013-10-04  118.67466         None\n",
              "2013-10-05  121.33866         None"
            ],
            "text/html": [
              "\n",
              "  <div id=\"df-a1c03b89-32ab-4cf8-9a62-e1527c830ef8\" class=\"colab-df-container\">\n",
              "    <div>\n",
              "<style scoped>\n",
              "    .dataframe tbody tr th:only-of-type {\n",
              "        vertical-align: middle;\n",
              "    }\n",
              "\n",
              "    .dataframe tbody tr th {\n",
              "        vertical-align: top;\n",
              "    }\n",
              "\n",
              "    .dataframe thead th {\n",
              "        text-align: right;\n",
              "    }\n",
              "</style>\n",
              "<table border=\"1\" class=\"dataframe\">\n",
              "  <thead>\n",
              "    <tr style=\"text-align: right;\">\n",
              "      <th></th>\n",
              "      <th>Price</th>\n",
              "      <th>block_reward</th>\n",
              "    </tr>\n",
              "    <tr>\n",
              "      <th>Date</th>\n",
              "      <th></th>\n",
              "      <th></th>\n",
              "    </tr>\n",
              "  </thead>\n",
              "  <tbody>\n",
              "    <tr>\n",
              "      <th>2013-10-01</th>\n",
              "      <td>123.65499</td>\n",
              "      <td>None</td>\n",
              "    </tr>\n",
              "    <tr>\n",
              "      <th>2013-10-02</th>\n",
              "      <td>125.45500</td>\n",
              "      <td>None</td>\n",
              "    </tr>\n",
              "    <tr>\n",
              "      <th>2013-10-03</th>\n",
              "      <td>108.58483</td>\n",
              "      <td>None</td>\n",
              "    </tr>\n",
              "    <tr>\n",
              "      <th>2013-10-04</th>\n",
              "      <td>118.67466</td>\n",
              "      <td>None</td>\n",
              "    </tr>\n",
              "    <tr>\n",
              "      <th>2013-10-05</th>\n",
              "      <td>121.33866</td>\n",
              "      <td>None</td>\n",
              "    </tr>\n",
              "  </tbody>\n",
              "</table>\n",
              "</div>\n",
              "    <div class=\"colab-df-buttons\">\n",
              "\n",
              "  <div class=\"colab-df-container\">\n",
              "    <button class=\"colab-df-convert\" onclick=\"convertToInteractive('df-a1c03b89-32ab-4cf8-9a62-e1527c830ef8')\"\n",
              "            title=\"Convert this dataframe to an interactive table.\"\n",
              "            style=\"display:none;\">\n",
              "\n",
              "  <svg xmlns=\"http://www.w3.org/2000/svg\" height=\"24px\" viewBox=\"0 -960 960 960\">\n",
              "    <path d=\"M120-120v-720h720v720H120Zm60-500h600v-160H180v160Zm220 220h160v-160H400v160Zm0 220h160v-160H400v160ZM180-400h160v-160H180v160Zm440 0h160v-160H620v160ZM180-180h160v-160H180v160Zm440 0h160v-160H620v160Z\"/>\n",
              "  </svg>\n",
              "    </button>\n",
              "\n",
              "  <style>\n",
              "    .colab-df-container {\n",
              "      display:flex;\n",
              "      gap: 12px;\n",
              "    }\n",
              "\n",
              "    .colab-df-convert {\n",
              "      background-color: #E8F0FE;\n",
              "      border: none;\n",
              "      border-radius: 50%;\n",
              "      cursor: pointer;\n",
              "      display: none;\n",
              "      fill: #1967D2;\n",
              "      height: 32px;\n",
              "      padding: 0 0 0 0;\n",
              "      width: 32px;\n",
              "    }\n",
              "\n",
              "    .colab-df-convert:hover {\n",
              "      background-color: #E2EBFA;\n",
              "      box-shadow: 0px 1px 2px rgba(60, 64, 67, 0.3), 0px 1px 3px 1px rgba(60, 64, 67, 0.15);\n",
              "      fill: #174EA6;\n",
              "    }\n",
              "\n",
              "    .colab-df-buttons div {\n",
              "      margin-bottom: 4px;\n",
              "    }\n",
              "\n",
              "    [theme=dark] .colab-df-convert {\n",
              "      background-color: #3B4455;\n",
              "      fill: #D2E3FC;\n",
              "    }\n",
              "\n",
              "    [theme=dark] .colab-df-convert:hover {\n",
              "      background-color: #434B5C;\n",
              "      box-shadow: 0px 1px 3px 1px rgba(0, 0, 0, 0.15);\n",
              "      filter: drop-shadow(0px 1px 2px rgba(0, 0, 0, 0.3));\n",
              "      fill: #FFFFFF;\n",
              "    }\n",
              "  </style>\n",
              "\n",
              "    <script>\n",
              "      const buttonEl =\n",
              "        document.querySelector('#df-a1c03b89-32ab-4cf8-9a62-e1527c830ef8 button.colab-df-convert');\n",
              "      buttonEl.style.display =\n",
              "        google.colab.kernel.accessAllowed ? 'block' : 'none';\n",
              "\n",
              "      async function convertToInteractive(key) {\n",
              "        const element = document.querySelector('#df-a1c03b89-32ab-4cf8-9a62-e1527c830ef8');\n",
              "        const dataTable =\n",
              "          await google.colab.kernel.invokeFunction('convertToInteractive',\n",
              "                                                    [key], {});\n",
              "        if (!dataTable) return;\n",
              "\n",
              "        const docLinkHtml = 'Like what you see? Visit the ' +\n",
              "          '<a target=\"_blank\" href=https://colab.research.google.com/notebooks/data_table.ipynb>data table notebook</a>'\n",
              "          + ' to learn more about interactive tables.';\n",
              "        element.innerHTML = '';\n",
              "        dataTable['output_type'] = 'display_data';\n",
              "        await google.colab.output.renderOutput(dataTable, element);\n",
              "        const docLink = document.createElement('div');\n",
              "        docLink.innerHTML = docLinkHtml;\n",
              "        element.appendChild(docLink);\n",
              "      }\n",
              "    </script>\n",
              "  </div>\n",
              "\n",
              "\n",
              "<div id=\"df-83f27e6b-c4a8-4def-81b5-996b060b5fc4\">\n",
              "  <button class=\"colab-df-quickchart\" onclick=\"quickchart('df-83f27e6b-c4a8-4def-81b5-996b060b5fc4')\"\n",
              "            title=\"Suggest charts.\"\n",
              "            style=\"display:none;\">\n",
              "\n",
              "<svg xmlns=\"http://www.w3.org/2000/svg\" height=\"24px\"viewBox=\"0 0 24 24\"\n",
              "     width=\"24px\">\n",
              "    <g>\n",
              "        <path d=\"M19 3H5c-1.1 0-2 .9-2 2v14c0 1.1.9 2 2 2h14c1.1 0 2-.9 2-2V5c0-1.1-.9-2-2-2zM9 17H7v-7h2v7zm4 0h-2V7h2v10zm4 0h-2v-4h2v4z\"/>\n",
              "    </g>\n",
              "</svg>\n",
              "  </button>\n",
              "\n",
              "<style>\n",
              "  .colab-df-quickchart {\n",
              "      --bg-color: #E8F0FE;\n",
              "      --fill-color: #1967D2;\n",
              "      --hover-bg-color: #E2EBFA;\n",
              "      --hover-fill-color: #174EA6;\n",
              "      --disabled-fill-color: #AAA;\n",
              "      --disabled-bg-color: #DDD;\n",
              "  }\n",
              "\n",
              "  [theme=dark] .colab-df-quickchart {\n",
              "      --bg-color: #3B4455;\n",
              "      --fill-color: #D2E3FC;\n",
              "      --hover-bg-color: #434B5C;\n",
              "      --hover-fill-color: #FFFFFF;\n",
              "      --disabled-bg-color: #3B4455;\n",
              "      --disabled-fill-color: #666;\n",
              "  }\n",
              "\n",
              "  .colab-df-quickchart {\n",
              "    background-color: var(--bg-color);\n",
              "    border: none;\n",
              "    border-radius: 50%;\n",
              "    cursor: pointer;\n",
              "    display: none;\n",
              "    fill: var(--fill-color);\n",
              "    height: 32px;\n",
              "    padding: 0;\n",
              "    width: 32px;\n",
              "  }\n",
              "\n",
              "  .colab-df-quickchart:hover {\n",
              "    background-color: var(--hover-bg-color);\n",
              "    box-shadow: 0 1px 2px rgba(60, 64, 67, 0.3), 0 1px 3px 1px rgba(60, 64, 67, 0.15);\n",
              "    fill: var(--button-hover-fill-color);\n",
              "  }\n",
              "\n",
              "  .colab-df-quickchart-complete:disabled,\n",
              "  .colab-df-quickchart-complete:disabled:hover {\n",
              "    background-color: var(--disabled-bg-color);\n",
              "    fill: var(--disabled-fill-color);\n",
              "    box-shadow: none;\n",
              "  }\n",
              "\n",
              "  .colab-df-spinner {\n",
              "    border: 2px solid var(--fill-color);\n",
              "    border-color: transparent;\n",
              "    border-bottom-color: var(--fill-color);\n",
              "    animation:\n",
              "      spin 1s steps(1) infinite;\n",
              "  }\n",
              "\n",
              "  @keyframes spin {\n",
              "    0% {\n",
              "      border-color: transparent;\n",
              "      border-bottom-color: var(--fill-color);\n",
              "      border-left-color: var(--fill-color);\n",
              "    }\n",
              "    20% {\n",
              "      border-color: transparent;\n",
              "      border-left-color: var(--fill-color);\n",
              "      border-top-color: var(--fill-color);\n",
              "    }\n",
              "    30% {\n",
              "      border-color: transparent;\n",
              "      border-left-color: var(--fill-color);\n",
              "      border-top-color: var(--fill-color);\n",
              "      border-right-color: var(--fill-color);\n",
              "    }\n",
              "    40% {\n",
              "      border-color: transparent;\n",
              "      border-right-color: var(--fill-color);\n",
              "      border-top-color: var(--fill-color);\n",
              "    }\n",
              "    60% {\n",
              "      border-color: transparent;\n",
              "      border-right-color: var(--fill-color);\n",
              "    }\n",
              "    80% {\n",
              "      border-color: transparent;\n",
              "      border-right-color: var(--fill-color);\n",
              "      border-bottom-color: var(--fill-color);\n",
              "    }\n",
              "    90% {\n",
              "      border-color: transparent;\n",
              "      border-bottom-color: var(--fill-color);\n",
              "    }\n",
              "  }\n",
              "</style>\n",
              "\n",
              "  <script>\n",
              "    async function quickchart(key) {\n",
              "      const quickchartButtonEl =\n",
              "        document.querySelector('#' + key + ' button');\n",
              "      quickchartButtonEl.disabled = true;  // To prevent multiple clicks.\n",
              "      quickchartButtonEl.classList.add('colab-df-spinner');\n",
              "      try {\n",
              "        const charts = await google.colab.kernel.invokeFunction(\n",
              "            'suggestCharts', [key], {});\n",
              "      } catch (error) {\n",
              "        console.error('Error during call to suggestCharts:', error);\n",
              "      }\n",
              "      quickchartButtonEl.classList.remove('colab-df-spinner');\n",
              "      quickchartButtonEl.classList.add('colab-df-quickchart-complete');\n",
              "    }\n",
              "    (() => {\n",
              "      let quickchartButtonEl =\n",
              "        document.querySelector('#df-83f27e6b-c4a8-4def-81b5-996b060b5fc4 button');\n",
              "      quickchartButtonEl.style.display =\n",
              "        google.colab.kernel.accessAllowed ? 'block' : 'none';\n",
              "    })();\n",
              "  </script>\n",
              "</div>\n",
              "    </div>\n",
              "  </div>\n"
            ]
          },
          "metadata": {},
          "execution_count": 109
        }
      ]
    },
    {
      "cell_type": "code",
      "source": [
        "bitcoin_prices_block.iloc[:block_reward_2_days, -1]=block_reward_2\n",
        "bitcoin_prices_block.iloc[block_reward_2_days:block_reward_3_days, -1]=block_reward_3\n",
        "bitcoin_prices_block.iloc[block_reward_3_days:,-1]=block_reward_4"
      ],
      "metadata": {
        "id": "msEhRAt89T91"
      },
      "execution_count": null,
      "outputs": []
    },
    {
      "cell_type": "code",
      "source": [
        "bitcoin_prices_block.tail()"
      ],
      "metadata": {
        "colab": {
          "base_uri": "https://localhost:8080/",
          "height": 238
        },
        "id": "VjwNEIvk9fWl",
        "outputId": "375ee21e-36ae-4b61-f27b-9796bc1c3a8b"
      },
      "execution_count": null,
      "outputs": [
        {
          "output_type": "execute_result",
          "data": {
            "text/plain": [
              "                   Price block_reward\n",
              "Date                                 \n",
              "2021-05-14  49764.132082         6.25\n",
              "2021-05-15  50032.693137         6.25\n",
              "2021-05-16  47885.625255         6.25\n",
              "2021-05-17  45604.615754         6.25\n",
              "2021-05-18  43144.471291         6.25"
            ],
            "text/html": [
              "\n",
              "  <div id=\"df-37898d26-f3cc-4c19-b47a-8b7c715bcdb7\" class=\"colab-df-container\">\n",
              "    <div>\n",
              "<style scoped>\n",
              "    .dataframe tbody tr th:only-of-type {\n",
              "        vertical-align: middle;\n",
              "    }\n",
              "\n",
              "    .dataframe tbody tr th {\n",
              "        vertical-align: top;\n",
              "    }\n",
              "\n",
              "    .dataframe thead th {\n",
              "        text-align: right;\n",
              "    }\n",
              "</style>\n",
              "<table border=\"1\" class=\"dataframe\">\n",
              "  <thead>\n",
              "    <tr style=\"text-align: right;\">\n",
              "      <th></th>\n",
              "      <th>Price</th>\n",
              "      <th>block_reward</th>\n",
              "    </tr>\n",
              "    <tr>\n",
              "      <th>Date</th>\n",
              "      <th></th>\n",
              "      <th></th>\n",
              "    </tr>\n",
              "  </thead>\n",
              "  <tbody>\n",
              "    <tr>\n",
              "      <th>2021-05-14</th>\n",
              "      <td>49764.132082</td>\n",
              "      <td>6.25</td>\n",
              "    </tr>\n",
              "    <tr>\n",
              "      <th>2021-05-15</th>\n",
              "      <td>50032.693137</td>\n",
              "      <td>6.25</td>\n",
              "    </tr>\n",
              "    <tr>\n",
              "      <th>2021-05-16</th>\n",
              "      <td>47885.625255</td>\n",
              "      <td>6.25</td>\n",
              "    </tr>\n",
              "    <tr>\n",
              "      <th>2021-05-17</th>\n",
              "      <td>45604.615754</td>\n",
              "      <td>6.25</td>\n",
              "    </tr>\n",
              "    <tr>\n",
              "      <th>2021-05-18</th>\n",
              "      <td>43144.471291</td>\n",
              "      <td>6.25</td>\n",
              "    </tr>\n",
              "  </tbody>\n",
              "</table>\n",
              "</div>\n",
              "    <div class=\"colab-df-buttons\">\n",
              "\n",
              "  <div class=\"colab-df-container\">\n",
              "    <button class=\"colab-df-convert\" onclick=\"convertToInteractive('df-37898d26-f3cc-4c19-b47a-8b7c715bcdb7')\"\n",
              "            title=\"Convert this dataframe to an interactive table.\"\n",
              "            style=\"display:none;\">\n",
              "\n",
              "  <svg xmlns=\"http://www.w3.org/2000/svg\" height=\"24px\" viewBox=\"0 -960 960 960\">\n",
              "    <path d=\"M120-120v-720h720v720H120Zm60-500h600v-160H180v160Zm220 220h160v-160H400v160Zm0 220h160v-160H400v160ZM180-400h160v-160H180v160Zm440 0h160v-160H620v160ZM180-180h160v-160H180v160Zm440 0h160v-160H620v160Z\"/>\n",
              "  </svg>\n",
              "    </button>\n",
              "\n",
              "  <style>\n",
              "    .colab-df-container {\n",
              "      display:flex;\n",
              "      gap: 12px;\n",
              "    }\n",
              "\n",
              "    .colab-df-convert {\n",
              "      background-color: #E8F0FE;\n",
              "      border: none;\n",
              "      border-radius: 50%;\n",
              "      cursor: pointer;\n",
              "      display: none;\n",
              "      fill: #1967D2;\n",
              "      height: 32px;\n",
              "      padding: 0 0 0 0;\n",
              "      width: 32px;\n",
              "    }\n",
              "\n",
              "    .colab-df-convert:hover {\n",
              "      background-color: #E2EBFA;\n",
              "      box-shadow: 0px 1px 2px rgba(60, 64, 67, 0.3), 0px 1px 3px 1px rgba(60, 64, 67, 0.15);\n",
              "      fill: #174EA6;\n",
              "    }\n",
              "\n",
              "    .colab-df-buttons div {\n",
              "      margin-bottom: 4px;\n",
              "    }\n",
              "\n",
              "    [theme=dark] .colab-df-convert {\n",
              "      background-color: #3B4455;\n",
              "      fill: #D2E3FC;\n",
              "    }\n",
              "\n",
              "    [theme=dark] .colab-df-convert:hover {\n",
              "      background-color: #434B5C;\n",
              "      box-shadow: 0px 1px 3px 1px rgba(0, 0, 0, 0.15);\n",
              "      filter: drop-shadow(0px 1px 2px rgba(0, 0, 0, 0.3));\n",
              "      fill: #FFFFFF;\n",
              "    }\n",
              "  </style>\n",
              "\n",
              "    <script>\n",
              "      const buttonEl =\n",
              "        document.querySelector('#df-37898d26-f3cc-4c19-b47a-8b7c715bcdb7 button.colab-df-convert');\n",
              "      buttonEl.style.display =\n",
              "        google.colab.kernel.accessAllowed ? 'block' : 'none';\n",
              "\n",
              "      async function convertToInteractive(key) {\n",
              "        const element = document.querySelector('#df-37898d26-f3cc-4c19-b47a-8b7c715bcdb7');\n",
              "        const dataTable =\n",
              "          await google.colab.kernel.invokeFunction('convertToInteractive',\n",
              "                                                    [key], {});\n",
              "        if (!dataTable) return;\n",
              "\n",
              "        const docLinkHtml = 'Like what you see? Visit the ' +\n",
              "          '<a target=\"_blank\" href=https://colab.research.google.com/notebooks/data_table.ipynb>data table notebook</a>'\n",
              "          + ' to learn more about interactive tables.';\n",
              "        element.innerHTML = '';\n",
              "        dataTable['output_type'] = 'display_data';\n",
              "        await google.colab.output.renderOutput(dataTable, element);\n",
              "        const docLink = document.createElement('div');\n",
              "        docLink.innerHTML = docLinkHtml;\n",
              "        element.appendChild(docLink);\n",
              "      }\n",
              "    </script>\n",
              "  </div>\n",
              "\n",
              "\n",
              "<div id=\"df-3f44abb7-8f50-421d-8a28-f0c4c835ca49\">\n",
              "  <button class=\"colab-df-quickchart\" onclick=\"quickchart('df-3f44abb7-8f50-421d-8a28-f0c4c835ca49')\"\n",
              "            title=\"Suggest charts.\"\n",
              "            style=\"display:none;\">\n",
              "\n",
              "<svg xmlns=\"http://www.w3.org/2000/svg\" height=\"24px\"viewBox=\"0 0 24 24\"\n",
              "     width=\"24px\">\n",
              "    <g>\n",
              "        <path d=\"M19 3H5c-1.1 0-2 .9-2 2v14c0 1.1.9 2 2 2h14c1.1 0 2-.9 2-2V5c0-1.1-.9-2-2-2zM9 17H7v-7h2v7zm4 0h-2V7h2v10zm4 0h-2v-4h2v4z\"/>\n",
              "    </g>\n",
              "</svg>\n",
              "  </button>\n",
              "\n",
              "<style>\n",
              "  .colab-df-quickchart {\n",
              "      --bg-color: #E8F0FE;\n",
              "      --fill-color: #1967D2;\n",
              "      --hover-bg-color: #E2EBFA;\n",
              "      --hover-fill-color: #174EA6;\n",
              "      --disabled-fill-color: #AAA;\n",
              "      --disabled-bg-color: #DDD;\n",
              "  }\n",
              "\n",
              "  [theme=dark] .colab-df-quickchart {\n",
              "      --bg-color: #3B4455;\n",
              "      --fill-color: #D2E3FC;\n",
              "      --hover-bg-color: #434B5C;\n",
              "      --hover-fill-color: #FFFFFF;\n",
              "      --disabled-bg-color: #3B4455;\n",
              "      --disabled-fill-color: #666;\n",
              "  }\n",
              "\n",
              "  .colab-df-quickchart {\n",
              "    background-color: var(--bg-color);\n",
              "    border: none;\n",
              "    border-radius: 50%;\n",
              "    cursor: pointer;\n",
              "    display: none;\n",
              "    fill: var(--fill-color);\n",
              "    height: 32px;\n",
              "    padding: 0;\n",
              "    width: 32px;\n",
              "  }\n",
              "\n",
              "  .colab-df-quickchart:hover {\n",
              "    background-color: var(--hover-bg-color);\n",
              "    box-shadow: 0 1px 2px rgba(60, 64, 67, 0.3), 0 1px 3px 1px rgba(60, 64, 67, 0.15);\n",
              "    fill: var(--button-hover-fill-color);\n",
              "  }\n",
              "\n",
              "  .colab-df-quickchart-complete:disabled,\n",
              "  .colab-df-quickchart-complete:disabled:hover {\n",
              "    background-color: var(--disabled-bg-color);\n",
              "    fill: var(--disabled-fill-color);\n",
              "    box-shadow: none;\n",
              "  }\n",
              "\n",
              "  .colab-df-spinner {\n",
              "    border: 2px solid var(--fill-color);\n",
              "    border-color: transparent;\n",
              "    border-bottom-color: var(--fill-color);\n",
              "    animation:\n",
              "      spin 1s steps(1) infinite;\n",
              "  }\n",
              "\n",
              "  @keyframes spin {\n",
              "    0% {\n",
              "      border-color: transparent;\n",
              "      border-bottom-color: var(--fill-color);\n",
              "      border-left-color: var(--fill-color);\n",
              "    }\n",
              "    20% {\n",
              "      border-color: transparent;\n",
              "      border-left-color: var(--fill-color);\n",
              "      border-top-color: var(--fill-color);\n",
              "    }\n",
              "    30% {\n",
              "      border-color: transparent;\n",
              "      border-left-color: var(--fill-color);\n",
              "      border-top-color: var(--fill-color);\n",
              "      border-right-color: var(--fill-color);\n",
              "    }\n",
              "    40% {\n",
              "      border-color: transparent;\n",
              "      border-right-color: var(--fill-color);\n",
              "      border-top-color: var(--fill-color);\n",
              "    }\n",
              "    60% {\n",
              "      border-color: transparent;\n",
              "      border-right-color: var(--fill-color);\n",
              "    }\n",
              "    80% {\n",
              "      border-color: transparent;\n",
              "      border-right-color: var(--fill-color);\n",
              "      border-bottom-color: var(--fill-color);\n",
              "    }\n",
              "    90% {\n",
              "      border-color: transparent;\n",
              "      border-bottom-color: var(--fill-color);\n",
              "    }\n",
              "  }\n",
              "</style>\n",
              "\n",
              "  <script>\n",
              "    async function quickchart(key) {\n",
              "      const quickchartButtonEl =\n",
              "        document.querySelector('#' + key + ' button');\n",
              "      quickchartButtonEl.disabled = true;  // To prevent multiple clicks.\n",
              "      quickchartButtonEl.classList.add('colab-df-spinner');\n",
              "      try {\n",
              "        const charts = await google.colab.kernel.invokeFunction(\n",
              "            'suggestCharts', [key], {});\n",
              "      } catch (error) {\n",
              "        console.error('Error during call to suggestCharts:', error);\n",
              "      }\n",
              "      quickchartButtonEl.classList.remove('colab-df-spinner');\n",
              "      quickchartButtonEl.classList.add('colab-df-quickchart-complete');\n",
              "    }\n",
              "    (() => {\n",
              "      let quickchartButtonEl =\n",
              "        document.querySelector('#df-3f44abb7-8f50-421d-8a28-f0c4c835ca49 button');\n",
              "      quickchartButtonEl.style.display =\n",
              "        google.colab.kernel.accessAllowed ? 'block' : 'none';\n",
              "    })();\n",
              "  </script>\n",
              "</div>\n",
              "    </div>\n",
              "  </div>\n"
            ]
          },
          "metadata": {},
          "execution_count": 111
        }
      ]
    },
    {
      "cell_type": "code",
      "source": [
        "bitcoin_prices_windows=bitcoin_prices_block.copy()\n",
        "for i in range(7):\n",
        "  bitcoin_prices_windows[f\" Price + {i+1}\"]= bitcoin_prices_windows['Price'].shift(periods=i+1)\n",
        "bitcoin_prices_windows.head()"
      ],
      "metadata": {
        "colab": {
          "base_uri": "https://localhost:8080/",
          "height": 238
        },
        "id": "FPwIfvbL978i",
        "outputId": "2894e997-d853-4de8-9478-2a57ac11302d"
      },
      "execution_count": null,
      "outputs": [
        {
          "output_type": "execute_result",
          "data": {
            "text/plain": [
              "                Price block_reward   Price + 1   Price + 2   Price + 3  \\\n",
              "Date                                                                     \n",
              "2013-10-01  123.65499           25         NaN         NaN         NaN   \n",
              "2013-10-02  125.45500           25   123.65499         NaN         NaN   \n",
              "2013-10-03  108.58483           25   125.45500   123.65499         NaN   \n",
              "2013-10-04  118.67466           25   108.58483   125.45500   123.65499   \n",
              "2013-10-05  121.33866           25   118.67466   108.58483   125.45500   \n",
              "\n",
              "             Price + 4   Price + 5   Price + 6   Price + 7  \n",
              "Date                                                        \n",
              "2013-10-01         NaN         NaN         NaN         NaN  \n",
              "2013-10-02         NaN         NaN         NaN         NaN  \n",
              "2013-10-03         NaN         NaN         NaN         NaN  \n",
              "2013-10-04         NaN         NaN         NaN         NaN  \n",
              "2013-10-05   123.65499         NaN         NaN         NaN  "
            ],
            "text/html": [
              "\n",
              "  <div id=\"df-7083e136-455d-4b9b-92ad-cae455ce419d\" class=\"colab-df-container\">\n",
              "    <div>\n",
              "<style scoped>\n",
              "    .dataframe tbody tr th:only-of-type {\n",
              "        vertical-align: middle;\n",
              "    }\n",
              "\n",
              "    .dataframe tbody tr th {\n",
              "        vertical-align: top;\n",
              "    }\n",
              "\n",
              "    .dataframe thead th {\n",
              "        text-align: right;\n",
              "    }\n",
              "</style>\n",
              "<table border=\"1\" class=\"dataframe\">\n",
              "  <thead>\n",
              "    <tr style=\"text-align: right;\">\n",
              "      <th></th>\n",
              "      <th>Price</th>\n",
              "      <th>block_reward</th>\n",
              "      <th>Price + 1</th>\n",
              "      <th>Price + 2</th>\n",
              "      <th>Price + 3</th>\n",
              "      <th>Price + 4</th>\n",
              "      <th>Price + 5</th>\n",
              "      <th>Price + 6</th>\n",
              "      <th>Price + 7</th>\n",
              "    </tr>\n",
              "    <tr>\n",
              "      <th>Date</th>\n",
              "      <th></th>\n",
              "      <th></th>\n",
              "      <th></th>\n",
              "      <th></th>\n",
              "      <th></th>\n",
              "      <th></th>\n",
              "      <th></th>\n",
              "      <th></th>\n",
              "      <th></th>\n",
              "    </tr>\n",
              "  </thead>\n",
              "  <tbody>\n",
              "    <tr>\n",
              "      <th>2013-10-01</th>\n",
              "      <td>123.65499</td>\n",
              "      <td>25</td>\n",
              "      <td>NaN</td>\n",
              "      <td>NaN</td>\n",
              "      <td>NaN</td>\n",
              "      <td>NaN</td>\n",
              "      <td>NaN</td>\n",
              "      <td>NaN</td>\n",
              "      <td>NaN</td>\n",
              "    </tr>\n",
              "    <tr>\n",
              "      <th>2013-10-02</th>\n",
              "      <td>125.45500</td>\n",
              "      <td>25</td>\n",
              "      <td>123.65499</td>\n",
              "      <td>NaN</td>\n",
              "      <td>NaN</td>\n",
              "      <td>NaN</td>\n",
              "      <td>NaN</td>\n",
              "      <td>NaN</td>\n",
              "      <td>NaN</td>\n",
              "    </tr>\n",
              "    <tr>\n",
              "      <th>2013-10-03</th>\n",
              "      <td>108.58483</td>\n",
              "      <td>25</td>\n",
              "      <td>125.45500</td>\n",
              "      <td>123.65499</td>\n",
              "      <td>NaN</td>\n",
              "      <td>NaN</td>\n",
              "      <td>NaN</td>\n",
              "      <td>NaN</td>\n",
              "      <td>NaN</td>\n",
              "    </tr>\n",
              "    <tr>\n",
              "      <th>2013-10-04</th>\n",
              "      <td>118.67466</td>\n",
              "      <td>25</td>\n",
              "      <td>108.58483</td>\n",
              "      <td>125.45500</td>\n",
              "      <td>123.65499</td>\n",
              "      <td>NaN</td>\n",
              "      <td>NaN</td>\n",
              "      <td>NaN</td>\n",
              "      <td>NaN</td>\n",
              "    </tr>\n",
              "    <tr>\n",
              "      <th>2013-10-05</th>\n",
              "      <td>121.33866</td>\n",
              "      <td>25</td>\n",
              "      <td>118.67466</td>\n",
              "      <td>108.58483</td>\n",
              "      <td>125.45500</td>\n",
              "      <td>123.65499</td>\n",
              "      <td>NaN</td>\n",
              "      <td>NaN</td>\n",
              "      <td>NaN</td>\n",
              "    </tr>\n",
              "  </tbody>\n",
              "</table>\n",
              "</div>\n",
              "    <div class=\"colab-df-buttons\">\n",
              "\n",
              "  <div class=\"colab-df-container\">\n",
              "    <button class=\"colab-df-convert\" onclick=\"convertToInteractive('df-7083e136-455d-4b9b-92ad-cae455ce419d')\"\n",
              "            title=\"Convert this dataframe to an interactive table.\"\n",
              "            style=\"display:none;\">\n",
              "\n",
              "  <svg xmlns=\"http://www.w3.org/2000/svg\" height=\"24px\" viewBox=\"0 -960 960 960\">\n",
              "    <path d=\"M120-120v-720h720v720H120Zm60-500h600v-160H180v160Zm220 220h160v-160H400v160Zm0 220h160v-160H400v160ZM180-400h160v-160H180v160Zm440 0h160v-160H620v160ZM180-180h160v-160H180v160Zm440 0h160v-160H620v160Z\"/>\n",
              "  </svg>\n",
              "    </button>\n",
              "\n",
              "  <style>\n",
              "    .colab-df-container {\n",
              "      display:flex;\n",
              "      gap: 12px;\n",
              "    }\n",
              "\n",
              "    .colab-df-convert {\n",
              "      background-color: #E8F0FE;\n",
              "      border: none;\n",
              "      border-radius: 50%;\n",
              "      cursor: pointer;\n",
              "      display: none;\n",
              "      fill: #1967D2;\n",
              "      height: 32px;\n",
              "      padding: 0 0 0 0;\n",
              "      width: 32px;\n",
              "    }\n",
              "\n",
              "    .colab-df-convert:hover {\n",
              "      background-color: #E2EBFA;\n",
              "      box-shadow: 0px 1px 2px rgba(60, 64, 67, 0.3), 0px 1px 3px 1px rgba(60, 64, 67, 0.15);\n",
              "      fill: #174EA6;\n",
              "    }\n",
              "\n",
              "    .colab-df-buttons div {\n",
              "      margin-bottom: 4px;\n",
              "    }\n",
              "\n",
              "    [theme=dark] .colab-df-convert {\n",
              "      background-color: #3B4455;\n",
              "      fill: #D2E3FC;\n",
              "    }\n",
              "\n",
              "    [theme=dark] .colab-df-convert:hover {\n",
              "      background-color: #434B5C;\n",
              "      box-shadow: 0px 1px 3px 1px rgba(0, 0, 0, 0.15);\n",
              "      filter: drop-shadow(0px 1px 2px rgba(0, 0, 0, 0.3));\n",
              "      fill: #FFFFFF;\n",
              "    }\n",
              "  </style>\n",
              "\n",
              "    <script>\n",
              "      const buttonEl =\n",
              "        document.querySelector('#df-7083e136-455d-4b9b-92ad-cae455ce419d button.colab-df-convert');\n",
              "      buttonEl.style.display =\n",
              "        google.colab.kernel.accessAllowed ? 'block' : 'none';\n",
              "\n",
              "      async function convertToInteractive(key) {\n",
              "        const element = document.querySelector('#df-7083e136-455d-4b9b-92ad-cae455ce419d');\n",
              "        const dataTable =\n",
              "          await google.colab.kernel.invokeFunction('convertToInteractive',\n",
              "                                                    [key], {});\n",
              "        if (!dataTable) return;\n",
              "\n",
              "        const docLinkHtml = 'Like what you see? Visit the ' +\n",
              "          '<a target=\"_blank\" href=https://colab.research.google.com/notebooks/data_table.ipynb>data table notebook</a>'\n",
              "          + ' to learn more about interactive tables.';\n",
              "        element.innerHTML = '';\n",
              "        dataTable['output_type'] = 'display_data';\n",
              "        await google.colab.output.renderOutput(dataTable, element);\n",
              "        const docLink = document.createElement('div');\n",
              "        docLink.innerHTML = docLinkHtml;\n",
              "        element.appendChild(docLink);\n",
              "      }\n",
              "    </script>\n",
              "  </div>\n",
              "\n",
              "\n",
              "<div id=\"df-bb14d260-0810-45f7-95ee-c52a69821e44\">\n",
              "  <button class=\"colab-df-quickchart\" onclick=\"quickchart('df-bb14d260-0810-45f7-95ee-c52a69821e44')\"\n",
              "            title=\"Suggest charts.\"\n",
              "            style=\"display:none;\">\n",
              "\n",
              "<svg xmlns=\"http://www.w3.org/2000/svg\" height=\"24px\"viewBox=\"0 0 24 24\"\n",
              "     width=\"24px\">\n",
              "    <g>\n",
              "        <path d=\"M19 3H5c-1.1 0-2 .9-2 2v14c0 1.1.9 2 2 2h14c1.1 0 2-.9 2-2V5c0-1.1-.9-2-2-2zM9 17H7v-7h2v7zm4 0h-2V7h2v10zm4 0h-2v-4h2v4z\"/>\n",
              "    </g>\n",
              "</svg>\n",
              "  </button>\n",
              "\n",
              "<style>\n",
              "  .colab-df-quickchart {\n",
              "      --bg-color: #E8F0FE;\n",
              "      --fill-color: #1967D2;\n",
              "      --hover-bg-color: #E2EBFA;\n",
              "      --hover-fill-color: #174EA6;\n",
              "      --disabled-fill-color: #AAA;\n",
              "      --disabled-bg-color: #DDD;\n",
              "  }\n",
              "\n",
              "  [theme=dark] .colab-df-quickchart {\n",
              "      --bg-color: #3B4455;\n",
              "      --fill-color: #D2E3FC;\n",
              "      --hover-bg-color: #434B5C;\n",
              "      --hover-fill-color: #FFFFFF;\n",
              "      --disabled-bg-color: #3B4455;\n",
              "      --disabled-fill-color: #666;\n",
              "  }\n",
              "\n",
              "  .colab-df-quickchart {\n",
              "    background-color: var(--bg-color);\n",
              "    border: none;\n",
              "    border-radius: 50%;\n",
              "    cursor: pointer;\n",
              "    display: none;\n",
              "    fill: var(--fill-color);\n",
              "    height: 32px;\n",
              "    padding: 0;\n",
              "    width: 32px;\n",
              "  }\n",
              "\n",
              "  .colab-df-quickchart:hover {\n",
              "    background-color: var(--hover-bg-color);\n",
              "    box-shadow: 0 1px 2px rgba(60, 64, 67, 0.3), 0 1px 3px 1px rgba(60, 64, 67, 0.15);\n",
              "    fill: var(--button-hover-fill-color);\n",
              "  }\n",
              "\n",
              "  .colab-df-quickchart-complete:disabled,\n",
              "  .colab-df-quickchart-complete:disabled:hover {\n",
              "    background-color: var(--disabled-bg-color);\n",
              "    fill: var(--disabled-fill-color);\n",
              "    box-shadow: none;\n",
              "  }\n",
              "\n",
              "  .colab-df-spinner {\n",
              "    border: 2px solid var(--fill-color);\n",
              "    border-color: transparent;\n",
              "    border-bottom-color: var(--fill-color);\n",
              "    animation:\n",
              "      spin 1s steps(1) infinite;\n",
              "  }\n",
              "\n",
              "  @keyframes spin {\n",
              "    0% {\n",
              "      border-color: transparent;\n",
              "      border-bottom-color: var(--fill-color);\n",
              "      border-left-color: var(--fill-color);\n",
              "    }\n",
              "    20% {\n",
              "      border-color: transparent;\n",
              "      border-left-color: var(--fill-color);\n",
              "      border-top-color: var(--fill-color);\n",
              "    }\n",
              "    30% {\n",
              "      border-color: transparent;\n",
              "      border-left-color: var(--fill-color);\n",
              "      border-top-color: var(--fill-color);\n",
              "      border-right-color: var(--fill-color);\n",
              "    }\n",
              "    40% {\n",
              "      border-color: transparent;\n",
              "      border-right-color: var(--fill-color);\n",
              "      border-top-color: var(--fill-color);\n",
              "    }\n",
              "    60% {\n",
              "      border-color: transparent;\n",
              "      border-right-color: var(--fill-color);\n",
              "    }\n",
              "    80% {\n",
              "      border-color: transparent;\n",
              "      border-right-color: var(--fill-color);\n",
              "      border-bottom-color: var(--fill-color);\n",
              "    }\n",
              "    90% {\n",
              "      border-color: transparent;\n",
              "      border-bottom-color: var(--fill-color);\n",
              "    }\n",
              "  }\n",
              "</style>\n",
              "\n",
              "  <script>\n",
              "    async function quickchart(key) {\n",
              "      const quickchartButtonEl =\n",
              "        document.querySelector('#' + key + ' button');\n",
              "      quickchartButtonEl.disabled = true;  // To prevent multiple clicks.\n",
              "      quickchartButtonEl.classList.add('colab-df-spinner');\n",
              "      try {\n",
              "        const charts = await google.colab.kernel.invokeFunction(\n",
              "            'suggestCharts', [key], {});\n",
              "      } catch (error) {\n",
              "        console.error('Error during call to suggestCharts:', error);\n",
              "      }\n",
              "      quickchartButtonEl.classList.remove('colab-df-spinner');\n",
              "      quickchartButtonEl.classList.add('colab-df-quickchart-complete');\n",
              "    }\n",
              "    (() => {\n",
              "      let quickchartButtonEl =\n",
              "        document.querySelector('#df-bb14d260-0810-45f7-95ee-c52a69821e44 button');\n",
              "      quickchartButtonEl.style.display =\n",
              "        google.colab.kernel.accessAllowed ? 'block' : 'none';\n",
              "    })();\n",
              "  </script>\n",
              "</div>\n",
              "    </div>\n",
              "  </div>\n"
            ]
          },
          "metadata": {},
          "execution_count": 112
        }
      ]
    },
    {
      "cell_type": "code",
      "source": [
        "x=bitcoin_prices_windows.dropna().drop('Price', axis=1).astype(np.float32)\n",
        "y=bitcoin_prices_windows.dropna()['Price'].astype(np.float32)"
      ],
      "metadata": {
        "id": "3jH5-LZYIhV0"
      },
      "execution_count": null,
      "outputs": []
    },
    {
      "cell_type": "code",
      "source": [
        "#x[:5], y[:5]"
      ],
      "metadata": {
        "id": "drX1IW2UJfhx"
      },
      "execution_count": null,
      "outputs": []
    },
    {
      "cell_type": "code",
      "source": [
        "split_size=int(len(x)*0.8)\n",
        "x_train,y_train=x[:split_size],y[:split_size]\n",
        "x_test, y_test=x[split_size:], y[split_size:]\n",
        "x_train.shape, y_train.shape"
      ],
      "metadata": {
        "colab": {
          "base_uri": "https://localhost:8080/"
        },
        "id": "Iaplu5jxJhR7",
        "outputId": "ed372bd3-4930-42bd-cc60-0f2797f2a00d"
      },
      "execution_count": null,
      "outputs": [
        {
          "output_type": "execute_result",
          "data": {
            "text/plain": [
              "((2224, 8), (2224,))"
            ]
          },
          "metadata": {},
          "execution_count": 115
        }
      ]
    },
    {
      "cell_type": "code",
      "source": [
        "model_6=tf.keras.Sequential([\n",
        "    tf.keras.layers.Dense(128 , activation='relu'),\n",
        "    tf.keras.layers.Dense(64, activation='relu'),\n",
        "    tf.keras.layers.Dense(1, activation='linear')\n",
        "])\n",
        "model_6.compile(optimizer=tf.keras.optimizers.Adam(), metrics=['mae', 'mse'], loss=tf.keras.losses.MeanAbsoluteError())"
      ],
      "metadata": {
        "id": "B3o1dG0DKLl9"
      },
      "execution_count": null,
      "outputs": []
    },
    {
      "cell_type": "code",
      "source": [
        "model_6.fit(x_train,y_train, validation_data=(x_test, y_test), epochs=100, batch_size=16, callbacks=[callback])"
      ],
      "metadata": {
        "colab": {
          "base_uri": "https://localhost:8080/"
        },
        "id": "tYhVKzVYLA41",
        "outputId": "c6f33f9c-9d59-427c-ce5c-0d714d23e9c9"
      },
      "execution_count": null,
      "outputs": [
        {
          "output_type": "stream",
          "name": "stdout",
          "text": [
            "Epoch 1/100\n",
            "139/139 [==============================] - 2s 4ms/step - loss: 365.8274 - mae: 365.8274 - mse: 1352821.1250 - val_loss: 977.7637 - val_mae: 977.7637 - val_mse: 2925322.2500\n",
            "Epoch 2/100\n",
            "139/139 [==============================] - 0s 3ms/step - loss: 154.3040 - mae: 154.3040 - mse: 114089.9531 - val_loss: 692.0746 - val_mae: 692.0746 - val_mse: 1590783.8750\n",
            "Epoch 3/100\n",
            "139/139 [==============================] - 0s 3ms/step - loss: 146.0610 - mae: 146.0610 - mse: 103718.2500 - val_loss: 1615.7125 - val_mae: 1615.7125 - val_mse: 6095739.5000\n",
            "Epoch 4/100\n",
            "139/139 [==============================] - 0s 3ms/step - loss: 146.4982 - mae: 146.4982 - mse: 106316.5234 - val_loss: 630.3873 - val_mae: 630.3873 - val_mse: 1381557.1250\n",
            "Epoch 5/100\n",
            "139/139 [==============================] - 0s 3ms/step - loss: 132.2006 - mae: 132.2006 - mse: 89405.7344 - val_loss: 612.5419 - val_mae: 612.5419 - val_mse: 1315428.3750\n",
            "Epoch 6/100\n",
            "139/139 [==============================] - 0s 3ms/step - loss: 148.3570 - mae: 148.3570 - mse: 105622.8438 - val_loss: 643.3011 - val_mae: 643.3011 - val_mse: 1411352.2500\n",
            "Epoch 7/100\n",
            "139/139 [==============================] - 0s 3ms/step - loss: 125.0591 - mae: 125.0591 - mse: 83548.0469 - val_loss: 679.8647 - val_mae: 679.8647 - val_mse: 1448002.5000\n",
            "Epoch 8/100\n",
            "139/139 [==============================] - 0s 3ms/step - loss: 133.3420 - mae: 133.3420 - mse: 91200.5469 - val_loss: 600.4589 - val_mae: 600.4589 - val_mse: 1271241.3750\n",
            "Epoch 9/100\n",
            "139/139 [==============================] - 0s 3ms/step - loss: 124.2738 - mae: 124.2738 - mse: 86510.9453 - val_loss: 819.0612 - val_mae: 819.0612 - val_mse: 1840991.1250\n",
            "Epoch 10/100\n",
            "139/139 [==============================] - 0s 3ms/step - loss: 126.2248 - mae: 126.2248 - mse: 82804.7422 - val_loss: 840.3615 - val_mae: 840.3615 - val_mse: 1907371.0000\n",
            "Epoch 11/100\n",
            "139/139 [==============================] - 0s 3ms/step - loss: 138.7520 - mae: 138.7520 - mse: 101216.7344 - val_loss: 837.0651 - val_mae: 837.0651 - val_mse: 1895573.6250\n",
            "Epoch 12/100\n",
            "139/139 [==============================] - 0s 3ms/step - loss: 117.1538 - mae: 117.1538 - mse: 78635.5781 - val_loss: 580.2158 - val_mae: 580.2158 - val_mse: 1201918.3750\n",
            "Epoch 13/100\n",
            "139/139 [==============================] - 0s 3ms/step - loss: 124.6772 - mae: 124.6772 - mse: 81359.8906 - val_loss: 799.0001 - val_mae: 799.0001 - val_mse: 1765459.6250\n",
            "Epoch 14/100\n",
            "139/139 [==============================] - 0s 3ms/step - loss: 118.3416 - mae: 118.3416 - mse: 76344.7969 - val_loss: 685.2425 - val_mae: 685.2425 - val_mse: 1429434.5000\n",
            "Epoch 15/100\n",
            "139/139 [==============================] - 0s 3ms/step - loss: 163.6760 - mae: 163.6760 - mse: 124893.7812 - val_loss: 721.2994 - val_mae: 721.2994 - val_mse: 1554111.8750\n",
            "Epoch 16/100\n",
            "139/139 [==============================] - 0s 3ms/step - loss: 117.4019 - mae: 117.4019 - mse: 77234.4062 - val_loss: 811.5416 - val_mae: 811.5416 - val_mse: 1884960.0000\n",
            "Epoch 17/100\n",
            "139/139 [==============================] - 0s 3ms/step - loss: 129.3552 - mae: 129.3552 - mse: 86389.0781 - val_loss: 718.9182 - val_mae: 718.9182 - val_mse: 1524505.8750\n",
            "Epoch 18/100\n",
            "139/139 [==============================] - 0s 3ms/step - loss: 117.7917 - mae: 117.7917 - mse: 75683.0469 - val_loss: 640.3990 - val_mae: 640.3990 - val_mse: 1353619.6250\n",
            "Epoch 19/100\n",
            "139/139 [==============================] - 0s 3ms/step - loss: 120.9448 - mae: 120.9448 - mse: 78852.0234 - val_loss: 675.2817 - val_mae: 675.2817 - val_mse: 1400811.6250\n",
            "Epoch 20/100\n",
            "139/139 [==============================] - 0s 3ms/step - loss: 122.0021 - mae: 122.0021 - mse: 80873.7656 - val_loss: 720.0136 - val_mae: 720.0136 - val_mse: 1519188.5000\n",
            "Epoch 21/100\n",
            "139/139 [==============================] - 0s 3ms/step - loss: 116.5733 - mae: 116.5733 - mse: 76361.0859 - val_loss: 611.5735 - val_mae: 611.5735 - val_mse: 1287179.5000\n",
            "Epoch 22/100\n",
            "139/139 [==============================] - 0s 3ms/step - loss: 113.6646 - mae: 113.6646 - mse: 75204.4219 - val_loss: 593.5140 - val_mae: 593.5140 - val_mse: 1216775.6250\n",
            "Epoch 23/100\n",
            "139/139 [==============================] - 0s 3ms/step - loss: 114.3608 - mae: 114.3608 - mse: 74207.8672 - val_loss: 579.8419 - val_mae: 579.8419 - val_mse: 1190261.1250\n",
            "Epoch 24/100\n",
            "139/139 [==============================] - 1s 4ms/step - loss: 125.6279 - mae: 125.6279 - mse: 86552.5547 - val_loss: 617.0222 - val_mae: 617.0222 - val_mse: 1268328.6250\n",
            "Epoch 25/100\n",
            "139/139 [==============================] - 1s 4ms/step - loss: 119.1152 - mae: 119.1152 - mse: 78068.6875 - val_loss: 616.9233 - val_mae: 616.9233 - val_mse: 1283212.8750\n",
            "Epoch 26/100\n",
            "139/139 [==============================] - 1s 5ms/step - loss: 121.2990 - mae: 121.2990 - mse: 80915.3047 - val_loss: 601.7021 - val_mae: 601.7021 - val_mse: 1235883.7500\n",
            "Epoch 27/100\n",
            "139/139 [==============================] - 1s 4ms/step - loss: 116.9377 - mae: 116.9377 - mse: 76424.4688 - val_loss: 582.5023 - val_mae: 582.5023 - val_mse: 1213265.0000\n",
            "Epoch 28/100\n",
            "139/139 [==============================] - 1s 4ms/step - loss: 119.0348 - mae: 119.0348 - mse: 77695.4609 - val_loss: 573.4214 - val_mae: 573.4214 - val_mse: 1178873.3750\n",
            "Epoch 29/100\n",
            "139/139 [==============================] - 0s 3ms/step - loss: 118.5864 - mae: 118.5864 - mse: 78740.2031 - val_loss: 806.2659 - val_mae: 806.2659 - val_mse: 1768799.7500\n",
            "Epoch 30/100\n",
            "139/139 [==============================] - 0s 3ms/step - loss: 134.1012 - mae: 134.1012 - mse: 90574.4297 - val_loss: 783.7091 - val_mae: 783.7091 - val_mse: 1707489.8750\n",
            "Epoch 31/100\n",
            "139/139 [==============================] - 0s 3ms/step - loss: 117.3493 - mae: 117.3493 - mse: 74983.1250 - val_loss: 582.1567 - val_mae: 582.1567 - val_mse: 1195987.3750\n",
            "Epoch 32/100\n",
            "139/139 [==============================] - 0s 3ms/step - loss: 115.5987 - mae: 115.5987 - mse: 77745.7344 - val_loss: 684.0217 - val_mae: 684.0217 - val_mse: 1410645.3750\n",
            "Epoch 33/100\n",
            "139/139 [==============================] - 0s 3ms/step - loss: 118.5944 - mae: 118.5944 - mse: 75252.0234 - val_loss: 588.1906 - val_mae: 588.1906 - val_mse: 1234890.7500\n",
            "Epoch 34/100\n",
            "139/139 [==============================] - 0s 3ms/step - loss: 127.3090 - mae: 127.3090 - mse: 83473.3047 - val_loss: 692.3023 - val_mae: 692.3023 - val_mse: 1433415.5000\n",
            "Epoch 35/100\n",
            "139/139 [==============================] - 0s 3ms/step - loss: 118.0725 - mae: 118.0725 - mse: 79021.5938 - val_loss: 641.2839 - val_mae: 641.2839 - val_mse: 1331390.0000\n",
            "Epoch 36/100\n",
            "139/139 [==============================] - 0s 3ms/step - loss: 116.2410 - mae: 116.2410 - mse: 74384.3906 - val_loss: 612.9026 - val_mae: 612.9026 - val_mse: 1266823.0000\n",
            "Epoch 37/100\n",
            "139/139 [==============================] - 0s 3ms/step - loss: 120.6554 - mae: 120.6554 - mse: 83055.8594 - val_loss: 570.8018 - val_mae: 570.8018 - val_mse: 1175411.2500\n",
            "Epoch 38/100\n",
            "139/139 [==============================] - 0s 3ms/step - loss: 119.0153 - mae: 119.0153 - mse: 77745.2266 - val_loss: 576.4962 - val_mae: 576.4962 - val_mse: 1199038.5000\n",
            "Epoch 39/100\n",
            "139/139 [==============================] - 0s 3ms/step - loss: 121.2151 - mae: 121.2151 - mse: 80792.9453 - val_loss: 865.9714 - val_mae: 865.9714 - val_mse: 2064154.2500\n",
            "Epoch 40/100\n",
            "139/139 [==============================] - 0s 3ms/step - loss: 114.1842 - mae: 114.1842 - mse: 71899.5469 - val_loss: 874.8943 - val_mae: 874.8943 - val_mse: 2125161.7500\n",
            "Epoch 41/100\n",
            "139/139 [==============================] - 0s 3ms/step - loss: 115.1849 - mae: 115.1849 - mse: 73853.3281 - val_loss: 736.5653 - val_mae: 736.5653 - val_mse: 1606263.6250\n",
            "Epoch 42/100\n",
            "139/139 [==============================] - 0s 3ms/step - loss: 120.1898 - mae: 120.1898 - mse: 77644.6016 - val_loss: 572.5433 - val_mae: 572.5433 - val_mse: 1181926.6250\n",
            "Epoch 43/100\n",
            "139/139 [==============================] - 0s 3ms/step - loss: 123.4661 - mae: 123.4661 - mse: 81667.6328 - val_loss: 576.0301 - val_mae: 576.0301 - val_mse: 1195201.5000\n",
            "Epoch 44/100\n",
            "139/139 [==============================] - 0s 3ms/step - loss: 120.8050 - mae: 120.8050 - mse: 79691.9375 - val_loss: 591.8375 - val_mae: 591.8375 - val_mse: 1213486.0000\n",
            "Epoch 45/100\n",
            "139/139 [==============================] - 0s 3ms/step - loss: 123.7118 - mae: 123.7118 - mse: 82325.4375 - val_loss: 789.8573 - val_mae: 789.8573 - val_mse: 1806413.1250\n",
            "Epoch 46/100\n",
            "139/139 [==============================] - 0s 3ms/step - loss: 113.4561 - mae: 113.4561 - mse: 74140.6406 - val_loss: 662.0715 - val_mae: 662.0715 - val_mse: 1358005.1250\n",
            "Epoch 47/100\n",
            "139/139 [==============================] - 0s 3ms/step - loss: 110.0523 - mae: 110.0523 - mse: 69772.6250 - val_loss: 619.7399 - val_mae: 619.7399 - val_mse: 1266054.0000\n",
            "Epoch 48/100\n",
            "139/139 [==============================] - 0s 3ms/step - loss: 115.2572 - mae: 115.2572 - mse: 71323.2500 - val_loss: 642.1088 - val_mae: 642.1088 - val_mse: 1314095.1250\n",
            "Epoch 49/100\n",
            "139/139 [==============================] - 0s 3ms/step - loss: 116.7684 - mae: 116.7684 - mse: 79741.6328 - val_loss: 576.1986 - val_mae: 576.1986 - val_mse: 1194328.3750\n",
            "Epoch 50/100\n",
            "139/139 [==============================] - 0s 3ms/step - loss: 121.1113 - mae: 121.1113 - mse: 80228.5703 - val_loss: 788.5180 - val_mae: 788.5180 - val_mse: 1717194.1250\n",
            "Epoch 51/100\n",
            "139/139 [==============================] - 0s 3ms/step - loss: 124.2061 - mae: 124.2061 - mse: 84794.7500 - val_loss: 601.3748 - val_mae: 601.3748 - val_mse: 1239870.6250\n",
            "Epoch 52/100\n",
            "139/139 [==============================] - 0s 3ms/step - loss: 130.7763 - mae: 130.7763 - mse: 89150.8281 - val_loss: 638.3571 - val_mae: 638.3571 - val_mse: 1339149.6250\n",
            "Epoch 53/100\n",
            "139/139 [==============================] - 1s 8ms/step - loss: 117.5325 - mae: 117.5325 - mse: 77179.8359 - val_loss: 568.5558 - val_mae: 568.5558 - val_mse: 1166883.0000\n",
            "Epoch 54/100\n",
            "139/139 [==============================] - 1s 4ms/step - loss: 117.0211 - mae: 117.0211 - mse: 76161.7344 - val_loss: 579.2328 - val_mae: 579.2328 - val_mse: 1187161.8750\n",
            "Epoch 55/100\n",
            "139/139 [==============================] - 1s 4ms/step - loss: 118.8418 - mae: 118.8418 - mse: 76011.5703 - val_loss: 588.2265 - val_mae: 588.2265 - val_mse: 1222270.8750\n",
            "Epoch 56/100\n",
            "139/139 [==============================] - 0s 3ms/step - loss: 115.1296 - mae: 115.1296 - mse: 74068.5156 - val_loss: 592.7156 - val_mae: 592.7156 - val_mse: 1221528.5000\n",
            "Epoch 57/100\n",
            "139/139 [==============================] - 1s 4ms/step - loss: 119.1216 - mae: 119.1216 - mse: 76561.7109 - val_loss: 722.1254 - val_mae: 722.1254 - val_mse: 1560604.3750\n",
            "Epoch 58/100\n",
            "139/139 [==============================] - 1s 4ms/step - loss: 111.7360 - mae: 111.7360 - mse: 72882.5703 - val_loss: 631.1458 - val_mae: 631.1458 - val_mse: 1299101.2500\n",
            "Epoch 59/100\n",
            "139/139 [==============================] - 0s 3ms/step - loss: 111.9889 - mae: 111.9889 - mse: 72732.8828 - val_loss: 591.7078 - val_mae: 591.7078 - val_mse: 1209499.8750\n",
            "Epoch 60/100\n",
            "139/139 [==============================] - 0s 3ms/step - loss: 110.6978 - mae: 110.6978 - mse: 71825.4219 - val_loss: 606.2344 - val_mae: 606.2344 - val_mse: 1252471.7500\n",
            "Epoch 61/100\n",
            "139/139 [==============================] - 0s 3ms/step - loss: 109.8043 - mae: 109.8043 - mse: 72557.8672 - val_loss: 588.7576 - val_mae: 588.7576 - val_mse: 1206317.5000\n",
            "Epoch 62/100\n",
            "139/139 [==============================] - 0s 3ms/step - loss: 112.8288 - mae: 112.8288 - mse: 72696.8672 - val_loss: 609.8426 - val_mae: 609.8426 - val_mse: 1245728.2500\n",
            "Epoch 63/100\n",
            "139/139 [==============================] - 0s 3ms/step - loss: 115.3725 - mae: 115.3725 - mse: 76275.9531 - val_loss: 584.8467 - val_mae: 584.8467 - val_mse: 1209619.0000\n",
            "Epoch 64/100\n",
            "139/139 [==============================] - 0s 3ms/step - loss: 119.1898 - mae: 119.1898 - mse: 77329.3594 - val_loss: 571.6955 - val_mae: 571.6955 - val_mse: 1180056.0000\n",
            "Epoch 65/100\n",
            "139/139 [==============================] - 0s 3ms/step - loss: 113.4476 - mae: 113.4476 - mse: 72334.8984 - val_loss: 586.0427 - val_mae: 586.0427 - val_mse: 1195383.7500\n",
            "Epoch 66/100\n",
            "139/139 [==============================] - 0s 3ms/step - loss: 111.9389 - mae: 111.9389 - mse: 73430.4062 - val_loss: 572.2048 - val_mae: 572.2048 - val_mse: 1170729.2500\n",
            "Epoch 67/100\n",
            "139/139 [==============================] - 0s 3ms/step - loss: 114.7395 - mae: 114.7395 - mse: 77353.5938 - val_loss: 647.4559 - val_mae: 647.4559 - val_mse: 1326265.7500\n",
            "Epoch 68/100\n",
            "139/139 [==============================] - 0s 3ms/step - loss: 116.2628 - mae: 116.2628 - mse: 75437.8672 - val_loss: 574.0135 - val_mae: 574.0135 - val_mse: 1186696.0000\n",
            "Epoch 69/100\n",
            "139/139 [==============================] - 0s 3ms/step - loss: 112.3265 - mae: 112.3265 - mse: 73615.3828 - val_loss: 721.0680 - val_mae: 721.0680 - val_mse: 1513992.7500\n",
            "Epoch 70/100\n",
            "139/139 [==============================] - 0s 3ms/step - loss: 126.4370 - mae: 126.4370 - mse: 83758.5391 - val_loss: 580.4743 - val_mae: 580.4743 - val_mse: 1189798.0000\n",
            "Epoch 71/100\n",
            "139/139 [==============================] - 0s 3ms/step - loss: 111.9185 - mae: 111.9185 - mse: 73381.1406 - val_loss: 639.1682 - val_mae: 639.1682 - val_mse: 1311002.1250\n",
            "Epoch 72/100\n",
            "139/139 [==============================] - 0s 2ms/step - loss: 117.1154 - mae: 117.1154 - mse: 78370.8828 - val_loss: 575.7797 - val_mae: 575.7797 - val_mse: 1188565.2500\n",
            "Epoch 73/100\n",
            "139/139 [==============================] - 0s 3ms/step - loss: 112.9423 - mae: 112.9423 - mse: 72908.6250 - val_loss: 850.5765 - val_mae: 850.5765 - val_mse: 1897970.1250\n",
            "Epoch 74/100\n",
            "139/139 [==============================] - 0s 3ms/step - loss: 116.6437 - mae: 116.6437 - mse: 76083.2031 - val_loss: 576.0921 - val_mae: 576.0921 - val_mse: 1186252.3750\n",
            "Epoch 75/100\n",
            "139/139 [==============================] - 0s 3ms/step - loss: 115.2752 - mae: 115.2752 - mse: 76555.0938 - val_loss: 654.2614 - val_mae: 654.2614 - val_mse: 1344118.8750\n",
            "Epoch 76/100\n",
            "139/139 [==============================] - 0s 3ms/step - loss: 111.8999 - mae: 111.8999 - mse: 73197.9922 - val_loss: 577.0099 - val_mae: 577.0099 - val_mse: 1196917.8750\n",
            "Epoch 77/100\n",
            "139/139 [==============================] - 0s 3ms/step - loss: 113.8101 - mae: 113.8101 - mse: 74841.6484 - val_loss: 592.7413 - val_mae: 592.7413 - val_mse: 1202911.6250\n",
            "Epoch 78/100\n",
            "139/139 [==============================] - 0s 3ms/step - loss: 117.9323 - mae: 117.9323 - mse: 76456.6172 - val_loss: 587.3487 - val_mae: 587.3487 - val_mse: 1213192.7500\n",
            "Epoch 79/100\n",
            "139/139 [==============================] - 0s 3ms/step - loss: 115.5724 - mae: 115.5724 - mse: 74466.5000 - val_loss: 685.4352 - val_mae: 685.4352 - val_mse: 1461558.3750\n",
            "Epoch 80/100\n",
            "139/139 [==============================] - 0s 3ms/step - loss: 125.1175 - mae: 125.1175 - mse: 84129.7422 - val_loss: 583.5212 - val_mae: 583.5212 - val_mse: 1223199.7500\n",
            "Epoch 81/100\n",
            "139/139 [==============================] - 0s 3ms/step - loss: 112.5924 - mae: 112.5924 - mse: 73259.8281 - val_loss: 970.0156 - val_mae: 970.0156 - val_mse: 2328688.5000\n",
            "Epoch 82/100\n",
            "139/139 [==============================] - 0s 3ms/step - loss: 133.2910 - mae: 133.2910 - mse: 90185.4688 - val_loss: 569.3334 - val_mae: 569.3334 - val_mse: 1174868.0000\n",
            "Epoch 83/100\n",
            "139/139 [==============================] - 0s 3ms/step - loss: 112.3477 - mae: 112.3477 - mse: 71753.8438 - val_loss: 757.2919 - val_mae: 757.2919 - val_mse: 1670872.1250\n",
            "Epoch 84/100\n",
            "139/139 [==============================] - 1s 4ms/step - loss: 117.4337 - mae: 117.4337 - mse: 77338.6953 - val_loss: 609.3970 - val_mae: 609.3970 - val_mse: 1267413.3750\n",
            "Epoch 85/100\n",
            "139/139 [==============================] - 1s 5ms/step - loss: 109.3521 - mae: 109.3521 - mse: 71689.7188 - val_loss: 658.6120 - val_mae: 658.6120 - val_mse: 1346229.7500\n",
            "Epoch 86/100\n",
            "139/139 [==============================] - 1s 5ms/step - loss: 117.1626 - mae: 117.1626 - mse: 74390.0000 - val_loss: 591.9691 - val_mae: 591.9691 - val_mse: 1242721.6250\n",
            "Epoch 87/100\n",
            "139/139 [==============================] - 1s 5ms/step - loss: 118.2796 - mae: 118.2796 - mse: 73732.2500 - val_loss: 585.3395 - val_mae: 585.3395 - val_mse: 1198346.0000\n",
            "Epoch 88/100\n",
            "139/139 [==============================] - 0s 3ms/step - loss: 115.4646 - mae: 115.4646 - mse: 74860.6094 - val_loss: 619.2359 - val_mae: 619.2359 - val_mse: 1278511.0000\n",
            "Epoch 89/100\n",
            "139/139 [==============================] - 0s 3ms/step - loss: 113.5857 - mae: 113.5857 - mse: 72572.5156 - val_loss: 574.6572 - val_mae: 574.6572 - val_mse: 1171934.3750\n",
            "Epoch 90/100\n",
            "139/139 [==============================] - 0s 3ms/step - loss: 114.0089 - mae: 114.0089 - mse: 73363.1484 - val_loss: 581.7791 - val_mae: 581.7791 - val_mse: 1184875.7500\n",
            "Epoch 91/100\n",
            "139/139 [==============================] - 0s 3ms/step - loss: 111.9177 - mae: 111.9177 - mse: 76219.9688 - val_loss: 756.4093 - val_mae: 756.4093 - val_mse: 1670131.3750\n",
            "Epoch 92/100\n",
            "139/139 [==============================] - 0s 3ms/step - loss: 117.0492 - mae: 117.0492 - mse: 77110.4141 - val_loss: 581.7039 - val_mae: 581.7039 - val_mse: 1201425.1250\n",
            "Epoch 93/100\n",
            "139/139 [==============================] - 0s 3ms/step - loss: 109.4367 - mae: 109.4367 - mse: 70359.7109 - val_loss: 595.9774 - val_mae: 595.9774 - val_mse: 1238338.5000\n",
            "Epoch 94/100\n",
            "139/139 [==============================] - 0s 3ms/step - loss: 112.7992 - mae: 112.7992 - mse: 73341.0859 - val_loss: 645.2619 - val_mae: 645.2619 - val_mse: 1370869.1250\n",
            "Epoch 95/100\n",
            "139/139 [==============================] - 0s 3ms/step - loss: 117.9274 - mae: 117.9274 - mse: 77883.1641 - val_loss: 671.3845 - val_mae: 671.3845 - val_mse: 1415725.2500\n",
            "Epoch 96/100\n",
            "139/139 [==============================] - 0s 3ms/step - loss: 120.0734 - mae: 120.0734 - mse: 75680.9609 - val_loss: 841.9111 - val_mae: 841.9111 - val_mse: 1987446.7500\n",
            "Epoch 97/100\n",
            "139/139 [==============================] - 0s 3ms/step - loss: 118.5385 - mae: 118.5385 - mse: 77773.2109 - val_loss: 584.4326 - val_mae: 584.4326 - val_mse: 1210790.8750\n",
            "Epoch 98/100\n",
            "139/139 [==============================] - 0s 3ms/step - loss: 119.9142 - mae: 119.9142 - mse: 75226.0859 - val_loss: 588.7977 - val_mae: 588.7977 - val_mse: 1198511.5000\n",
            "Epoch 99/100\n",
            "139/139 [==============================] - 0s 3ms/step - loss: 113.8464 - mae: 113.8464 - mse: 74139.8438 - val_loss: 581.2761 - val_mae: 581.2761 - val_mse: 1207414.5000\n",
            "Epoch 100/100\n",
            "139/139 [==============================] - 0s 3ms/step - loss: 110.7234 - mae: 110.7234 - mse: 71893.6719 - val_loss: 579.9634 - val_mae: 579.9634 - val_mse: 1195723.1250\n"
          ]
        },
        {
          "output_type": "execute_result",
          "data": {
            "text/plain": [
              "<keras.src.callbacks.History at 0x7b1bac6a9e10>"
            ]
          },
          "metadata": {},
          "execution_count": 117
        }
      ]
    },
    {
      "cell_type": "code",
      "source": [
        "model_6.evaluate(x_test, y_test)"
      ],
      "metadata": {
        "colab": {
          "base_uri": "https://localhost:8080/"
        },
        "id": "_irhkCfQLGIk",
        "outputId": "a5225916-da87-4d45-ed47-71bf5a0d864d"
      },
      "execution_count": null,
      "outputs": [
        {
          "output_type": "stream",
          "name": "stdout",
          "text": [
            "18/18 [==============================] - 0s 2ms/step - loss: 579.9634 - mae: 579.9634 - mse: 1195723.0000\n"
          ]
        },
        {
          "output_type": "execute_result",
          "data": {
            "text/plain": [
              "[579.96337890625, 579.96337890625, 1195723.0]"
            ]
          },
          "metadata": {},
          "execution_count": 118
        }
      ]
    },
    {
      "cell_type": "code",
      "source": [
        "y_preds=model_6.predict(x_test)"
      ],
      "metadata": {
        "colab": {
          "base_uri": "https://localhost:8080/"
        },
        "id": "sIUjVI9oLZnI",
        "outputId": "4f7dfe39-cc16-453e-f444-b20d67e92047"
      },
      "execution_count": null,
      "outputs": [
        {
          "output_type": "stream",
          "name": "stdout",
          "text": [
            "18/18 [==============================] - 0s 2ms/step\n"
          ]
        }
      ]
    },
    {
      "cell_type": "code",
      "source": [
        "y_preds.shape"
      ],
      "metadata": {
        "colab": {
          "base_uri": "https://localhost:8080/"
        },
        "id": "JzJR4WdZLi00",
        "outputId": "1b43ebc3-8517-419f-de96-a634fded7a93"
      },
      "execution_count": null,
      "outputs": [
        {
          "output_type": "execute_result",
          "data": {
            "text/plain": [
              "(556, 1)"
            ]
          },
          "metadata": {},
          "execution_count": 120
        }
      ]
    },
    {
      "cell_type": "code",
      "source": [],
      "metadata": {
        "id": "F98jLfPnLkM2"
      },
      "execution_count": null,
      "outputs": []
    },
    {
      "cell_type": "markdown",
      "source": [
        "**NBEATS**"
      ],
      "metadata": {
        "id": "fG7PIcMLO8nG"
      }
    },
    {
      "cell_type": "code",
      "source": [
        "class NBeatsBlock(tf.keras.layers.Layer):\n",
        "  def __init__(self, input_size, theta_size,horizon,n_neurons,\n",
        "               n_layers,**kwargs):\n",
        "    super().__init__(**kwargs)\n",
        "    self.input_size=input_size\n",
        "    self.theta_size=theta_size\n",
        "    self.horizon=horizon\n",
        "    self.n_neurons=n_neurons\n",
        "    self.n_layers=n_layers\n",
        "\n",
        "\n",
        "    self.hidden=[tf.keras.layers.Dense(n_neurons, activation='relu') for _ in range(n_layers)]\n",
        "    #output of block is a theta layer with linear activation\n",
        "    self.theta_layer=tf.keras.layers.Dense(theta_size,activation='linear', name='theta')\n",
        "\n",
        "  def call(self, inputs):\n",
        "    x=inputs\n",
        "    for layer in self.hidden:\n",
        "      x=layer(x)\n",
        "    theta=self.theta_layer(x)\n",
        "    #backcast and forecast\n",
        "    backcast, forecast = theta[:,:self.input_size], theta[:,-self.horizon]\n",
        "    return backcast, forecast"
      ],
      "metadata": {
        "id": "Ud7n_DWJO-ix"
      },
      "execution_count": null,
      "outputs": []
    },
    {
      "cell_type": "code",
      "source": [
        "dummy_nbeats_block_layer=NBeatsBlock(input_size=7, theta_size=7+1,horizon=1,n_neurons=128,n_layers=4)\n",
        "# window size (lookback period) #input_size\n"
      ],
      "metadata": {
        "id": "wynMCUnoR8zk"
      },
      "execution_count": null,
      "outputs": []
    },
    {
      "cell_type": "code",
      "source": [
        "#create dummy inputs"
      ],
      "metadata": {
        "id": "J8xeKuqyWMTS"
      },
      "execution_count": null,
      "outputs": []
    },
    {
      "cell_type": "code",
      "source": [
        "dummy_inputs=tf.expand_dims(tf.range(7)+1, axis=0) #input shape has to match dense layer requirement"
      ],
      "metadata": {
        "id": "-7o0DACdWdhC"
      },
      "execution_count": null,
      "outputs": []
    },
    {
      "cell_type": "code",
      "source": [
        "dummy_inputs.shape"
      ],
      "metadata": {
        "colab": {
          "base_uri": "https://localhost:8080/"
        },
        "id": "CW6YKutkWrOc",
        "outputId": "f5a0925b-40e0-4a8f-cd82-25fea2620cfb"
      },
      "execution_count": null,
      "outputs": [
        {
          "output_type": "execute_result",
          "data": {
            "text/plain": [
              "TensorShape([1, 7])"
            ]
          },
          "metadata": {},
          "execution_count": 125
        }
      ]
    },
    {
      "cell_type": "code",
      "source": [
        "#pass dummy inputs to Nbeats Block layer\n",
        "backcast, forecast=dummy_nbeats_block_layer(dummy_inputs)"
      ],
      "metadata": {
        "id": "Ef_VqDXEWsZj"
      },
      "execution_count": null,
      "outputs": []
    },
    {
      "cell_type": "code",
      "source": [
        "backcast.numpy() , forecast.numpy()"
      ],
      "metadata": {
        "colab": {
          "base_uri": "https://localhost:8080/"
        },
        "id": "TV2kkCtqW9Wg",
        "outputId": "9b2f499b-0b79-4810-e499-462264fdd5ed"
      },
      "execution_count": null,
      "outputs": [
        {
          "output_type": "execute_result",
          "data": {
            "text/plain": [
              "(array([[-0.35631412, -0.41682023, -1.4364034 , -0.23311567, -0.04788192,\n",
              "          0.9073975 ,  0.48916826]], dtype=float32),\n",
              " array([0.3200881], dtype=float32))"
            ]
          },
          "metadata": {},
          "execution_count": 127
        }
      ]
    },
    {
      "cell_type": "code",
      "source": [
        "#preparing data for Nbeats with tf.data\n"
      ],
      "metadata": {
        "id": "71IrCgGAXDpo"
      },
      "execution_count": null,
      "outputs": []
    },
    {
      "cell_type": "code",
      "source": [
        "bitcoin_prices.head()"
      ],
      "metadata": {
        "colab": {
          "base_uri": "https://localhost:8080/",
          "height": 238
        },
        "id": "G6yvSiXNb6XI",
        "outputId": "dfccae66-9e97-4337-b890-30c39ef41bde"
      },
      "execution_count": null,
      "outputs": [
        {
          "output_type": "execute_result",
          "data": {
            "text/plain": [
              "                Price\n",
              "Date                 \n",
              "2013-10-01  123.65499\n",
              "2013-10-02  125.45500\n",
              "2013-10-03  108.58483\n",
              "2013-10-04  118.67466\n",
              "2013-10-05  121.33866"
            ],
            "text/html": [
              "\n",
              "  <div id=\"df-b649c4e8-58b7-48d7-9c25-10463e321b4d\" class=\"colab-df-container\">\n",
              "    <div>\n",
              "<style scoped>\n",
              "    .dataframe tbody tr th:only-of-type {\n",
              "        vertical-align: middle;\n",
              "    }\n",
              "\n",
              "    .dataframe tbody tr th {\n",
              "        vertical-align: top;\n",
              "    }\n",
              "\n",
              "    .dataframe thead th {\n",
              "        text-align: right;\n",
              "    }\n",
              "</style>\n",
              "<table border=\"1\" class=\"dataframe\">\n",
              "  <thead>\n",
              "    <tr style=\"text-align: right;\">\n",
              "      <th></th>\n",
              "      <th>Price</th>\n",
              "    </tr>\n",
              "    <tr>\n",
              "      <th>Date</th>\n",
              "      <th></th>\n",
              "    </tr>\n",
              "  </thead>\n",
              "  <tbody>\n",
              "    <tr>\n",
              "      <th>2013-10-01</th>\n",
              "      <td>123.65499</td>\n",
              "    </tr>\n",
              "    <tr>\n",
              "      <th>2013-10-02</th>\n",
              "      <td>125.45500</td>\n",
              "    </tr>\n",
              "    <tr>\n",
              "      <th>2013-10-03</th>\n",
              "      <td>108.58483</td>\n",
              "    </tr>\n",
              "    <tr>\n",
              "      <th>2013-10-04</th>\n",
              "      <td>118.67466</td>\n",
              "    </tr>\n",
              "    <tr>\n",
              "      <th>2013-10-05</th>\n",
              "      <td>121.33866</td>\n",
              "    </tr>\n",
              "  </tbody>\n",
              "</table>\n",
              "</div>\n",
              "    <div class=\"colab-df-buttons\">\n",
              "\n",
              "  <div class=\"colab-df-container\">\n",
              "    <button class=\"colab-df-convert\" onclick=\"convertToInteractive('df-b649c4e8-58b7-48d7-9c25-10463e321b4d')\"\n",
              "            title=\"Convert this dataframe to an interactive table.\"\n",
              "            style=\"display:none;\">\n",
              "\n",
              "  <svg xmlns=\"http://www.w3.org/2000/svg\" height=\"24px\" viewBox=\"0 -960 960 960\">\n",
              "    <path d=\"M120-120v-720h720v720H120Zm60-500h600v-160H180v160Zm220 220h160v-160H400v160Zm0 220h160v-160H400v160ZM180-400h160v-160H180v160Zm440 0h160v-160H620v160ZM180-180h160v-160H180v160Zm440 0h160v-160H620v160Z\"/>\n",
              "  </svg>\n",
              "    </button>\n",
              "\n",
              "  <style>\n",
              "    .colab-df-container {\n",
              "      display:flex;\n",
              "      gap: 12px;\n",
              "    }\n",
              "\n",
              "    .colab-df-convert {\n",
              "      background-color: #E8F0FE;\n",
              "      border: none;\n",
              "      border-radius: 50%;\n",
              "      cursor: pointer;\n",
              "      display: none;\n",
              "      fill: #1967D2;\n",
              "      height: 32px;\n",
              "      padding: 0 0 0 0;\n",
              "      width: 32px;\n",
              "    }\n",
              "\n",
              "    .colab-df-convert:hover {\n",
              "      background-color: #E2EBFA;\n",
              "      box-shadow: 0px 1px 2px rgba(60, 64, 67, 0.3), 0px 1px 3px 1px rgba(60, 64, 67, 0.15);\n",
              "      fill: #174EA6;\n",
              "    }\n",
              "\n",
              "    .colab-df-buttons div {\n",
              "      margin-bottom: 4px;\n",
              "    }\n",
              "\n",
              "    [theme=dark] .colab-df-convert {\n",
              "      background-color: #3B4455;\n",
              "      fill: #D2E3FC;\n",
              "    }\n",
              "\n",
              "    [theme=dark] .colab-df-convert:hover {\n",
              "      background-color: #434B5C;\n",
              "      box-shadow: 0px 1px 3px 1px rgba(0, 0, 0, 0.15);\n",
              "      filter: drop-shadow(0px 1px 2px rgba(0, 0, 0, 0.3));\n",
              "      fill: #FFFFFF;\n",
              "    }\n",
              "  </style>\n",
              "\n",
              "    <script>\n",
              "      const buttonEl =\n",
              "        document.querySelector('#df-b649c4e8-58b7-48d7-9c25-10463e321b4d button.colab-df-convert');\n",
              "      buttonEl.style.display =\n",
              "        google.colab.kernel.accessAllowed ? 'block' : 'none';\n",
              "\n",
              "      async function convertToInteractive(key) {\n",
              "        const element = document.querySelector('#df-b649c4e8-58b7-48d7-9c25-10463e321b4d');\n",
              "        const dataTable =\n",
              "          await google.colab.kernel.invokeFunction('convertToInteractive',\n",
              "                                                    [key], {});\n",
              "        if (!dataTable) return;\n",
              "\n",
              "        const docLinkHtml = 'Like what you see? Visit the ' +\n",
              "          '<a target=\"_blank\" href=https://colab.research.google.com/notebooks/data_table.ipynb>data table notebook</a>'\n",
              "          + ' to learn more about interactive tables.';\n",
              "        element.innerHTML = '';\n",
              "        dataTable['output_type'] = 'display_data';\n",
              "        await google.colab.output.renderOutput(dataTable, element);\n",
              "        const docLink = document.createElement('div');\n",
              "        docLink.innerHTML = docLinkHtml;\n",
              "        element.appendChild(docLink);\n",
              "      }\n",
              "    </script>\n",
              "  </div>\n",
              "\n",
              "\n",
              "<div id=\"df-3d682a98-c9ba-4ff9-871b-03e49869b087\">\n",
              "  <button class=\"colab-df-quickchart\" onclick=\"quickchart('df-3d682a98-c9ba-4ff9-871b-03e49869b087')\"\n",
              "            title=\"Suggest charts.\"\n",
              "            style=\"display:none;\">\n",
              "\n",
              "<svg xmlns=\"http://www.w3.org/2000/svg\" height=\"24px\"viewBox=\"0 0 24 24\"\n",
              "     width=\"24px\">\n",
              "    <g>\n",
              "        <path d=\"M19 3H5c-1.1 0-2 .9-2 2v14c0 1.1.9 2 2 2h14c1.1 0 2-.9 2-2V5c0-1.1-.9-2-2-2zM9 17H7v-7h2v7zm4 0h-2V7h2v10zm4 0h-2v-4h2v4z\"/>\n",
              "    </g>\n",
              "</svg>\n",
              "  </button>\n",
              "\n",
              "<style>\n",
              "  .colab-df-quickchart {\n",
              "      --bg-color: #E8F0FE;\n",
              "      --fill-color: #1967D2;\n",
              "      --hover-bg-color: #E2EBFA;\n",
              "      --hover-fill-color: #174EA6;\n",
              "      --disabled-fill-color: #AAA;\n",
              "      --disabled-bg-color: #DDD;\n",
              "  }\n",
              "\n",
              "  [theme=dark] .colab-df-quickchart {\n",
              "      --bg-color: #3B4455;\n",
              "      --fill-color: #D2E3FC;\n",
              "      --hover-bg-color: #434B5C;\n",
              "      --hover-fill-color: #FFFFFF;\n",
              "      --disabled-bg-color: #3B4455;\n",
              "      --disabled-fill-color: #666;\n",
              "  }\n",
              "\n",
              "  .colab-df-quickchart {\n",
              "    background-color: var(--bg-color);\n",
              "    border: none;\n",
              "    border-radius: 50%;\n",
              "    cursor: pointer;\n",
              "    display: none;\n",
              "    fill: var(--fill-color);\n",
              "    height: 32px;\n",
              "    padding: 0;\n",
              "    width: 32px;\n",
              "  }\n",
              "\n",
              "  .colab-df-quickchart:hover {\n",
              "    background-color: var(--hover-bg-color);\n",
              "    box-shadow: 0 1px 2px rgba(60, 64, 67, 0.3), 0 1px 3px 1px rgba(60, 64, 67, 0.15);\n",
              "    fill: var(--button-hover-fill-color);\n",
              "  }\n",
              "\n",
              "  .colab-df-quickchart-complete:disabled,\n",
              "  .colab-df-quickchart-complete:disabled:hover {\n",
              "    background-color: var(--disabled-bg-color);\n",
              "    fill: var(--disabled-fill-color);\n",
              "    box-shadow: none;\n",
              "  }\n",
              "\n",
              "  .colab-df-spinner {\n",
              "    border: 2px solid var(--fill-color);\n",
              "    border-color: transparent;\n",
              "    border-bottom-color: var(--fill-color);\n",
              "    animation:\n",
              "      spin 1s steps(1) infinite;\n",
              "  }\n",
              "\n",
              "  @keyframes spin {\n",
              "    0% {\n",
              "      border-color: transparent;\n",
              "      border-bottom-color: var(--fill-color);\n",
              "      border-left-color: var(--fill-color);\n",
              "    }\n",
              "    20% {\n",
              "      border-color: transparent;\n",
              "      border-left-color: var(--fill-color);\n",
              "      border-top-color: var(--fill-color);\n",
              "    }\n",
              "    30% {\n",
              "      border-color: transparent;\n",
              "      border-left-color: var(--fill-color);\n",
              "      border-top-color: var(--fill-color);\n",
              "      border-right-color: var(--fill-color);\n",
              "    }\n",
              "    40% {\n",
              "      border-color: transparent;\n",
              "      border-right-color: var(--fill-color);\n",
              "      border-top-color: var(--fill-color);\n",
              "    }\n",
              "    60% {\n",
              "      border-color: transparent;\n",
              "      border-right-color: var(--fill-color);\n",
              "    }\n",
              "    80% {\n",
              "      border-color: transparent;\n",
              "      border-right-color: var(--fill-color);\n",
              "      border-bottom-color: var(--fill-color);\n",
              "    }\n",
              "    90% {\n",
              "      border-color: transparent;\n",
              "      border-bottom-color: var(--fill-color);\n",
              "    }\n",
              "  }\n",
              "</style>\n",
              "\n",
              "  <script>\n",
              "    async function quickchart(key) {\n",
              "      const quickchartButtonEl =\n",
              "        document.querySelector('#' + key + ' button');\n",
              "      quickchartButtonEl.disabled = true;  // To prevent multiple clicks.\n",
              "      quickchartButtonEl.classList.add('colab-df-spinner');\n",
              "      try {\n",
              "        const charts = await google.colab.kernel.invokeFunction(\n",
              "            'suggestCharts', [key], {});\n",
              "      } catch (error) {\n",
              "        console.error('Error during call to suggestCharts:', error);\n",
              "      }\n",
              "      quickchartButtonEl.classList.remove('colab-df-spinner');\n",
              "      quickchartButtonEl.classList.add('colab-df-quickchart-complete');\n",
              "    }\n",
              "    (() => {\n",
              "      let quickchartButtonEl =\n",
              "        document.querySelector('#df-3d682a98-c9ba-4ff9-871b-03e49869b087 button');\n",
              "      quickchartButtonEl.style.display =\n",
              "        google.colab.kernel.accessAllowed ? 'block' : 'none';\n",
              "    })();\n",
              "  </script>\n",
              "</div>\n",
              "    </div>\n",
              "  </div>\n"
            ]
          },
          "metadata": {},
          "execution_count": 129
        }
      ]
    },
    {
      "cell_type": "code",
      "source": [],
      "metadata": {
        "id": "jp7KmwXwpzlq"
      },
      "execution_count": null,
      "outputs": []
    },
    {
      "cell_type": "code",
      "source": [
        "btc_price.shape"
      ],
      "metadata": {
        "colab": {
          "base_uri": "https://localhost:8080/"
        },
        "id": "T76SkvMtqDdb",
        "outputId": "cb8509cc-fc5b-47ed-e0c4-e0baddd8edaa"
      },
      "execution_count": null,
      "outputs": [
        {
          "output_type": "execute_result",
          "data": {
            "text/plain": [
              "(2787,)"
            ]
          },
          "metadata": {},
          "execution_count": 130
        }
      ]
    },
    {
      "cell_type": "code",
      "source": [
        "#windowing the data\n",
        "x,y=[],[]\n",
        "for i in range(7, len(btc_price)):\n",
        "  x.append(btc_price[i-7:i])\n",
        "  y.append(btc_price[i])\n",
        "x=np.array(x)\n",
        "y=np.array(y)\n",
        "split_size=int(0.8*len(btc_price))\n",
        "x_train=x[:split_size]\n",
        "y_train=y[:split_size]\n",
        "x_test=x[split_size:]\n",
        "y_test=y[split_size:]\n"
      ],
      "metadata": {
        "id": "v8y4JuVpofCQ"
      },
      "execution_count": null,
      "outputs": []
    },
    {
      "cell_type": "code",
      "source": [
        "x_train.shape , y_train.shape"
      ],
      "metadata": {
        "colab": {
          "base_uri": "https://localhost:8080/"
        },
        "id": "UA4Id5O2onJi",
        "outputId": "d7b37f0d-8950-4dbf-ac35-8b8d4e0bc02b"
      },
      "execution_count": null,
      "outputs": [
        {
          "output_type": "execute_result",
          "data": {
            "text/plain": [
              "((2229, 7), (2229,))"
            ]
          },
          "metadata": {},
          "execution_count": 132
        }
      ]
    },
    {
      "cell_type": "code",
      "source": [
        "train_ds=tf.data.Dataset.from_tensor_slices((x_train)).batch(32).prefetch(buffer_size=tf.data.AUTOTUNE)\n",
        "test_ds=tf.data.Dataset.from_tensor_slices((x_test)).batch(32).prefetch(buffer_size=tf.data.AUTOTUNE)\n",
        "\n",
        "train_labels=tf.data.Dataset.from_tensor_slices((y_train)).batch(32).prefetch(buffer_size=tf.data.AUTOTUNE)\n",
        "test_labels=tf.data.Dataset.from_tensor_slices((y_test)).batch(32).prefetch(buffer_size=tf.data.AUTOTUNE)\n",
        "\n",
        "train_dataset=tf.data.Dataset.zip((train_ds, train_labels))\n",
        "test_dataset=tf.data.Dataset.zip((test_ds, test_labels))"
      ],
      "metadata": {
        "id": "F3mGakd7pItZ"
      },
      "execution_count": null,
      "outputs": []
    },
    {
      "cell_type": "code",
      "source": [
        "train_dataset, test_dataset"
      ],
      "metadata": {
        "colab": {
          "base_uri": "https://localhost:8080/"
        },
        "id": "xxmcd4Fmq6z2",
        "outputId": "9081a483-2607-4a52-c8c2-dded49acb7c2"
      },
      "execution_count": null,
      "outputs": [
        {
          "output_type": "execute_result",
          "data": {
            "text/plain": [
              "(<_ZipDataset element_spec=(TensorSpec(shape=(None, 7), dtype=tf.float64, name=None), TensorSpec(shape=(None,), dtype=tf.float64, name=None))>,\n",
              " <_ZipDataset element_spec=(TensorSpec(shape=(None, 7), dtype=tf.float64, name=None), TensorSpec(shape=(None,), dtype=tf.float64, name=None))>)"
            ]
          },
          "metadata": {},
          "execution_count": 134
        }
      ]
    },
    {
      "cell_type": "code",
      "source": [
        "#Hyperparameters\n",
        "N_EPOCHS=5000\n",
        "N_NEURONS=512\n",
        "N_LAYERS=4\n",
        "N_STACKS=30\n",
        "\n",
        "INPUT_SIZE=7*1 #window size * horizon @lookback period from the paper\n",
        "THETA_SIZE=INPUT_SIZE+1 #backcast  + forecast  Lookback period is 7 and Horizon is 1\n",
        "\n",
        "\n",
        "# the N BEATS USES double residual stacking to help train deeper architecture\n",
        "\n"
      ],
      "metadata": {
        "id": "YkhTITADrEOq"
      },
      "execution_count": null,
      "outputs": []
    },
    {
      "cell_type": "code",
      "source": [
        "#adding subtractor layer tensors\n",
        "tensor_1= tf.range(10)+10\n",
        "tensor_2=tf.range(10)\n",
        "#subtract\n",
        "print(tensor_1), print(tensor_2)\n",
        "tf.keras.layers.subtract([tensor_1, tensor_2]) , tf.keras.layers.add([tensor_1, tensor_2])"
      ],
      "metadata": {
        "colab": {
          "base_uri": "https://localhost:8080/"
        },
        "id": "GeM39iW9wSjK",
        "outputId": "944f97ae-776b-4b0b-cccd-f98aad586f57"
      },
      "execution_count": null,
      "outputs": [
        {
          "output_type": "stream",
          "name": "stdout",
          "text": [
            "tf.Tensor([10 11 12 13 14 15 16 17 18 19], shape=(10,), dtype=int32)\n",
            "tf.Tensor([0 1 2 3 4 5 6 7 8 9], shape=(10,), dtype=int32)\n"
          ]
        },
        {
          "output_type": "execute_result",
          "data": {
            "text/plain": [
              "(<tf.Tensor: shape=(10,), dtype=int32, numpy=array([10, 10, 10, 10, 10, 10, 10, 10, 10, 10], dtype=int32)>,\n",
              " <tf.Tensor: shape=(10,), dtype=int32, numpy=array([10, 12, 14, 16, 18, 20, 22, 24, 26, 28], dtype=int32)>)"
            ]
          },
          "metadata": {},
          "execution_count": 136
        }
      ]
    },
    {
      "cell_type": "code",
      "source": [
        "nbeats_block_layer=NBeatsBlock(input_size=INPUT_SIZE,\n",
        "                               theta_size=THETA_SIZE,\n",
        "                               horizon=HORIZON,\n",
        "                               n_neurons=N_NEURONS,\n",
        "                               n_layers=N_LAYERS\n",
        "                               )\n",
        "\n",
        "#create input to stack\n",
        "stack_input=tf.keras.layers.Input(shape=(INPUT_SIZE), name='stack_input')\n",
        "#create initial backcast and forecast\n",
        "residuals, forecast=nbeats_block_layer(stack_input)\n",
        "\n",
        "\n",
        "#create stacks of block layers\n",
        "for i, _ in enumerate(range(N_STACKS-1)):\n",
        "  #use the N BEATS block to calculate the backcast and forecast\n",
        "  backcast, block_forecast=NBeatsBlock(input_size=INPUT_SIZE,\n",
        "                                       theta_size=THETA_SIZE,\n",
        "                                       horizon=HORIZON,\n",
        "                                       n_neurons=N_NEURONS,\n",
        "                                       n_layers=N_LAYERS) (residuals)\n",
        "\n",
        "  residuals=tf.keras.layers.subtract([residuals, backcast])\n",
        "  forecast=tf.keras.layers.add([forecast, block_forecast])\n",
        "#put the stack model together\n",
        "\n",
        "model_7=tf.keras.Model(inputs=stack_input, outputs=forecast)"
      ],
      "metadata": {
        "id": "gXpzel5a_BV2"
      },
      "execution_count": null,
      "outputs": []
    },
    {
      "cell_type": "code",
      "source": [
        "#compile\n",
        "model_7.compile(loss='mae', optimizer=tf.keras.optimizers.Adam(), metrics=['mae', 'mse'])"
      ],
      "metadata": {
        "id": "k-3_l388C0_x"
      },
      "execution_count": null,
      "outputs": []
    },
    {
      "cell_type": "code",
      "source": [
        "model_7.summary()"
      ],
      "metadata": {
        "id": "mH5H0SIbjpj0"
      },
      "execution_count": null,
      "outputs": []
    },
    {
      "cell_type": "code",
      "source": [
        "callbacks_es=tf.keras.callbacks.EarlyStopping(monitor='val_loss', patience=100, min_delta=0.001, restore_best_weights=True)\n",
        "callback_lrop=tf.keras.callbacks.ReduceLROnPlateau(monitor='val_loss', patience=100)"
      ],
      "metadata": {
        "id": "wc19UiZWqP3H"
      },
      "execution_count": null,
      "outputs": []
    },
    {
      "cell_type": "code",
      "source": [
        "model_7.fit(train_dataset, validation_data=test_dataset, epochs=5000, verbose=1,callbacks=[callbacks_es, callback_lrop])"
      ],
      "metadata": {
        "colab": {
          "base_uri": "https://localhost:8080/",
          "height": 1000
        },
        "id": "m-AqDOpwj1v6",
        "outputId": "e87f30bc-0f56-4858-807d-c6e5e6dc32a5"
      },
      "execution_count": null,
      "outputs": [
        {
          "output_type": "stream",
          "name": "stdout",
          "text": [
            "Epoch 1/5000\n",
            "70/70 [==============================] - 58s 371ms/step - loss: 452.2123 - mae: 452.1782 - mse: 988811.7500 - val_loss: 1767.8473 - val_mae: 1790.0825 - val_mse: 7203832.0000 - lr: 0.0010\n",
            "Epoch 2/5000\n",
            "70/70 [==============================] - 23s 331ms/step - loss: 234.0756 - mae: 234.6725 - mse: 264873.6250 - val_loss: 1849.0077 - val_mae: 1819.8624 - val_mse: 7042878.0000 - lr: 0.0010\n",
            "Epoch 3/5000\n",
            "70/70 [==============================] - 25s 355ms/step - loss: 209.8457 - mae: 211.6097 - mse: 182882.2656 - val_loss: 1406.4967 - val_mae: 1631.2465 - val_mse: 6599957.5000 - lr: 0.0010\n",
            "Epoch 4/5000\n",
            "70/70 [==============================] - 24s 337ms/step - loss: 229.6556 - mae: 230.2499 - mse: 225357.4219 - val_loss: 1431.9232 - val_mae: 1431.9883 - val_mse: 4419443.0000 - lr: 0.0010\n",
            "Epoch 5/5000\n",
            "70/70 [==============================] - 24s 342ms/step - loss: 175.7819 - mae: 176.4550 - mse: 148039.8594 - val_loss: 1282.3024 - val_mae: 1281.5470 - val_mse: 3667680.7500 - lr: 0.0010\n",
            "Epoch 6/5000\n",
            "70/70 [==============================] - 23s 329ms/step - loss: 172.5308 - mae: 173.0946 - mse: 146362.7500 - val_loss: 822.0703 - val_mae: 849.7536 - val_mse: 1914938.0000 - lr: 0.0010\n",
            "Epoch 7/5000\n",
            "70/70 [==============================] - 24s 337ms/step - loss: 188.2312 - mae: 189.7982 - mse: 151897.8594 - val_loss: 1009.0004 - val_mae: 1018.5963 - val_mse: 2523522.2500 - lr: 0.0010\n",
            "Epoch 8/5000\n",
            "70/70 [==============================] - 24s 345ms/step - loss: 185.7428 - mae: 186.2606 - mse: 148233.0156 - val_loss: 1273.6895 - val_mae: 1276.9064 - val_mse: 3641594.0000 - lr: 0.0010\n",
            "Epoch 9/5000\n",
            "70/70 [==============================] - 24s 345ms/step - loss: 168.6956 - mae: 169.2238 - mse: 116511.0781 - val_loss: 784.6771 - val_mae: 917.1355 - val_mse: 2474701.0000 - lr: 0.0010\n",
            "Epoch 10/5000\n",
            "70/70 [==============================] - 24s 335ms/step - loss: 161.5037 - mae: 162.1851 - mse: 117502.9062 - val_loss: 658.8816 - val_mae: 757.0418 - val_mse: 1826042.6250 - lr: 0.0010\n",
            "Epoch 11/5000\n",
            "70/70 [==============================] - 25s 359ms/step - loss: 145.8907 - mae: 146.8611 - mse: 114877.5234 - val_loss: 589.8642 - val_mae: 657.5286 - val_mse: 1465572.5000 - lr: 0.0010\n",
            "Epoch 12/5000\n",
            "70/70 [==============================] - 24s 345ms/step - loss: 148.3940 - mae: 148.9347 - mse: 114113.2891 - val_loss: 603.9852 - val_mae: 682.9963 - val_mse: 1563531.7500 - lr: 0.0010\n",
            "Epoch 13/5000\n",
            "70/70 [==============================] - 24s 344ms/step - loss: 136.8397 - mae: 137.4728 - mse: 104277.8516 - val_loss: 612.0260 - val_mae: 664.0416 - val_mse: 1404643.6250 - lr: 0.0010\n",
            "Epoch 14/5000\n",
            "70/70 [==============================] - 24s 345ms/step - loss: 138.3464 - mae: 138.9123 - mse: 101523.6016 - val_loss: 765.2376 - val_mae: 882.7917 - val_mse: 2241037.7500 - lr: 0.0010\n",
            "Epoch 15/5000\n",
            "70/70 [==============================] - 24s 347ms/step - loss: 169.3872 - mae: 170.6706 - mse: 128146.8750 - val_loss: 654.7149 - val_mae: 702.6511 - val_mse: 1477688.5000 - lr: 0.0010\n",
            "Epoch 16/5000\n",
            "70/70 [==============================] - 24s 337ms/step - loss: 161.6660 - mae: 163.2864 - mse: 116445.5312 - val_loss: 787.1509 - val_mae: 815.3066 - val_mse: 1794461.6250 - lr: 0.0010\n",
            "Epoch 17/5000\n",
            "70/70 [==============================] - 24s 345ms/step - loss: 205.5338 - mae: 205.8520 - mse: 146172.9375 - val_loss: 1031.2173 - val_mae: 1213.9089 - val_mse: 3973977.0000 - lr: 0.0010\n",
            "Epoch 18/5000\n",
            "70/70 [==============================] - 23s 330ms/step - loss: 180.8110 - mae: 181.6949 - mse: 149858.7344 - val_loss: 599.0269 - val_mae: 675.3301 - val_mse: 1532358.5000 - lr: 0.0010\n",
            "Epoch 19/5000\n",
            "70/70 [==============================] - 24s 342ms/step - loss: 141.2694 - mae: 142.3788 - mse: 116601.9609 - val_loss: 601.9609 - val_mae: 684.1569 - val_mse: 1569337.1250 - lr: 0.0010\n",
            "Epoch 20/5000\n",
            "70/70 [==============================] - 24s 346ms/step - loss: 132.6439 - mae: 133.5921 - mse: 95141.8750 - val_loss: 721.0720 - val_mae: 830.5888 - val_mse: 2043397.3750 - lr: 0.0010\n",
            "Epoch 21/5000\n",
            "70/70 [==============================] - 24s 349ms/step - loss: 148.0267 - mae: 148.6995 - mse: 97256.0078 - val_loss: 577.4863 - val_mae: 652.3314 - val_mse: 1468439.1250 - lr: 0.0010\n",
            "Epoch 22/5000\n",
            "70/70 [==============================] - 24s 337ms/step - loss: 134.0835 - mae: 135.1824 - mse: 93551.0391 - val_loss: 729.9844 - val_mae: 845.5922 - val_mse: 2115084.5000 - lr: 0.0010\n",
            "Epoch 23/5000\n",
            "70/70 [==============================] - 24s 345ms/step - loss: 157.7968 - mae: 160.2121 - mse: 95588.8828 - val_loss: 752.2636 - val_mae: 904.9178 - val_mse: 2596614.7500 - lr: 0.0010\n",
            "Epoch 24/5000\n",
            "70/70 [==============================] - 24s 345ms/step - loss: 181.1599 - mae: 182.1859 - mse: 117890.9688 - val_loss: 739.9058 - val_mae: 859.3764 - val_mse: 2190365.2500 - lr: 0.0010\n",
            "Epoch 25/5000\n",
            "13/70 [====>.........................] - ETA: 17s - loss: 95.0693 - mae: 95.0693 - mse: 11707.8799"
          ]
        },
        {
          "output_type": "error",
          "ename": "KeyboardInterrupt",
          "evalue": "ignored",
          "traceback": [
            "\u001b[0;31m---------------------------------------------------------------------------\u001b[0m",
            "\u001b[0;31mKeyboardInterrupt\u001b[0m                         Traceback (most recent call last)",
            "\u001b[0;32m<ipython-input-141-1a1942769ef0>\u001b[0m in \u001b[0;36m<cell line: 1>\u001b[0;34m()\u001b[0m\n\u001b[0;32m----> 1\u001b[0;31m \u001b[0mmodel_7\u001b[0m\u001b[0;34m.\u001b[0m\u001b[0mfit\u001b[0m\u001b[0;34m(\u001b[0m\u001b[0mtrain_dataset\u001b[0m\u001b[0;34m,\u001b[0m \u001b[0mvalidation_data\u001b[0m\u001b[0;34m=\u001b[0m\u001b[0mtest_dataset\u001b[0m\u001b[0;34m,\u001b[0m \u001b[0mepochs\u001b[0m\u001b[0;34m=\u001b[0m\u001b[0;36m5000\u001b[0m\u001b[0;34m,\u001b[0m \u001b[0mverbose\u001b[0m\u001b[0;34m=\u001b[0m\u001b[0;36m1\u001b[0m\u001b[0;34m,\u001b[0m\u001b[0mcallbacks\u001b[0m\u001b[0;34m=\u001b[0m\u001b[0;34m[\u001b[0m\u001b[0mcallbacks_es\u001b[0m\u001b[0;34m,\u001b[0m \u001b[0mcallback_lrop\u001b[0m\u001b[0;34m]\u001b[0m\u001b[0;34m)\u001b[0m\u001b[0;34m\u001b[0m\u001b[0;34m\u001b[0m\u001b[0m\n\u001b[0m",
            "\u001b[0;32m/usr/local/lib/python3.10/dist-packages/keras/src/utils/traceback_utils.py\u001b[0m in \u001b[0;36merror_handler\u001b[0;34m(*args, **kwargs)\u001b[0m\n\u001b[1;32m     63\u001b[0m         \u001b[0mfiltered_tb\u001b[0m \u001b[0;34m=\u001b[0m \u001b[0;32mNone\u001b[0m\u001b[0;34m\u001b[0m\u001b[0;34m\u001b[0m\u001b[0m\n\u001b[1;32m     64\u001b[0m         \u001b[0;32mtry\u001b[0m\u001b[0;34m:\u001b[0m\u001b[0;34m\u001b[0m\u001b[0;34m\u001b[0m\u001b[0m\n\u001b[0;32m---> 65\u001b[0;31m             \u001b[0;32mreturn\u001b[0m \u001b[0mfn\u001b[0m\u001b[0;34m(\u001b[0m\u001b[0;34m*\u001b[0m\u001b[0margs\u001b[0m\u001b[0;34m,\u001b[0m \u001b[0;34m**\u001b[0m\u001b[0mkwargs\u001b[0m\u001b[0;34m)\u001b[0m\u001b[0;34m\u001b[0m\u001b[0;34m\u001b[0m\u001b[0m\n\u001b[0m\u001b[1;32m     66\u001b[0m         \u001b[0;32mexcept\u001b[0m \u001b[0mException\u001b[0m \u001b[0;32mas\u001b[0m \u001b[0me\u001b[0m\u001b[0;34m:\u001b[0m\u001b[0;34m\u001b[0m\u001b[0;34m\u001b[0m\u001b[0m\n\u001b[1;32m     67\u001b[0m             \u001b[0mfiltered_tb\u001b[0m \u001b[0;34m=\u001b[0m \u001b[0m_process_traceback_frames\u001b[0m\u001b[0;34m(\u001b[0m\u001b[0me\u001b[0m\u001b[0;34m.\u001b[0m\u001b[0m__traceback__\u001b[0m\u001b[0;34m)\u001b[0m\u001b[0;34m\u001b[0m\u001b[0;34m\u001b[0m\u001b[0m\n",
            "\u001b[0;32m/usr/local/lib/python3.10/dist-packages/keras/src/engine/training.py\u001b[0m in \u001b[0;36mfit\u001b[0;34m(self, x, y, batch_size, epochs, verbose, callbacks, validation_split, validation_data, shuffle, class_weight, sample_weight, initial_epoch, steps_per_epoch, validation_steps, validation_batch_size, validation_freq, max_queue_size, workers, use_multiprocessing)\u001b[0m\n\u001b[1;32m   1740\u001b[0m                         ):\n\u001b[1;32m   1741\u001b[0m                             \u001b[0mcallbacks\u001b[0m\u001b[0;34m.\u001b[0m\u001b[0mon_train_batch_begin\u001b[0m\u001b[0;34m(\u001b[0m\u001b[0mstep\u001b[0m\u001b[0;34m)\u001b[0m\u001b[0;34m\u001b[0m\u001b[0;34m\u001b[0m\u001b[0m\n\u001b[0;32m-> 1742\u001b[0;31m                             \u001b[0mtmp_logs\u001b[0m \u001b[0;34m=\u001b[0m \u001b[0mself\u001b[0m\u001b[0;34m.\u001b[0m\u001b[0mtrain_function\u001b[0m\u001b[0;34m(\u001b[0m\u001b[0miterator\u001b[0m\u001b[0;34m)\u001b[0m\u001b[0;34m\u001b[0m\u001b[0;34m\u001b[0m\u001b[0m\n\u001b[0m\u001b[1;32m   1743\u001b[0m                             \u001b[0;32mif\u001b[0m \u001b[0mdata_handler\u001b[0m\u001b[0;34m.\u001b[0m\u001b[0mshould_sync\u001b[0m\u001b[0;34m:\u001b[0m\u001b[0;34m\u001b[0m\u001b[0;34m\u001b[0m\u001b[0m\n\u001b[1;32m   1744\u001b[0m                                 \u001b[0mcontext\u001b[0m\u001b[0;34m.\u001b[0m\u001b[0masync_wait\u001b[0m\u001b[0;34m(\u001b[0m\u001b[0;34m)\u001b[0m\u001b[0;34m\u001b[0m\u001b[0;34m\u001b[0m\u001b[0m\n",
            "\u001b[0;32m/usr/local/lib/python3.10/dist-packages/tensorflow/python/util/traceback_utils.py\u001b[0m in \u001b[0;36merror_handler\u001b[0;34m(*args, **kwargs)\u001b[0m\n\u001b[1;32m    148\u001b[0m     \u001b[0mfiltered_tb\u001b[0m \u001b[0;34m=\u001b[0m \u001b[0;32mNone\u001b[0m\u001b[0;34m\u001b[0m\u001b[0;34m\u001b[0m\u001b[0m\n\u001b[1;32m    149\u001b[0m     \u001b[0;32mtry\u001b[0m\u001b[0;34m:\u001b[0m\u001b[0;34m\u001b[0m\u001b[0;34m\u001b[0m\u001b[0m\n\u001b[0;32m--> 150\u001b[0;31m       \u001b[0;32mreturn\u001b[0m \u001b[0mfn\u001b[0m\u001b[0;34m(\u001b[0m\u001b[0;34m*\u001b[0m\u001b[0margs\u001b[0m\u001b[0;34m,\u001b[0m \u001b[0;34m**\u001b[0m\u001b[0mkwargs\u001b[0m\u001b[0;34m)\u001b[0m\u001b[0;34m\u001b[0m\u001b[0;34m\u001b[0m\u001b[0m\n\u001b[0m\u001b[1;32m    151\u001b[0m     \u001b[0;32mexcept\u001b[0m \u001b[0mException\u001b[0m \u001b[0;32mas\u001b[0m \u001b[0me\u001b[0m\u001b[0;34m:\u001b[0m\u001b[0;34m\u001b[0m\u001b[0;34m\u001b[0m\u001b[0m\n\u001b[1;32m    152\u001b[0m       \u001b[0mfiltered_tb\u001b[0m \u001b[0;34m=\u001b[0m \u001b[0m_process_traceback_frames\u001b[0m\u001b[0;34m(\u001b[0m\u001b[0me\u001b[0m\u001b[0;34m.\u001b[0m\u001b[0m__traceback__\u001b[0m\u001b[0;34m)\u001b[0m\u001b[0;34m\u001b[0m\u001b[0;34m\u001b[0m\u001b[0m\n",
            "\u001b[0;32m/usr/local/lib/python3.10/dist-packages/tensorflow/python/eager/polymorphic_function/polymorphic_function.py\u001b[0m in \u001b[0;36m__call__\u001b[0;34m(self, *args, **kwds)\u001b[0m\n\u001b[1;32m    823\u001b[0m \u001b[0;34m\u001b[0m\u001b[0m\n\u001b[1;32m    824\u001b[0m       \u001b[0;32mwith\u001b[0m \u001b[0mOptionalXlaContext\u001b[0m\u001b[0;34m(\u001b[0m\u001b[0mself\u001b[0m\u001b[0;34m.\u001b[0m\u001b[0m_jit_compile\u001b[0m\u001b[0;34m)\u001b[0m\u001b[0;34m:\u001b[0m\u001b[0;34m\u001b[0m\u001b[0;34m\u001b[0m\u001b[0m\n\u001b[0;32m--> 825\u001b[0;31m         \u001b[0mresult\u001b[0m \u001b[0;34m=\u001b[0m \u001b[0mself\u001b[0m\u001b[0;34m.\u001b[0m\u001b[0m_call\u001b[0m\u001b[0;34m(\u001b[0m\u001b[0;34m*\u001b[0m\u001b[0margs\u001b[0m\u001b[0;34m,\u001b[0m \u001b[0;34m**\u001b[0m\u001b[0mkwds\u001b[0m\u001b[0;34m)\u001b[0m\u001b[0;34m\u001b[0m\u001b[0;34m\u001b[0m\u001b[0m\n\u001b[0m\u001b[1;32m    826\u001b[0m \u001b[0;34m\u001b[0m\u001b[0m\n\u001b[1;32m    827\u001b[0m       \u001b[0mnew_tracing_count\u001b[0m \u001b[0;34m=\u001b[0m \u001b[0mself\u001b[0m\u001b[0;34m.\u001b[0m\u001b[0mexperimental_get_tracing_count\u001b[0m\u001b[0;34m(\u001b[0m\u001b[0;34m)\u001b[0m\u001b[0;34m\u001b[0m\u001b[0;34m\u001b[0m\u001b[0m\n",
            "\u001b[0;32m/usr/local/lib/python3.10/dist-packages/tensorflow/python/eager/polymorphic_function/polymorphic_function.py\u001b[0m in \u001b[0;36m_call\u001b[0;34m(self, *args, **kwds)\u001b[0m\n\u001b[1;32m    855\u001b[0m       \u001b[0;31m# In this case we have created variables on the first call, so we run the\u001b[0m\u001b[0;34m\u001b[0m\u001b[0;34m\u001b[0m\u001b[0m\n\u001b[1;32m    856\u001b[0m       \u001b[0;31m# defunned version which is guaranteed to never create variables.\u001b[0m\u001b[0;34m\u001b[0m\u001b[0;34m\u001b[0m\u001b[0m\n\u001b[0;32m--> 857\u001b[0;31m       \u001b[0;32mreturn\u001b[0m \u001b[0mself\u001b[0m\u001b[0;34m.\u001b[0m\u001b[0m_no_variable_creation_fn\u001b[0m\u001b[0;34m(\u001b[0m\u001b[0;34m*\u001b[0m\u001b[0margs\u001b[0m\u001b[0;34m,\u001b[0m \u001b[0;34m**\u001b[0m\u001b[0mkwds\u001b[0m\u001b[0;34m)\u001b[0m  \u001b[0;31m# pylint: disable=not-callable\u001b[0m\u001b[0;34m\u001b[0m\u001b[0;34m\u001b[0m\u001b[0m\n\u001b[0m\u001b[1;32m    858\u001b[0m     \u001b[0;32melif\u001b[0m \u001b[0mself\u001b[0m\u001b[0;34m.\u001b[0m\u001b[0m_variable_creation_fn\u001b[0m \u001b[0;32mis\u001b[0m \u001b[0;32mnot\u001b[0m \u001b[0;32mNone\u001b[0m\u001b[0;34m:\u001b[0m\u001b[0;34m\u001b[0m\u001b[0;34m\u001b[0m\u001b[0m\n\u001b[1;32m    859\u001b[0m       \u001b[0;31m# Release the lock early so that multiple threads can perform the call\u001b[0m\u001b[0;34m\u001b[0m\u001b[0;34m\u001b[0m\u001b[0m\n",
            "\u001b[0;32m/usr/local/lib/python3.10/dist-packages/tensorflow/python/eager/polymorphic_function/tracing_compiler.py\u001b[0m in \u001b[0;36m__call__\u001b[0;34m(self, *args, **kwargs)\u001b[0m\n\u001b[1;32m    146\u001b[0m       (concrete_function,\n\u001b[1;32m    147\u001b[0m        filtered_flat_args) = self._maybe_define_function(args, kwargs)\n\u001b[0;32m--> 148\u001b[0;31m     return concrete_function._call_flat(\n\u001b[0m\u001b[1;32m    149\u001b[0m         filtered_flat_args, captured_inputs=concrete_function.captured_inputs)  # pylint: disable=protected-access\n\u001b[1;32m    150\u001b[0m \u001b[0;34m\u001b[0m\u001b[0m\n",
            "\u001b[0;32m/usr/local/lib/python3.10/dist-packages/tensorflow/python/eager/polymorphic_function/monomorphic_function.py\u001b[0m in \u001b[0;36m_call_flat\u001b[0;34m(self, args, captured_inputs)\u001b[0m\n\u001b[1;32m   1347\u001b[0m         and executing_eagerly):\n\u001b[1;32m   1348\u001b[0m       \u001b[0;31m# No tape is watching; skip to running the function.\u001b[0m\u001b[0;34m\u001b[0m\u001b[0;34m\u001b[0m\u001b[0m\n\u001b[0;32m-> 1349\u001b[0;31m       \u001b[0;32mreturn\u001b[0m \u001b[0mself\u001b[0m\u001b[0;34m.\u001b[0m\u001b[0m_build_call_outputs\u001b[0m\u001b[0;34m(\u001b[0m\u001b[0mself\u001b[0m\u001b[0;34m.\u001b[0m\u001b[0m_inference_function\u001b[0m\u001b[0;34m(\u001b[0m\u001b[0;34m*\u001b[0m\u001b[0margs\u001b[0m\u001b[0;34m)\u001b[0m\u001b[0;34m)\u001b[0m\u001b[0;34m\u001b[0m\u001b[0;34m\u001b[0m\u001b[0m\n\u001b[0m\u001b[1;32m   1350\u001b[0m     forward_backward = self._select_forward_and_backward_functions(\n\u001b[1;32m   1351\u001b[0m         \u001b[0margs\u001b[0m\u001b[0;34m,\u001b[0m\u001b[0;34m\u001b[0m\u001b[0;34m\u001b[0m\u001b[0m\n",
            "\u001b[0;32m/usr/local/lib/python3.10/dist-packages/tensorflow/python/eager/polymorphic_function/atomic_function.py\u001b[0m in \u001b[0;36m__call__\u001b[0;34m(self, *args)\u001b[0m\n\u001b[1;32m    194\u001b[0m         \u001b[0;32mwith\u001b[0m \u001b[0mrecord\u001b[0m\u001b[0;34m.\u001b[0m\u001b[0mstop_recording\u001b[0m\u001b[0;34m(\u001b[0m\u001b[0;34m)\u001b[0m\u001b[0;34m:\u001b[0m\u001b[0;34m\u001b[0m\u001b[0;34m\u001b[0m\u001b[0m\n\u001b[1;32m    195\u001b[0m           \u001b[0;32mif\u001b[0m \u001b[0mself\u001b[0m\u001b[0;34m.\u001b[0m\u001b[0m_bound_context\u001b[0m\u001b[0;34m.\u001b[0m\u001b[0mexecuting_eagerly\u001b[0m\u001b[0;34m(\u001b[0m\u001b[0;34m)\u001b[0m\u001b[0;34m:\u001b[0m\u001b[0;34m\u001b[0m\u001b[0;34m\u001b[0m\u001b[0m\n\u001b[0;32m--> 196\u001b[0;31m             outputs = self._bound_context.call_function(\n\u001b[0m\u001b[1;32m    197\u001b[0m                 \u001b[0mself\u001b[0m\u001b[0;34m.\u001b[0m\u001b[0mname\u001b[0m\u001b[0;34m,\u001b[0m\u001b[0;34m\u001b[0m\u001b[0;34m\u001b[0m\u001b[0m\n\u001b[1;32m    198\u001b[0m                 \u001b[0mlist\u001b[0m\u001b[0;34m(\u001b[0m\u001b[0margs\u001b[0m\u001b[0;34m)\u001b[0m\u001b[0;34m,\u001b[0m\u001b[0;34m\u001b[0m\u001b[0;34m\u001b[0m\u001b[0m\n",
            "\u001b[0;32m/usr/local/lib/python3.10/dist-packages/tensorflow/python/eager/context.py\u001b[0m in \u001b[0;36mcall_function\u001b[0;34m(self, name, tensor_inputs, num_outputs)\u001b[0m\n\u001b[1;32m   1455\u001b[0m     \u001b[0mcancellation_context\u001b[0m \u001b[0;34m=\u001b[0m \u001b[0mcancellation\u001b[0m\u001b[0;34m.\u001b[0m\u001b[0mcontext\u001b[0m\u001b[0;34m(\u001b[0m\u001b[0;34m)\u001b[0m\u001b[0;34m\u001b[0m\u001b[0;34m\u001b[0m\u001b[0m\n\u001b[1;32m   1456\u001b[0m     \u001b[0;32mif\u001b[0m \u001b[0mcancellation_context\u001b[0m \u001b[0;32mis\u001b[0m \u001b[0;32mNone\u001b[0m\u001b[0;34m:\u001b[0m\u001b[0;34m\u001b[0m\u001b[0;34m\u001b[0m\u001b[0m\n\u001b[0;32m-> 1457\u001b[0;31m       outputs = execute.execute(\n\u001b[0m\u001b[1;32m   1458\u001b[0m           \u001b[0mname\u001b[0m\u001b[0;34m.\u001b[0m\u001b[0mdecode\u001b[0m\u001b[0;34m(\u001b[0m\u001b[0;34m\"utf-8\"\u001b[0m\u001b[0;34m)\u001b[0m\u001b[0;34m,\u001b[0m\u001b[0;34m\u001b[0m\u001b[0;34m\u001b[0m\u001b[0m\n\u001b[1;32m   1459\u001b[0m           \u001b[0mnum_outputs\u001b[0m\u001b[0;34m=\u001b[0m\u001b[0mnum_outputs\u001b[0m\u001b[0;34m,\u001b[0m\u001b[0;34m\u001b[0m\u001b[0;34m\u001b[0m\u001b[0m\n",
            "\u001b[0;32m/usr/local/lib/python3.10/dist-packages/tensorflow/python/eager/execute.py\u001b[0m in \u001b[0;36mquick_execute\u001b[0;34m(op_name, num_outputs, inputs, attrs, ctx, name)\u001b[0m\n\u001b[1;32m     51\u001b[0m   \u001b[0;32mtry\u001b[0m\u001b[0;34m:\u001b[0m\u001b[0;34m\u001b[0m\u001b[0;34m\u001b[0m\u001b[0m\n\u001b[1;32m     52\u001b[0m     \u001b[0mctx\u001b[0m\u001b[0;34m.\u001b[0m\u001b[0mensure_initialized\u001b[0m\u001b[0;34m(\u001b[0m\u001b[0;34m)\u001b[0m\u001b[0;34m\u001b[0m\u001b[0;34m\u001b[0m\u001b[0m\n\u001b[0;32m---> 53\u001b[0;31m     tensors = pywrap_tfe.TFE_Py_Execute(ctx._handle, device_name, op_name,\n\u001b[0m\u001b[1;32m     54\u001b[0m                                         inputs, attrs, num_outputs)\n\u001b[1;32m     55\u001b[0m   \u001b[0;32mexcept\u001b[0m \u001b[0mcore\u001b[0m\u001b[0;34m.\u001b[0m\u001b[0m_NotOkStatusException\u001b[0m \u001b[0;32mas\u001b[0m \u001b[0me\u001b[0m\u001b[0;34m:\u001b[0m\u001b[0;34m\u001b[0m\u001b[0;34m\u001b[0m\u001b[0m\n",
            "\u001b[0;31mKeyboardInterrupt\u001b[0m: "
          ]
        }
      ]
    },
    {
      "cell_type": "code",
      "source": [
        "model_7.evaluate(test_dataset)"
      ],
      "metadata": {
        "id": "Xgv3S_JWqr4e"
      },
      "execution_count": null,
      "outputs": []
    },
    {
      "cell_type": "code",
      "source": [
        "preds=model_7.predict(test_dataset)"
      ],
      "metadata": {
        "id": "IPJiT0mFBCVs"
      },
      "execution_count": null,
      "outputs": []
    },
    {
      "cell_type": "code",
      "source": [
        "preds.shape"
      ],
      "metadata": {
        "id": "MxIeQOWNBH54"
      },
      "execution_count": null,
      "outputs": []
    },
    {
      "cell_type": "code",
      "source": [],
      "metadata": {
        "id": "Q_YP9DshBRwn"
      },
      "execution_count": null,
      "outputs": []
    },
    {
      "cell_type": "code",
      "source": [
        "plt.plot(preds)\n",
        "plt.plot(y_test)"
      ],
      "metadata": {
        "id": "vTUOLZpQBJWp"
      },
      "execution_count": null,
      "outputs": []
    },
    {
      "cell_type": "code",
      "source": [
        "#Ensembling\n",
        "#constructing ensemble of models"
      ],
      "metadata": {
        "id": "UVNq9FMvBM4W"
      },
      "execution_count": null,
      "outputs": []
    },
    {
      "cell_type": "code",
      "source": [
        "HORIZON"
      ],
      "metadata": {
        "id": "0U8hdxqyMwDX"
      },
      "execution_count": null,
      "outputs": []
    },
    {
      "cell_type": "code",
      "source": [
        "def get_ensemble_models(horizon=HORIZON,\n",
        "                        train_data=train_dataset,\n",
        "                        test_data=test_dataset,\n",
        "                        num_iter=10,\n",
        "                        num_epochs=1000,\n",
        "                        loss_fns=[\"mae\",\"mse\",\"mape\"]):\n",
        "  \"\"\"\n",
        "  Returns a list of num_ter models each trained on MAE, MSE, and MAPE loss\n",
        "\n",
        "  For example, if num_iter=10 a list of 30 models will be returned\n",
        "  \"\"\"\n",
        "  ensemble_models=[]\n",
        "  #create num_iter number of models per loss function\n",
        "  for i in range(num_iter):\n",
        "    #build and fit a new model with a different loss function\n",
        "    for loss_function in loss_fns:\n",
        "      print(f'optimizing model by reducing {loss_function} for {num_epochs} epochs , model_number: {i}')\n",
        "      #construct a simple model (similar to model_1)\n",
        "      model=tf.keras.Sequential([\n",
        "          tf.keras.layers.Dense(128, kernel_initializer='he_normal' ,activation='relu'),\n",
        "          tf.keras.layers.Dense(128,  kernel_initializer='he_normal',activation='relu'),\n",
        "          tf.keras.layers.Dense(HORIZON)\n",
        "      ])\n",
        "\n",
        "      model.compile(loss=loss_function, optimizer=tf.keras.optimizers.Adam(), metrics=['mae','mse'])\n",
        "\n",
        "      model.fit(train_data, epochs=num_epochs, validation_data=test_data, verbose=0,callbacks=[tf.keras.callbacks.EarlyStopping(monitor=\"val_loss\",\n",
        "                                                                                                                      patience=200,\n",
        "                                                                                                                      restore_best_weights=True),\n",
        "                                                                                     tf.keras.callbacks.ReduceLROnPlateau(monitor='val_loss',\n",
        "                                                                                                                          patience=100,verbose=1)])\n",
        "      ensemble_models.append(model)\n",
        "\n",
        "  return ensemble_models"
      ],
      "metadata": {
        "id": "mULFaXC9MZD2"
      },
      "execution_count": null,
      "outputs": []
    },
    {
      "cell_type": "code",
      "source": [
        "ensemble_models=get_ensemble_models(num_iter=5, num_epochs=1000)"
      ],
      "metadata": {
        "colab": {
          "base_uri": "https://localhost:8080/"
        },
        "id": "Cvh_MHFEtlzb",
        "outputId": "f14327d0-b37a-4d85-f270-c70b885ce6c7"
      },
      "execution_count": null,
      "outputs": [
        {
          "output_type": "stream",
          "name": "stdout",
          "text": [
            "optimizing model by reducing mae for 1000 epochs , model_number: 0\n",
            "\n",
            "Epoch 282: ReduceLROnPlateau reducing learning rate to 0.00010000000474974513.\n",
            "\n",
            "Epoch 449: ReduceLROnPlateau reducing learning rate to 1.0000000474974514e-05.\n",
            "\n",
            "Epoch 549: ReduceLROnPlateau reducing learning rate to 1.0000000656873453e-06.\n",
            "optimizing model by reducing mse for 1000 epochs , model_number: 0\n",
            "\n",
            "Epoch 109: ReduceLROnPlateau reducing learning rate to 0.00010000000474974513.\n",
            "\n",
            "Epoch 220: ReduceLROnPlateau reducing learning rate to 1.0000000474974514e-05.\n",
            "\n",
            "Epoch 320: ReduceLROnPlateau reducing learning rate to 1.0000000656873453e-06.\n",
            "optimizing model by reducing mape for 1000 epochs , model_number: 0\n",
            "\n",
            "Epoch 141: ReduceLROnPlateau reducing learning rate to 0.00010000000474974513.\n",
            "\n",
            "Epoch 241: ReduceLROnPlateau reducing learning rate to 1.0000000474974514e-05.\n",
            "optimizing model by reducing mae for 1000 epochs , model_number: 1\n",
            "\n",
            "Epoch 148: ReduceLROnPlateau reducing learning rate to 0.00010000000474974513.\n",
            "\n",
            "Epoch 248: ReduceLROnPlateau reducing learning rate to 1.0000000474974514e-05.\n",
            "optimizing model by reducing mse for 1000 epochs , model_number: 1\n",
            "\n",
            "Epoch 142: ReduceLROnPlateau reducing learning rate to 0.00010000000474974513.\n",
            "\n",
            "Epoch 269: ReduceLROnPlateau reducing learning rate to 1.0000000474974514e-05.\n",
            "\n",
            "Epoch 369: ReduceLROnPlateau reducing learning rate to 1.0000000656873453e-06.\n",
            "optimizing model by reducing mape for 1000 epochs , model_number: 1\n",
            "\n",
            "Epoch 154: ReduceLROnPlateau reducing learning rate to 0.00010000000474974513.\n",
            "\n",
            "Epoch 254: ReduceLROnPlateau reducing learning rate to 1.0000000474974514e-05.\n",
            "optimizing model by reducing mae for 1000 epochs , model_number: 2\n",
            "\n",
            "Epoch 299: ReduceLROnPlateau reducing learning rate to 0.00010000000474974513.\n",
            "\n",
            "Epoch 399: ReduceLROnPlateau reducing learning rate to 1.0000000474974514e-05.\n",
            "optimizing model by reducing mse for 1000 epochs , model_number: 2\n",
            "\n",
            "Epoch 106: ReduceLROnPlateau reducing learning rate to 0.00010000000474974513.\n",
            "\n",
            "Epoch 270: ReduceLROnPlateau reducing learning rate to 1.0000000474974514e-05.\n",
            "\n",
            "Epoch 370: ReduceLROnPlateau reducing learning rate to 1.0000000656873453e-06.\n",
            "optimizing model by reducing mape for 1000 epochs , model_number: 2\n",
            "\n",
            "Epoch 145: ReduceLROnPlateau reducing learning rate to 0.00010000000474974513.\n",
            "\n",
            "Epoch 245: ReduceLROnPlateau reducing learning rate to 1.0000000474974514e-05.\n",
            "optimizing model by reducing mae for 1000 epochs , model_number: 3\n",
            "\n",
            "Epoch 154: ReduceLROnPlateau reducing learning rate to 0.00010000000474974513.\n",
            "\n",
            "Epoch 256: ReduceLROnPlateau reducing learning rate to 1.0000000474974514e-05.\n",
            "\n",
            "Epoch 358: ReduceLROnPlateau reducing learning rate to 1.0000000656873453e-06.\n",
            "\n",
            "Epoch 458: ReduceLROnPlateau reducing learning rate to 1.0000001111620805e-07.\n",
            "optimizing model by reducing mse for 1000 epochs , model_number: 3\n",
            "\n",
            "Epoch 103: ReduceLROnPlateau reducing learning rate to 0.00010000000474974513.\n",
            "\n",
            "Epoch 226: ReduceLROnPlateau reducing learning rate to 1.0000000474974514e-05.\n",
            "\n",
            "Epoch 351: ReduceLROnPlateau reducing learning rate to 1.0000000656873453e-06.\n",
            "\n",
            "Epoch 451: ReduceLROnPlateau reducing learning rate to 1.0000001111620805e-07.\n",
            "optimizing model by reducing mape for 1000 epochs , model_number: 3\n",
            "\n",
            "Epoch 110: ReduceLROnPlateau reducing learning rate to 0.00010000000474974513.\n",
            "\n",
            "Epoch 210: ReduceLROnPlateau reducing learning rate to 1.0000000474974514e-05.\n",
            "optimizing model by reducing mae for 1000 epochs , model_number: 4\n",
            "\n",
            "Epoch 316: ReduceLROnPlateau reducing learning rate to 0.00010000000474974513.\n",
            "\n",
            "Epoch 416: ReduceLROnPlateau reducing learning rate to 1.0000000474974514e-05.\n",
            "optimizing model by reducing mse for 1000 epochs , model_number: 4\n",
            "\n",
            "Epoch 139: ReduceLROnPlateau reducing learning rate to 0.00010000000474974513.\n",
            "\n",
            "Epoch 285: ReduceLROnPlateau reducing learning rate to 1.0000000474974514e-05.\n",
            "\n",
            "Epoch 385: ReduceLROnPlateau reducing learning rate to 1.0000000656873453e-06.\n",
            "optimizing model by reducing mape for 1000 epochs , model_number: 4\n",
            "\n",
            "Epoch 115: ReduceLROnPlateau reducing learning rate to 0.00010000000474974513.\n",
            "\n",
            "Epoch 215: ReduceLROnPlateau reducing learning rate to 1.0000000474974514e-05.\n"
          ]
        }
      ]
    },
    {
      "cell_type": "code",
      "source": [
        "#make prediction with ensemble models\n",
        "\n",
        "def make_ensemble_preds(ensemble_models, data):\n",
        "  ensemble_preds=[]\n",
        "  for model in ensemble_models:\n",
        "    preds=model.predict(data)\n",
        "    ensemble_preds.append(preds)\n",
        "  return tf.constant(tf.squeeze(ensemble_preds))\n",
        "\n",
        "\n"
      ],
      "metadata": {
        "id": "QO-N1PlntyDT"
      },
      "execution_count": null,
      "outputs": []
    },
    {
      "cell_type": "code",
      "source": [
        "ensemble_preds=make_ensemble_preds(ensemble_models=ensemble_models, data=test_dataset)"
      ],
      "metadata": {
        "colab": {
          "base_uri": "https://localhost:8080/"
        },
        "id": "HDkl4dxaHpUm",
        "outputId": "1572a78f-cb49-4936-a62e-55a6ed425933"
      },
      "execution_count": null,
      "outputs": [
        {
          "output_type": "stream",
          "name": "stdout",
          "text": [
            "18/18 [==============================] - 0s 2ms/step\n",
            "18/18 [==============================] - 0s 1ms/step\n",
            "18/18 [==============================] - 0s 3ms/step\n",
            "18/18 [==============================] - 0s 2ms/step\n",
            "18/18 [==============================] - 0s 2ms/step\n",
            "18/18 [==============================] - 0s 2ms/step\n",
            "18/18 [==============================] - 0s 2ms/step\n",
            "18/18 [==============================] - 0s 2ms/step\n",
            "18/18 [==============================] - 0s 2ms/step\n",
            "18/18 [==============================] - 0s 2ms/step\n",
            "18/18 [==============================] - 0s 2ms/step\n",
            "18/18 [==============================] - 0s 2ms/step\n",
            "18/18 [==============================] - 0s 2ms/step\n",
            "18/18 [==============================] - 0s 2ms/step\n",
            "18/18 [==============================] - 0s 2ms/step\n"
          ]
        }
      ]
    },
    {
      "cell_type": "code",
      "source": [
        "ensemble_preds.shape"
      ],
      "metadata": {
        "colab": {
          "base_uri": "https://localhost:8080/"
        },
        "id": "oC31HgcvH0ul",
        "outputId": "5bf639cc-d3fb-4c73-c4be-42305cf0a82a"
      },
      "execution_count": null,
      "outputs": [
        {
          "output_type": "execute_result",
          "data": {
            "text/plain": [
              "TensorShape([15, 551])"
            ]
          },
          "metadata": {},
          "execution_count": 146
        }
      ]
    },
    {
      "cell_type": "code",
      "source": [
        "mean_preds=tf.reduce_mean(ensemble_preds, axis=0)"
      ],
      "metadata": {
        "id": "TR7_oQ3HH6FQ"
      },
      "execution_count": null,
      "outputs": []
    },
    {
      "cell_type": "code",
      "source": [
        "tf.keras.metrics.mean_absolute_error(mean_preds, y_test)"
      ],
      "metadata": {
        "colab": {
          "base_uri": "https://localhost:8080/"
        },
        "id": "IL_ov4xYPUkZ",
        "outputId": "522460d1-ade3-4d29-cee9-b7462ccf547b"
      },
      "execution_count": null,
      "outputs": [
        {
          "output_type": "execute_result",
          "data": {
            "text/plain": [
              "<tf.Tensor: shape=(), dtype=float64, numpy=571.2481145781449>"
            ]
          },
          "metadata": {},
          "execution_count": 148
        }
      ]
    },
    {
      "cell_type": "code",
      "source": [
        "#range predictions model\n",
        "def upper_lower(preds):\n",
        "  std=tf.math.reduce_std(preds,axis=0)\n",
        "  interval=1.96*std\n",
        "  preds_mean=tf.reduce_mean(preds, axis=0)\n",
        "\n",
        "  lower,upper=preds_mean-interval, preds_mean+interval\n",
        "\n",
        "  return lower,upper\n"
      ],
      "metadata": {
        "id": "diAoMjZCcmUk"
      },
      "execution_count": null,
      "outputs": []
    },
    {
      "cell_type": "code",
      "source": [],
      "metadata": {
        "id": "zfRpaZShghh_"
      },
      "execution_count": null,
      "outputs": []
    }
  ]
}