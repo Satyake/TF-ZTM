{
  "nbformat": 4,
  "nbformat_minor": 0,
  "metadata": {
    "colab": {
      "provenance": [],
      "authorship_tag": "ABX9TyPaG7heGdtNexDlXIJh5qij",
      "include_colab_link": true
    },
    "kernelspec": {
      "name": "python3",
      "display_name": "Python 3"
    },
    "language_info": {
      "name": "python"
    }
  },
  "cells": [
    {
      "cell_type": "markdown",
      "metadata": {
        "id": "view-in-github",
        "colab_type": "text"
      },
      "source": [
        "<a href=\"https://colab.research.google.com/github/Satyake/TF-ZTM/blob/main/Siamese_Network_Direct_Classification_with_Sigmoid.ipynb\" target=\"_parent\"><img src=\"https://colab.research.google.com/assets/colab-badge.svg\" alt=\"Open In Colab\"/></a>"
      ]
    },
    {
      "cell_type": "code",
      "execution_count": 61,
      "metadata": {
        "id": "QNo9j4SKAA3n"
      },
      "outputs": [],
      "source": [
        "import tensorflow as tf\n",
        "import numpy as np\n",
        "import keras\n",
        "from keras import backend as K"
      ]
    },
    {
      "cell_type": "code",
      "source": [
        "(x_train1,y_train1),(x_test1,y_test1)=tf.keras.datasets.mnist.load_data()\n",
        "x_train1=x_train1.astype('float32')\n",
        "x_test1=x_test1.astype('float32')\n",
        "\n",
        "x_train1=x_train1/255.0\n",
        "x_test1=x_test1/255.0"
      ],
      "metadata": {
        "id": "5N5zXj1nDjpb"
      },
      "execution_count": 62,
      "outputs": []
    },
    {
      "cell_type": "code",
      "source": [
        "#(x_train2,y_train2),(x_test2,y_test2)=tf.keras.datasets.mnist.load_data()"
      ],
      "metadata": {
        "id": "KtybGdpNGSR0"
      },
      "execution_count": 63,
      "outputs": []
    },
    {
      "cell_type": "code",
      "source": [
        "#x_train1.shape"
      ],
      "metadata": {
        "id": "Sm3BlOn2D3Y1"
      },
      "execution_count": 64,
      "outputs": []
    },
    {
      "cell_type": "code",
      "source": [
        "x_train1.shape"
      ],
      "metadata": {
        "colab": {
          "base_uri": "https://localhost:8080/"
        },
        "id": "cCBmYQ4HGhWC",
        "outputId": "faac3063-99ee-421b-ecd2-280c4eacbabb"
      },
      "execution_count": 65,
      "outputs": [
        {
          "output_type": "execute_result",
          "data": {
            "text/plain": [
              "(60000, 28, 28)"
            ]
          },
          "metadata": {},
          "execution_count": 65
        }
      ]
    },
    {
      "cell_type": "code",
      "source": [
        "x_test1.shape"
      ],
      "metadata": {
        "colab": {
          "base_uri": "https://localhost:8080/"
        },
        "id": "qZyor4O28wYm",
        "outputId": "50d37cd5-f16d-4df1-9c47-98ac88c9ed00"
      },
      "execution_count": 66,
      "outputs": [
        {
          "output_type": "execute_result",
          "data": {
            "text/plain": [
              "(10000, 28, 28)"
            ]
          },
          "metadata": {},
          "execution_count": 66
        }
      ]
    },
    {
      "cell_type": "code",
      "source": [
        "y_test1.shape"
      ],
      "metadata": {
        "colab": {
          "base_uri": "https://localhost:8080/"
        },
        "id": "fq3ek8E2FkgG",
        "outputId": "c7b71949-6e3d-4ca1-8572-62fb3c1bef89"
      },
      "execution_count": 67,
      "outputs": [
        {
          "output_type": "execute_result",
          "data": {
            "text/plain": [
              "(10000,)"
            ]
          },
          "metadata": {},
          "execution_count": 67
        }
      ]
    },
    {
      "cell_type": "code",
      "source": [
        "y_test1.shape"
      ],
      "metadata": {
        "colab": {
          "base_uri": "https://localhost:8080/"
        },
        "id": "ZxzFbW6zHxXP",
        "outputId": "535016b0-c42a-4b27-b859-b49f1c900e89"
      },
      "execution_count": 68,
      "outputs": [
        {
          "output_type": "execute_result",
          "data": {
            "text/plain": [
              "(10000,)"
            ]
          },
          "metadata": {},
          "execution_count": 68
        }
      ]
    },
    {
      "cell_type": "code",
      "source": [
        "#y_train1=y_train1.squeeze()"
      ],
      "metadata": {
        "id": "75bB24W_H9Rp"
      },
      "execution_count": 69,
      "outputs": []
    },
    {
      "cell_type": "code",
      "source": [
        "#y_test1=y_test1.squeeze()"
      ],
      "metadata": {
        "id": "HOWFY_3pIbls"
      },
      "execution_count": 70,
      "outputs": []
    },
    {
      "cell_type": "code",
      "source": [
        "#y_train1.shape"
      ],
      "metadata": {
        "id": "1to4jzdLIDfe"
      },
      "execution_count": 71,
      "outputs": []
    },
    {
      "cell_type": "code",
      "source": [],
      "metadata": {
        "id": "W4Mx_SPTarRk"
      },
      "execution_count": 71,
      "outputs": []
    },
    {
      "cell_type": "code",
      "source": [
        "def generate_pairs(x,y):  #for colored\n",
        "  pairs=[]\n",
        "  labels=[]\n",
        "  classes=max(y)[0]+1\n",
        "  indices=[np.where(y==i)[0] for i in range(classes)]\n",
        "  for idx in range(len(x)):\n",
        "    x1=x[idx]\n",
        "    label=y[idx]\n",
        "    idx2=np.random.choice(indices[label[0]])\n",
        "    x2=x[idx2]\n",
        "    pairs+=[[x1,x2]]\n",
        "    labels+=[1]\n",
        "    label2=np.random.randint(0,classes-1)\n",
        "    while label2==label[0]:\n",
        "      label2=np.random.randint(0,classes-1)\n",
        "    idx2=np.random.choice(indices[label2])\n",
        "    x2=x[idx2]\n",
        "    pairs+=[[x1,x2]]\n",
        "    labels+=[0]\n",
        "  return np.array(pairs), np.array(labels)\n",
        "\n",
        "def generate_pairs_g(x,y):   #for grayscale\n",
        "  pairs=[]\n",
        "  labels=[]\n",
        "  classes=max(y)+1\n",
        "  indices=[np.where(y==i)[0] for i in range(classes)]\n",
        "  for idx in range(len(x)):\n",
        "    x1=x[idx]\n",
        "    label=y[idx]\n",
        "    idx2=np.random.choice(indices[label])\n",
        "    x2=x[idx2]\n",
        "    pairs+=[[x1,x2]]\n",
        "    labels+=[1]\n",
        "    label2=np.random.randint(0,classes-1)\n",
        "    while label2==label:\n",
        "      label2=np.random.randint(0,classes-1)\n",
        "    idx2=np.random.choice(indices[label2])\n",
        "    x2=x[idx2]\n",
        "    pairs+=[[x1,x2]]\n",
        "    labels+=[0]\n",
        "  return np.array(pairs), np.array(labels)"
      ],
      "metadata": {
        "id": "u0oTxZ-hD5uQ"
      },
      "execution_count": 72,
      "outputs": []
    },
    {
      "cell_type": "code",
      "source": [
        "import random\n"
      ],
      "metadata": {
        "id": "W3AZB6emboln"
      },
      "execution_count": 73,
      "outputs": []
    },
    {
      "cell_type": "code",
      "source": [
        "#classes=max(y_train1)[0]+1\n",
        "#indices=[np.where(y_train1==i)[0] for i in range(classes)]\n",
        "#pairs=[]\n",
        "#labels=[]\n",
        "#for idx in range(len(x_train1)):\n",
        "#  x1=x_train1[idx]\n",
        "#  idx2=np.random.choice(indices[label[0]])\n",
        "  #x2=x_train1[idx2]\n",
        "  #pairs+=[[x1,x2]]\n",
        "  #label2=np.random.randint(0,classes-1)\n",
        "  #print(label2)\n",
        "  #while label2==label[0]:\n",
        "  #  label2=random.randint(0,classes-1)\n",
        "#  print(idx2)"
      ],
      "metadata": {
        "id": "wHcYKf20UJEY"
      },
      "execution_count": 74,
      "outputs": []
    },
    {
      "cell_type": "code",
      "source": [],
      "metadata": {
        "id": "xR5QFKa2bTKj"
      },
      "execution_count": 74,
      "outputs": []
    },
    {
      "cell_type": "code",
      "source": [
        "x_train=x_train1.reshape(x_train1.shape[0],28,28,1)\n",
        "x_test=x_test1.reshape(x_test1.shape[0],28,28,1)"
      ],
      "metadata": {
        "id": "Om4pUEHNE_sc"
      },
      "execution_count": 75,
      "outputs": []
    },
    {
      "cell_type": "code",
      "source": [
        "#x_train=x_train2.reshape(x_train2.shape[0],28,28,1)\n",
        "#x_test=x_test2.reshape(x_test2.shape[0],28,28,1)"
      ],
      "metadata": {
        "id": "uezO1lJBL1QK"
      },
      "execution_count": 76,
      "outputs": []
    },
    {
      "cell_type": "code",
      "source": [
        "x_train.shape"
      ],
      "metadata": {
        "colab": {
          "base_uri": "https://localhost:8080/"
        },
        "id": "Olk5m6RuGFuT",
        "outputId": "23f02d2a-ec55-4aa0-d976-2f8aec02de2e"
      },
      "execution_count": 77,
      "outputs": [
        {
          "output_type": "execute_result",
          "data": {
            "text/plain": [
              "(60000, 28, 28, 1)"
            ]
          },
          "metadata": {},
          "execution_count": 77
        }
      ]
    },
    {
      "cell_type": "code",
      "source": [
        "x_test.shape"
      ],
      "metadata": {
        "colab": {
          "base_uri": "https://localhost:8080/"
        },
        "id": "4uyFVaJNTxhh",
        "outputId": "659710f5-da13-4090-e902-eca52ac65b5c"
      },
      "execution_count": 78,
      "outputs": [
        {
          "output_type": "execute_result",
          "data": {
            "text/plain": [
              "(10000, 28, 28, 1)"
            ]
          },
          "metadata": {},
          "execution_count": 78
        }
      ]
    },
    {
      "cell_type": "code",
      "source": [
        "train_pairs,train_labels=generate_pairs_g(x_train,y_train1)\n"
      ],
      "metadata": {
        "id": "t1rSdJBpFHgo"
      },
      "execution_count": 79,
      "outputs": []
    },
    {
      "cell_type": "code",
      "source": [
        "test_pairs, test_labels=generate_pairs_g(x_test,y_test1)"
      ],
      "metadata": {
        "id": "B2Nfm3fJGEcf"
      },
      "execution_count": 80,
      "outputs": []
    },
    {
      "cell_type": "code",
      "source": [
        "print(train_pairs.shape)\n",
        "print(test_pairs.shape)"
      ],
      "metadata": {
        "colab": {
          "base_uri": "https://localhost:8080/"
        },
        "id": "RZy1ZRR_Ieay",
        "outputId": "fec0de90-8bb1-40d0-aeb3-9cdb32aaf24e"
      },
      "execution_count": 81,
      "outputs": [
        {
          "output_type": "stream",
          "name": "stdout",
          "text": [
            "(120000, 2, 28, 28, 1)\n",
            "(20000, 2, 28, 28, 1)\n"
          ]
        }
      ]
    },
    {
      "cell_type": "code",
      "source": [
        "input=tf.keras.layers.Input(shape=(28,28,1,))\n",
        "l1=tf.keras.layers.Conv2D(32,3, activation='relu')(input)\n",
        "l2=tf.keras.layers.MaxPool2D(pool_size=(2,2))(l1)\n",
        "l3=tf.keras.layers.Flatten()(l2)\n",
        "out=tf.keras.layers.Dense(128)(l3)\n",
        "model=tf.keras.Model(inputs=input, outputs=out)\n",
        "\n"
      ],
      "metadata": {
        "id": "8Zfw5Bm3IffL"
      },
      "execution_count": 82,
      "outputs": []
    },
    {
      "cell_type": "code",
      "source": [
        "def euclidean(vects):\n",
        "  x,y=vects\n",
        "  sum_square=K.sum(K.square(x-y), keepdims=True, axis=1)\n",
        "  return K.sqrt(K.maximum(sum_square,K.epsilon()))"
      ],
      "metadata": {
        "id": "ZD8uivZsJGs3"
      },
      "execution_count": 83,
      "outputs": []
    },
    {
      "cell_type": "code",
      "source": [
        "inp1=tf.keras.layers.Input(shape=(28,28,1,))\n",
        "inp2=tf.keras.layers.Input(shape=(28,28,1,))\n",
        "model1=model(inp1)\n",
        "model2=model(inp2)\n",
        "concat=tf.keras.layers.Lambda(euclidean)([model1,model2])\n",
        "dense=tf.keras.layers.Dense(1, activation='sigmoid')(concat)\n",
        "model_final=tf.keras.Model(inputs=[inp1, inp2], outputs=dense)"
      ],
      "metadata": {
        "id": "KDmVDz-8JgHq"
      },
      "execution_count": 84,
      "outputs": []
    },
    {
      "cell_type": "code",
      "source": [
        "model_final.summary()"
      ],
      "metadata": {
        "colab": {
          "base_uri": "https://localhost:8080/"
        },
        "id": "eNwRU-aEIyBm",
        "outputId": "325fdbc1-9a6a-496d-d905-8bc5da9d48e6"
      },
      "execution_count": 85,
      "outputs": [
        {
          "output_type": "stream",
          "name": "stdout",
          "text": [
            "Model: \"model_3\"\n",
            "__________________________________________________________________________________________________\n",
            " Layer (type)                Output Shape                 Param #   Connected to                  \n",
            "==================================================================================================\n",
            " input_5 (InputLayer)        [(None, 28, 28, 1)]          0         []                            \n",
            "                                                                                                  \n",
            " input_6 (InputLayer)        [(None, 28, 28, 1)]          0         []                            \n",
            "                                                                                                  \n",
            " model_2 (Functional)        (None, 128)                  692672    ['input_5[0][0]',             \n",
            "                                                                     'input_6[0][0]']             \n",
            "                                                                                                  \n",
            " lambda_1 (Lambda)           (None, 1)                    0         ['model_2[0][0]',             \n",
            "                                                                     'model_2[1][0]']             \n",
            "                                                                                                  \n",
            " dense_3 (Dense)             (None, 1)                    2         ['lambda_1[0][0]']            \n",
            "                                                                                                  \n",
            "==================================================================================================\n",
            "Total params: 692674 (2.64 MB)\n",
            "Trainable params: 692674 (2.64 MB)\n",
            "Non-trainable params: 0 (0.00 Byte)\n",
            "__________________________________________________________________________________________________\n"
          ]
        }
      ]
    },
    {
      "cell_type": "code",
      "source": [
        "tf.keras.utils.plot_model(model_final, show_shapes=True)"
      ],
      "metadata": {
        "colab": {
          "base_uri": "https://localhost:8080/",
          "height": 422
        },
        "id": "KBtL_WMJKffN",
        "outputId": "fdff443a-79e2-4e92-a02d-a43827a21645"
      },
      "execution_count": 86,
      "outputs": [
        {
          "output_type": "execute_result",
          "data": {
            "image/png": "[encoded data removed]",
            "text/plain": [
              "<IPython.core.display.Image object>"
            ]
          },
          "metadata": {},
          "execution_count": 86
        }
      ]
    },
    {
      "cell_type": "code",
      "source": [
        "model_final.compile(optimizer='adam', metrics=['accuracy'], loss='binary_crossentropy')"
      ],
      "metadata": {
        "id": "mkGrgjEDJGAn"
      },
      "execution_count": 87,
      "outputs": []
    },
    {
      "cell_type": "code",
      "source": [
        "train_pairs.shape"
      ],
      "metadata": {
        "id": "gQTwTJZuODDU",
        "colab": {
          "base_uri": "https://localhost:8080/"
        },
        "outputId": "6f80e35f-f5e8-4f4b-d0d7-4c8b8b74f2bd"
      },
      "execution_count": 88,
      "outputs": [
        {
          "output_type": "execute_result",
          "data": {
            "text/plain": [
              "(120000, 2, 28, 28, 1)"
            ]
          },
          "metadata": {},
          "execution_count": 88
        }
      ]
    },
    {
      "cell_type": "code",
      "source": [
        "train_labels"
      ],
      "metadata": {
        "colab": {
          "base_uri": "https://localhost:8080/"
        },
        "id": "-PtM3ZPNOEjL",
        "outputId": "0bb42f75-6c9b-4878-f1c4-af82b7eefbd4"
      },
      "execution_count": 89,
      "outputs": [
        {
          "output_type": "execute_result",
          "data": {
            "text/plain": [
              "array([1, 0, 1, ..., 0, 1, 0])"
            ]
          },
          "metadata": {},
          "execution_count": 89
        }
      ]
    },
    {
      "cell_type": "code",
      "source": [
        "h1=model_final.fit([train_pairs[:,0],train_pairs[:,1]],\n",
        "                   train_labels[:],validation_data=([test_pairs[:,0],test_pairs[:,1]],test_labels[:]),\n",
        "                epochs=20)"
      ],
      "metadata": {
        "colab": {
          "base_uri": "https://localhost:8080/"
        },
        "id": "cnyGK46UKKrZ",
        "outputId": "5c4e8fcc-ff11-4862-c85d-18cef89b46d9"
      },
      "execution_count": 90,
      "outputs": [
        {
          "output_type": "stream",
          "name": "stdout",
          "text": [
            "Epoch 1/20\n",
            "3750/3750 [==============================] - 79s 21ms/step - loss: 0.3668 - accuracy: 0.8563 - val_loss: 0.2144 - val_accuracy: 0.9568\n",
            "Epoch 2/20\n",
            "3750/3750 [==============================] - 79s 21ms/step - loss: 0.1579 - accuracy: 0.9659 - val_loss: 0.1227 - val_accuracy: 0.9697\n",
            "Epoch 3/20\n",
            "3750/3750 [==============================] - 79s 21ms/step - loss: 0.0970 - accuracy: 0.9762 - val_loss: 0.0950 - val_accuracy: 0.9715\n",
            "Epoch 4/20\n",
            "3750/3750 [==============================] - 78s 21ms/step - loss: 0.0713 - accuracy: 0.9812 - val_loss: 0.0863 - val_accuracy: 0.9724\n",
            "Epoch 5/20\n",
            "3750/3750 [==============================] - 81s 22ms/step - loss: 0.0572 - accuracy: 0.9844 - val_loss: 0.0736 - val_accuracy: 0.9747\n",
            "Epoch 6/20\n",
            "3750/3750 [==============================] - 79s 21ms/step - loss: 0.0470 - accuracy: 0.9879 - val_loss: 0.0725 - val_accuracy: 0.9740\n",
            "Epoch 7/20\n",
            "3750/3750 [==============================] - 79s 21ms/step - loss: 0.0396 - accuracy: 0.9899 - val_loss: 0.0722 - val_accuracy: 0.9736\n",
            "Epoch 8/20\n",
            "3750/3750 [==============================] - 80s 21ms/step - loss: 0.0335 - accuracy: 0.9917 - val_loss: 0.0695 - val_accuracy: 0.9753\n",
            "Epoch 9/20\n",
            "3750/3750 [==============================] - 78s 21ms/step - loss: 0.0285 - accuracy: 0.9934 - val_loss: 0.0650 - val_accuracy: 0.9762\n",
            "Epoch 10/20\n",
            "3750/3750 [==============================] - 78s 21ms/step - loss: 0.0243 - accuracy: 0.9949 - val_loss: 0.0672 - val_accuracy: 0.9757\n",
            "Epoch 11/20\n",
            "3750/3750 [==============================] - 81s 22ms/step - loss: 0.0211 - accuracy: 0.9957 - val_loss: 0.0694 - val_accuracy: 0.9750\n",
            "Epoch 12/20\n",
            "3750/3750 [==============================] - 79s 21ms/step - loss: 0.0180 - accuracy: 0.9967 - val_loss: 0.0675 - val_accuracy: 0.9757\n",
            "Epoch 13/20\n",
            "3750/3750 [==============================] - 78s 21ms/step - loss: 0.0160 - accuracy: 0.9972 - val_loss: 0.0747 - val_accuracy: 0.9726\n",
            "Epoch 14/20\n",
            "3750/3750 [==============================] - 79s 21ms/step - loss: 0.0137 - accuracy: 0.9981 - val_loss: 0.0690 - val_accuracy: 0.9749\n",
            "Epoch 15/20\n",
            "3750/3750 [==============================] - 78s 21ms/step - loss: 0.0124 - accuracy: 0.9980 - val_loss: 0.0725 - val_accuracy: 0.9740\n",
            "Epoch 16/20\n",
            "3750/3750 [==============================] - 78s 21ms/step - loss: 0.0110 - accuracy: 0.9985 - val_loss: 0.0769 - val_accuracy: 0.9724\n",
            "Epoch 17/20\n",
            "3750/3750 [==============================] - 78s 21ms/step - loss: 0.0095 - accuracy: 0.9987 - val_loss: 0.0807 - val_accuracy: 0.9724\n",
            "Epoch 18/20\n",
            "3750/3750 [==============================] - 79s 21ms/step - loss: 0.0086 - accuracy: 0.9988 - val_loss: 0.0797 - val_accuracy: 0.9723\n",
            "Epoch 19/20\n",
            "3750/3750 [==============================] - 79s 21ms/step - loss: 0.0075 - accuracy: 0.9993 - val_loss: 0.0789 - val_accuracy: 0.9731\n",
            "Epoch 20/20\n",
            "3750/3750 [==============================] - 79s 21ms/step - loss: 0.0069 - accuracy: 0.9993 - val_loss: 0.0755 - val_accuracy: 0.9742\n"
          ]
        }
      ]
    },
    {
      "cell_type": "code",
      "source": [],
      "metadata": {
        "id": "UNrK7Q_ldn-t"
      },
      "execution_count": 90,
      "outputs": []
    },
    {
      "cell_type": "code",
      "source": [
        "import matplotlib.pyplot as plt\n",
        "plt.plot(h1.history['val_accuracy'])\n",
        "plt.plot(h1.history['accuracy'])"
      ],
      "metadata": {
        "colab": {
          "base_uri": "https://localhost:8080/",
          "height": 448
        },
        "id": "8JpspvmwKaCp",
        "outputId": "20d3a908-ae1c-4bcd-a16d-74388e668c77"
      },
      "execution_count": 91,
      "outputs": [
        {
          "output_type": "execute_result",
          "data": {
            "text/plain": [
              "[<matplotlib.lines.Line2D at 0x7bf0588af370>]"
            ]
          },
          "metadata": {},
          "execution_count": 91
        },
        {
          "output_type": "display_data",
          "data": {
            "text/plain": [
              "<Figure size 640x480 with 1 Axes>"
            ],
            "image/png": "[encoded data removed]"
          },
          "metadata": {}
        }
      ]
    },
    {
      "cell_type": "code",
      "source": [],
      "metadata": {
        "id": "e6dweiXFNtkf"
      },
      "execution_count": 91,
      "outputs": []
    }
  ]
}